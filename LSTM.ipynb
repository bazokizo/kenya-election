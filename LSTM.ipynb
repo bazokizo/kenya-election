{
  "nbformat": 4,
  "nbformat_minor": 0,
  "metadata": {
    "colab": {
      "name": "LSTM.ipynb",
      "provenance": [],
      "toc_visible": true,
      "authorship_tag": "ABX9TyPzmPkwzuXaYzd0CnF/d35L",
      "include_colab_link": true
    },
    "kernelspec": {
      "name": "python3",
      "display_name": "Python 3"
    },
    "accelerator": "GPU",
    "widgets": {
      "application/vnd.jupyter.widget-state+json": {
        "b4bac18d3bbe421794605608cbb0a006": {
          "model_module": "@jupyter-widgets/controls",
          "model_name": "HBoxModel",
          "state": {
            "_view_name": "HBoxView",
            "_dom_classes": [],
            "_model_name": "HBoxModel",
            "_view_module": "@jupyter-widgets/controls",
            "_model_module_version": "1.5.0",
            "_view_count": null,
            "_view_module_version": "1.5.0",
            "box_style": "",
            "layout": "IPY_MODEL_45830903299948c288c2b2fd4b65ed69",
            "_model_module": "@jupyter-widgets/controls",
            "children": [
              "IPY_MODEL_46a143eea1af471b8b1ad9d8942195ad",
              "IPY_MODEL_a6eb68a9ae92478f96b3134d1f7084d7"
            ]
          }
        },
        "45830903299948c288c2b2fd4b65ed69": {
          "model_module": "@jupyter-widgets/base",
          "model_name": "LayoutModel",
          "state": {
            "_view_name": "LayoutView",
            "grid_template_rows": null,
            "right": null,
            "justify_content": null,
            "_view_module": "@jupyter-widgets/base",
            "overflow": null,
            "_model_module_version": "1.2.0",
            "_view_count": null,
            "flex_flow": null,
            "width": null,
            "min_width": null,
            "border": null,
            "align_items": null,
            "bottom": null,
            "_model_module": "@jupyter-widgets/base",
            "top": null,
            "grid_column": null,
            "overflow_y": null,
            "overflow_x": null,
            "grid_auto_flow": null,
            "grid_area": null,
            "grid_template_columns": null,
            "flex": null,
            "_model_name": "LayoutModel",
            "justify_items": null,
            "grid_row": null,
            "max_height": null,
            "align_content": null,
            "visibility": null,
            "align_self": null,
            "height": null,
            "min_height": null,
            "padding": null,
            "grid_auto_rows": null,
            "grid_gap": null,
            "max_width": null,
            "order": null,
            "_view_module_version": "1.2.0",
            "grid_template_areas": null,
            "object_position": null,
            "object_fit": null,
            "grid_auto_columns": null,
            "margin": null,
            "display": null,
            "left": null
          }
        },
        "46a143eea1af471b8b1ad9d8942195ad": {
          "model_module": "@jupyter-widgets/controls",
          "model_name": "FloatProgressModel",
          "state": {
            "_view_name": "ProgressView",
            "style": "IPY_MODEL_cd6d8e208b5b417e89968f3471d62001",
            "_dom_classes": [],
            "description": "  2%",
            "_model_name": "FloatProgressModel",
            "bar_style": "",
            "max": 271972,
            "_view_module": "@jupyter-widgets/controls",
            "_model_module_version": "1.5.0",
            "value": 6513,
            "_view_count": null,
            "_view_module_version": "1.5.0",
            "orientation": "horizontal",
            "min": 0,
            "description_tooltip": null,
            "_model_module": "@jupyter-widgets/controls",
            "layout": "IPY_MODEL_c53522ed45d541fe9919ab01a5697791"
          }
        },
        "a6eb68a9ae92478f96b3134d1f7084d7": {
          "model_module": "@jupyter-widgets/controls",
          "model_name": "HTMLModel",
          "state": {
            "_view_name": "HTMLView",
            "style": "IPY_MODEL_589ccfb87bea4ade8c580990cd0cbe6b",
            "_dom_classes": [],
            "description": "",
            "_model_name": "HTMLModel",
            "placeholder": "​",
            "_view_module": "@jupyter-widgets/controls",
            "_model_module_version": "1.5.0",
            "value": " 6513/271972 [06:02&lt;5:11:08, 14.22it/s]",
            "_view_count": null,
            "_view_module_version": "1.5.0",
            "description_tooltip": null,
            "_model_module": "@jupyter-widgets/controls",
            "layout": "IPY_MODEL_3b0f01bd832049db9e567bc7647a1c84"
          }
        },
        "cd6d8e208b5b417e89968f3471d62001": {
          "model_module": "@jupyter-widgets/controls",
          "model_name": "ProgressStyleModel",
          "state": {
            "_view_name": "StyleView",
            "_model_name": "ProgressStyleModel",
            "description_width": "initial",
            "_view_module": "@jupyter-widgets/base",
            "_model_module_version": "1.5.0",
            "_view_count": null,
            "_view_module_version": "1.2.0",
            "bar_color": null,
            "_model_module": "@jupyter-widgets/controls"
          }
        },
        "c53522ed45d541fe9919ab01a5697791": {
          "model_module": "@jupyter-widgets/base",
          "model_name": "LayoutModel",
          "state": {
            "_view_name": "LayoutView",
            "grid_template_rows": null,
            "right": null,
            "justify_content": null,
            "_view_module": "@jupyter-widgets/base",
            "overflow": null,
            "_model_module_version": "1.2.0",
            "_view_count": null,
            "flex_flow": null,
            "width": null,
            "min_width": null,
            "border": null,
            "align_items": null,
            "bottom": null,
            "_model_module": "@jupyter-widgets/base",
            "top": null,
            "grid_column": null,
            "overflow_y": null,
            "overflow_x": null,
            "grid_auto_flow": null,
            "grid_area": null,
            "grid_template_columns": null,
            "flex": null,
            "_model_name": "LayoutModel",
            "justify_items": null,
            "grid_row": null,
            "max_height": null,
            "align_content": null,
            "visibility": null,
            "align_self": null,
            "height": null,
            "min_height": null,
            "padding": null,
            "grid_auto_rows": null,
            "grid_gap": null,
            "max_width": null,
            "order": null,
            "_view_module_version": "1.2.0",
            "grid_template_areas": null,
            "object_position": null,
            "object_fit": null,
            "grid_auto_columns": null,
            "margin": null,
            "display": null,
            "left": null
          }
        },
        "589ccfb87bea4ade8c580990cd0cbe6b": {
          "model_module": "@jupyter-widgets/controls",
          "model_name": "DescriptionStyleModel",
          "state": {
            "_view_name": "StyleView",
            "_model_name": "DescriptionStyleModel",
            "description_width": "",
            "_view_module": "@jupyter-widgets/base",
            "_model_module_version": "1.5.0",
            "_view_count": null,
            "_view_module_version": "1.2.0",
            "_model_module": "@jupyter-widgets/controls"
          }
        },
        "3b0f01bd832049db9e567bc7647a1c84": {
          "model_module": "@jupyter-widgets/base",
          "model_name": "LayoutModel",
          "state": {
            "_view_name": "LayoutView",
            "grid_template_rows": null,
            "right": null,
            "justify_content": null,
            "_view_module": "@jupyter-widgets/base",
            "overflow": null,
            "_model_module_version": "1.2.0",
            "_view_count": null,
            "flex_flow": null,
            "width": null,
            "min_width": null,
            "border": null,
            "align_items": null,
            "bottom": null,
            "_model_module": "@jupyter-widgets/base",
            "top": null,
            "grid_column": null,
            "overflow_y": null,
            "overflow_x": null,
            "grid_auto_flow": null,
            "grid_area": null,
            "grid_template_columns": null,
            "flex": null,
            "_model_name": "LayoutModel",
            "justify_items": null,
            "grid_row": null,
            "max_height": null,
            "align_content": null,
            "visibility": null,
            "align_self": null,
            "height": null,
            "min_height": null,
            "padding": null,
            "grid_auto_rows": null,
            "grid_gap": null,
            "max_width": null,
            "order": null,
            "_view_module_version": "1.2.0",
            "grid_template_areas": null,
            "object_position": null,
            "object_fit": null,
            "grid_auto_columns": null,
            "margin": null,
            "display": null,
            "left": null
          }
        }
      }
    }
  },
  "cells": [
    {
      "cell_type": "markdown",
      "metadata": {
        "id": "view-in-github",
        "colab_type": "text"
      },
      "source": [
        "<a href=\"https://colab.research.google.com/github/sydney-machine-learning/sentimentanalysis-USelections/blob/main/LSTM.ipynb\" target=\"_parent\"><img src=\"https://colab.research.google.com/assets/colab-badge.svg\" alt=\"Open In Colab\"/></a>"
      ]
    },
    {
      "cell_type": "markdown",
      "metadata": {
        "id": "lOePlIwuLGNf"
      },
      "source": [
        "# Sentiment Analysis using LSTM and Keras"
      ]
    },
    {
      "cell_type": "code",
      "metadata": {
        "id": "5Dyl3HLpLB70"
      },
      "source": [
        "import pandas as pd    # to load dataset\r\n",
        "import numpy as np     # for mathematic equation\r\n",
        "from nltk.corpus import stopwords   # to get collection of stopwords\r\n",
        "from sklearn.model_selection import train_test_split       # for splitting dataset\r\n",
        "from tensorflow.keras.preprocessing.text import Tokenizer  # to encode text to int\r\n",
        "from tensorflow.keras.preprocessing.sequence import pad_sequences   # to do padding or truncating\r\n",
        "from tensorflow.keras.models import Sequential     # the model\r\n",
        "from tensorflow.keras.layers import Embedding, LSTM, Dense # layers of the architecture\r\n",
        "from tensorflow.keras.callbacks import ModelCheckpoint   # save model\r\n",
        "from tensorflow.keras.models import load_model   # load saved model\r\n",
        "import re\r\n",
        "import tensorflow as tf\r\n",
        "import pandas as pd"
      ],
      "execution_count": 2,
      "outputs": []
    },
    {
      "cell_type": "code",
      "metadata": {
        "colab": {
          "base_uri": "https://localhost:8080/"
        },
        "id": "aHBrlQUoM9Gd",
        "outputId": "08f5ccf9-26b6-44de-e2e3-a7fbb0f4dab0"
      },
      "source": [
        "from google.colab import drive\n",
        "drive.mount('/content/drive')"
      ],
      "execution_count": 8,
      "outputs": [
        {
          "output_type": "stream",
          "text": [
            "Mounted at /content/drive\n"
          ],
          "name": "stdout"
        }
      ]
    },
    {
      "cell_type": "code",
      "metadata": {
        "colab": {
          "base_uri": "https://localhost:8080/"
        },
        "id": "JBYdzfe0NLNG",
        "outputId": "041f647c-a87e-42f7-a4ca-5112d9fd0f32"
      },
      "source": [
        "data = pd.read_csv('/content/drive/MyDrive/US_elections/LSTM/IMDB Dataset.csv')\r\n",
        "\r\n",
        "print(data)"
      ],
      "execution_count": 9,
      "outputs": [
        {
          "output_type": "stream",
          "text": [
            "                                                  review sentiment\n",
            "0      One of the other reviewers has mentioned that ...  positive\n",
            "1      A wonderful little production. <br /><br />The...  positive\n",
            "2      I thought this was a wonderful way to spend ti...  positive\n",
            "3      Basically there's a family where a little boy ...  negative\n",
            "4      Petter Mattei's \"Love in the Time of Money\" is...  positive\n",
            "...                                                  ...       ...\n",
            "49995  I thought this movie did a down right good job...  positive\n",
            "49996  Bad plot, bad dialogue, bad acting, idiotic di...  negative\n",
            "49997  I am a Catholic taught in parochial elementary...  negative\n",
            "49998  I'm going to have to disagree with the previou...  negative\n",
            "49999  No one expects the Star Trek movies to be high...  negative\n",
            "\n",
            "[50000 rows x 2 columns]\n"
          ],
          "name": "stdout"
        }
      ]
    },
    {
      "cell_type": "code",
      "metadata": {
        "id": "IQvmimbaNT6O"
      },
      "source": [
        "english_stops = set(stopwords.words('english'))"
      ],
      "execution_count": 11,
      "outputs": []
    },
    {
      "cell_type": "markdown",
      "metadata": {
        "id": "apZjZEDaNcPg"
      },
      "source": [
        "## Load and Clean Dataset\r\n",
        "In the original dataset, the reviews are still dirty. There are still html tags, numbers, uppercase, and punctuations. This will not be good for training, so in load_dataset() function, beside loading the dataset using pandas, I also pre-process the reviews by removing html tags, non alphabet (punctuations and numbers), stop words, and lower case all of the reviews.\r\n",
        "\r\n",
        "## Encode Sentiments\r\n",
        "In the same function, I also encode the sentiments into integers (0 and 1). Where 0 is for negative sentiments and 1 is for positive sentiments."
      ]
    },
    {
      "cell_type": "code",
      "metadata": {
        "colab": {
          "base_uri": "https://localhost:8080/"
        },
        "id": "d8xYPJ3DNWZP",
        "outputId": "38a6f023-294b-4ef3-9484-25200f779341"
      },
      "source": [
        "def load_dataset():\r\n",
        "    df = pd.read_csv('/content/drive/MyDrive/US_elections/LSTM/IMDB Dataset.csv')\r\n",
        "    x_data = df['review']       # Reviews/Input\r\n",
        "    y_data = df['sentiment']    # Sentiment/Output\r\n",
        "\r\n",
        "    # PRE-PROCESS REVIEW\r\n",
        "    x_data = x_data.replace({'<.*?>': ''}, regex = True)          # remove html tag\r\n",
        "    x_data = x_data.replace({'[^A-Za-z]': ' '}, regex = True)     # remove non alphabet\r\n",
        "    x_data = x_data.apply(lambda review: [w for w in review.split() if w not in english_stops])  # remove stop words\r\n",
        "    x_data = x_data.apply(lambda review: [w.lower() for w in review])   # lower case\r\n",
        "    \r\n",
        "    # ENCODE SENTIMENT -> 0 & 1\r\n",
        "    y_data = y_data.replace('positive', 1)\r\n",
        "    y_data = y_data.replace('negative', 0)\r\n",
        "\r\n",
        "    return x_data, y_data\r\n",
        "\r\n",
        "x_data, y_data = load_dataset()\r\n",
        "\r\n",
        "print('Reviews')\r\n",
        "print(x_data, '\\n')\r\n",
        "print('Sentiment')\r\n",
        "print(y_data)"
      ],
      "execution_count": 12,
      "outputs": [
        {
          "output_type": "stream",
          "text": [
            "Reviews\n",
            "0        [one, reviewers, mentioned, watching, oz, epis...\n",
            "1        [a, wonderful, little, production, the, filmin...\n",
            "2        [i, thought, wonderful, way, spend, time, hot,...\n",
            "3        [basically, family, little, boy, jake, thinks,...\n",
            "4        [petter, mattei, love, time, money, visually, ...\n",
            "                               ...                        \n",
            "49995    [i, thought, movie, right, good, job, it, crea...\n",
            "49996    [bad, plot, bad, dialogue, bad, acting, idioti...\n",
            "49997    [i, catholic, taught, parochial, elementary, s...\n",
            "49998    [i, going, disagree, previous, comment, side, ...\n",
            "49999    [no, one, expects, star, trek, movies, high, a...\n",
            "Name: review, Length: 50000, dtype: object \n",
            "\n",
            "Sentiment\n",
            "0        1\n",
            "1        1\n",
            "2        1\n",
            "3        0\n",
            "4        1\n",
            "        ..\n",
            "49995    1\n",
            "49996    0\n",
            "49997    0\n",
            "49998    0\n",
            "49999    0\n",
            "Name: sentiment, Length: 50000, dtype: int64\n"
          ],
          "name": "stdout"
        }
      ]
    },
    {
      "cell_type": "markdown",
      "metadata": {
        "id": "GLZ24hlbNuik"
      },
      "source": [
        "## Split Dataset\r\n"
      ]
    },
    {
      "cell_type": "code",
      "metadata": {
        "colab": {
          "base_uri": "https://localhost:8080/"
        },
        "id": "Rb4AMEZONnHg",
        "outputId": "30c358bb-e7ad-42bd-e846-c6eead2971a4"
      },
      "source": [
        "x_train, x_test, y_train, y_test = train_test_split(x_data, y_data, test_size = 0.2)\r\n",
        "\r\n",
        "print('Train Set')\r\n",
        "print(x_train, '\\n')\r\n",
        "print(x_test, '\\n')\r\n",
        "print('Test Set')\r\n",
        "print(y_train, '\\n')\r\n",
        "print(y_test)"
      ],
      "execution_count": 13,
      "outputs": [
        {
          "output_type": "stream",
          "text": [
            "Train Set\n",
            "395      [i, commented, first, debuted, gave, thumbs, m...\n",
            "31098    [for, made, tv, movie, i, thought, great, popc...\n",
            "27456    [first, foremost, zorie, barber, zeke, might, ...\n",
            "44868    [i, glad, see, people, think, much, movie, eit...\n",
            "4285     [you, know, trouble, opening, narration, basic...\n",
            "                               ...                        \n",
            "4704     [i, remember, seeing, one, theatres, came, ide...\n",
            "27048    [i, think, i, ever, understand, hate, renny, h...\n",
            "13852    [a, confusing, senseless, script, plot, holes,...\n",
            "36868    [thank, hollywood, yet, another, movie, classi...\n",
            "48675    [if, like, soap, series, might, like, film, i,...\n",
            "Name: review, Length: 40000, dtype: object \n",
            "\n",
            "41734    [i, served, corpsman, parris, island, late, li...\n",
            "45619    [this, could, underrated, movie, genre, i, rem...\n",
            "45163    [this, would, never, expected, ending, already...\n",
            "10142    [when, i, rented, movie, i, low, expectations,...\n",
            "5478     [absolutely, worst, film, yet, burton, seems, ...\n",
            "                               ...                        \n",
            "33921    [welcome, collinwood, lot, things, none, follo...\n",
            "6686     [easily, film, director, continue, grow, admir...\n",
            "32404    [after, watching, film, i, thought, really, gl...\n",
            "17825    [this, sickly, sweet, laboriously, paced, reel...\n",
            "47021    [an, especially, delightful, film, us, saw, yo...\n",
            "Name: review, Length: 10000, dtype: object \n",
            "\n",
            "Test Set\n",
            "395      0\n",
            "31098    1\n",
            "27456    0\n",
            "44868    0\n",
            "4285     0\n",
            "        ..\n",
            "4704     1\n",
            "27048    1\n",
            "13852    0\n",
            "36868    0\n",
            "48675    0\n",
            "Name: sentiment, Length: 40000, dtype: int64 \n",
            "\n",
            "41734    1\n",
            "45619    1\n",
            "45163    1\n",
            "10142    0\n",
            "5478     0\n",
            "        ..\n",
            "33921    1\n",
            "6686     1\n",
            "32404    0\n",
            "17825    0\n",
            "47021    1\n",
            "Name: sentiment, Length: 10000, dtype: int64\n"
          ],
          "name": "stdout"
        }
      ]
    },
    {
      "cell_type": "code",
      "metadata": {
        "id": "rUngYm-sNwoH"
      },
      "source": [
        "def get_max_length():\r\n",
        "    review_length = []\r\n",
        "    for review in x_train:\r\n",
        "        review_length.append(len(review))\r\n",
        "\r\n",
        "    return int(np.ceil(np.mean(review_length)))"
      ],
      "execution_count": 14,
      "outputs": []
    },
    {
      "cell_type": "markdown",
      "metadata": {
        "id": "zW6qbnhYN4dN"
      },
      "source": [
        "## Tokenize and Pad/Truncate Reviews\r\n",
        "\r\n",
        "A Neural Network only accepts numeric data, so we need to encode the reviews. I use tensorflow.keras.preprocessing.text.Tokenizer to encode the reviews into integers, where each unique word is automatically indexed (using fit_on_texts method) based on x_train.\r\n",
        "x_train and x_test is converted into integers using texts_to_sequences method.\r\n",
        "\r\n",
        "Each reviews has a different length, so we need to add padding (by adding 0) or truncating the words to the same length (in this case, it is the mean of all reviews length) using tensorflow.keras.preprocessing.sequence.pad_sequences.\r\n",
        "\r\n",
        "post, pad or truncate the words in the back of a sentence\r\n",
        "pre, pad or truncate the words in front of a sentence"
      ]
    },
    {
      "cell_type": "code",
      "metadata": {
        "colab": {
          "base_uri": "https://localhost:8080/"
        },
        "id": "99kzmaqQN11r",
        "outputId": "5de7913b-11a7-4d54-cfff-8ded5b5a50d9"
      },
      "source": [
        "\r\n",
        "# ENCODE REVIEW\r\n",
        "token = Tokenizer(lower=False)    # no need lower, because already lowered the data in load_data()\r\n",
        "token.fit_on_texts(x_train)\r\n",
        "x_train = token.texts_to_sequences(x_train)\r\n",
        "x_test = token.texts_to_sequences(x_test)\r\n",
        "\r\n",
        "max_length = get_max_length()\r\n",
        "\r\n",
        "x_train = pad_sequences(x_train, maxlen=max_length, padding='post', truncating='post')\r\n",
        "x_test = pad_sequences(x_test, maxlen=max_length, padding='post', truncating='post')\r\n",
        "\r\n",
        "total_words = len(token.word_index) + 1   # add 1 because of 0 padding\r\n",
        "\r\n",
        "print('Encoded X Train\\n', x_train, '\\n')\r\n",
        "print('Encoded X Test\\n', x_test, '\\n')\r\n",
        "print('Maximum review length: ', max_length)"
      ],
      "execution_count": 15,
      "outputs": [
        {
          "output_type": "stream",
          "text": [
            "Encoded X Train\n",
            " [[    1  3890    23 ...   457   244   332]\n",
            " [  203    24   141 ...     0     0     0]\n",
            " [   23  7141 46023 ...   174    92   666]\n",
            " ...\n",
            " [   39  1307  4852 ...     0     0     0]\n",
            " [ 1269   253   150 ...    25  1613   192]\n",
            " [   54     6  1802 ...     0     0     0]] \n",
            "\n",
            "Encoded X Test\n",
            " [[    1  2677 32216 ...     0     0     0]\n",
            " [    8    27  2091 ...  2323    18   443]\n",
            " [    8    12    40 ...     0     0     0]\n",
            " ...\n",
            " [  307    66     4 ...  3205 14073  2735]\n",
            " [    8 11034   981 ...     0     0     0]\n",
            " [  697   167  2101 ...  3140    41   327]] \n",
            "\n",
            "Maximum review length:  130\n"
          ],
          "name": "stdout"
        }
      ]
    },
    {
      "cell_type": "markdown",
      "metadata": {
        "id": "VwdL42nCOCWu"
      },
      "source": [
        "## Build Architecture/Model\r\n",
        "\r\n",
        "**Embedding Layer:** in simple terms, it creates word vectors of each word in the word_index and group words that are related or have similar meaning by analyzing other words around them.\r\n",
        "\r\n",
        "**LSTM Layer:** to make a decision to keep or throw away data by considering the current input, previous output, and previous memory. There are some important components in LSTM.\r\n",
        "\r\n",
        "- **Forget Gate**, decides information is to be kept or thrown away\r\n",
        "- Input Gate, updates cell state by passing previous output and current input into sigmoid activation function\r\n",
        "- **Cell State**, calculate new cell state, it is multiplied by forget vector (drop value if multiplied by a near 0), add it with the output from input gate to update the cell state value.\r\n",
        "- **Ouput Gate**, decides the next hidden state and used for predictions\r\n",
        "\r\n",
        "**Dense Layer:** compute the input with the weight matrix and bias (optional), and using an activation function. I use Sigmoid activation function for this work because the output is only 0 or 1.\r\n",
        "\r\n",
        "The optimizer is Adam and the loss function is Binary Crossentropy because again the output is only 0 and 1, which is a binary number."
      ]
    },
    {
      "cell_type": "code",
      "metadata": {
        "colab": {
          "base_uri": "https://localhost:8080/"
        },
        "id": "X9Jk16NAN-4u",
        "outputId": "3e03991d-2c9d-4774-cf3e-0377fccb97e0"
      },
      "source": [
        "\r\n",
        "# ARCHITECTURE\r\n",
        "EMBED_DIM = 32\r\n",
        "LSTM_OUT = 64\r\n",
        "\r\n",
        "model = Sequential()\r\n",
        "model.add(Embedding(total_words, EMBED_DIM, input_length = max_length))\r\n",
        "model.add(LSTM(LSTM_OUT))\r\n",
        "model.add(Dense(1, activation='sigmoid'))\r\n",
        "model.compile(optimizer = 'adam', loss = 'binary_crossentropy', metrics = ['accuracy'])\r\n",
        "\r\n",
        "print(model.summary())"
      ],
      "execution_count": 16,
      "outputs": [
        {
          "output_type": "stream",
          "text": [
            "Model: \"sequential\"\n",
            "_________________________________________________________________\n",
            "Layer (type)                 Output Shape              Param #   \n",
            "=================================================================\n",
            "embedding (Embedding)        (None, 130, 32)           2955424   \n",
            "_________________________________________________________________\n",
            "lstm (LSTM)                  (None, 64)                24832     \n",
            "_________________________________________________________________\n",
            "dense (Dense)                (None, 1)                 65        \n",
            "=================================================================\n",
            "Total params: 2,980,321\n",
            "Trainable params: 2,980,321\n",
            "Non-trainable params: 0\n",
            "_________________________________________________________________\n",
            "None\n"
          ],
          "name": "stdout"
        }
      ]
    },
    {
      "cell_type": "code",
      "metadata": {
        "id": "FwBwe39zOYJI"
      },
      "source": [
        "checkpoint = ModelCheckpoint(\r\n",
        "    '/content/drive/MyDrive/US_elections/LSTM/LSTM.h5',\r\n",
        "    monitor='accuracy',\r\n",
        "    save_best_only=True,\r\n",
        "    verbose=1\r\n",
        ")"
      ],
      "execution_count": 17,
      "outputs": []
    },
    {
      "cell_type": "code",
      "metadata": {
        "colab": {
          "base_uri": "https://localhost:8080/"
        },
        "id": "Zvhj3IKdOjYj",
        "outputId": "e6401df8-7f49-407f-b639-72524c354193"
      },
      "source": [
        "model.fit(x_train, y_train, batch_size = 128, epochs = 5, callbacks=[checkpoint])"
      ],
      "execution_count": 20,
      "outputs": [
        {
          "output_type": "stream",
          "text": [
            "Epoch 1/5\n",
            "313/313 [==============================] - 11s 35ms/step - loss: 0.0587 - accuracy: 0.9845\n",
            "\n",
            "Epoch 00001: accuracy improved from 0.98400 to 0.98453, saving model to /content/drive/MyDrive/US_elections/LSTM/LSTM.h5\n",
            "Epoch 2/5\n",
            "313/313 [==============================] - 11s 35ms/step - loss: 0.0424 - accuracy: 0.9901\n",
            "\n",
            "Epoch 00002: accuracy improved from 0.98453 to 0.99010, saving model to /content/drive/MyDrive/US_elections/LSTM/LSTM.h5\n",
            "Epoch 3/5\n",
            "313/313 [==============================] - 11s 34ms/step - loss: 0.0322 - accuracy: 0.9934\n",
            "\n",
            "Epoch 00003: accuracy improved from 0.99010 to 0.99335, saving model to /content/drive/MyDrive/US_elections/LSTM/LSTM.h5\n",
            "Epoch 4/5\n",
            "313/313 [==============================] - 11s 35ms/step - loss: 0.0358 - accuracy: 0.9916\n",
            "\n",
            "Epoch 00004: accuracy did not improve from 0.99335\n",
            "Epoch 5/5\n",
            "313/313 [==============================] - 11s 34ms/step - loss: 0.0353 - accuracy: 0.9917\n",
            "\n",
            "Epoch 00005: accuracy did not improve from 0.99335\n"
          ],
          "name": "stdout"
        },
        {
          "output_type": "execute_result",
          "data": {
            "text/plain": [
              "<tensorflow.python.keras.callbacks.History at 0x7f2da0f01780>"
            ]
          },
          "metadata": {
            "tags": []
          },
          "execution_count": 20
        }
      ]
    },
    {
      "cell_type": "markdown",
      "metadata": {
        "id": "I2cXl9vXOoHY"
      },
      "source": [
        "\r\n",
        "## Testing\r\n",
        "\r\n",
        "To evaluate the model, we need to predict the sentiment using our **x_test** data and comparing the predictions with y_test (expected output) data. Then, we calculate the accuracy of the model by dividing numbers of correct prediction with the total data. Resulted an accuracy of **86.63%**"
      ]
    },
    {
      "cell_type": "code",
      "metadata": {
        "colab": {
          "base_uri": "https://localhost:8080/"
        },
        "id": "OC-t2EwBOk8O",
        "outputId": "c0938629-de51-458b-f6ae-2c058dc4998c"
      },
      "source": [
        "\r\n",
        "y_pred = model.predict_classes(x_test, batch_size = 128)\r\n",
        "\r\n",
        "true = 0\r\n",
        "for i, y in enumerate(y_test):\r\n",
        "    if y == y_pred[i]:\r\n",
        "        true += 1\r\n",
        "\r\n",
        "print('Correct Prediction: {}'.format(true))\r\n",
        "print('Wrong Prediction: {}'.format(len(y_pred) - true))\r\n",
        "print('Accuracy: {}'.format(true/len(y_pred)*100))"
      ],
      "execution_count": 21,
      "outputs": [
        {
          "output_type": "stream",
          "text": [
            "/usr/local/lib/python3.6/dist-packages/tensorflow/python/keras/engine/sequential.py:450: UserWarning: `model.predict_classes()` is deprecated and will be removed after 2021-01-01. Please use instead:* `np.argmax(model.predict(x), axis=-1)`,   if your model does multi-class classification   (e.g. if it uses a `softmax` last-layer activation).* `(model.predict(x) > 0.5).astype(\"int32\")`,   if your model does binary classification   (e.g. if it uses a `sigmoid` last-layer activation).\n",
            "  warnings.warn('`model.predict_classes()` is deprecated and '\n"
          ],
          "name": "stderr"
        },
        {
          "output_type": "stream",
          "text": [
            "Correct Prediction: 8674\n",
            "Wrong Prediction: 1326\n",
            "Accuracy: 86.74\n"
          ],
          "name": "stdout"
        }
      ]
    },
    {
      "cell_type": "markdown",
      "metadata": {
        "id": "e9JT5lidP7XW"
      },
      "source": [
        "## Load Saved Model\r\n",
        "\r\n",
        "Load saved model and use it to predict a movie review statement's sentiment (positive or negative)"
      ]
    },
    {
      "cell_type": "code",
      "metadata": {
        "id": "bkahGprwOxWI"
      },
      "source": [
        "loaded_model = load_model('/content/drive/MyDrive/US_elections/LSTM/LSTM.h5')"
      ],
      "execution_count": 22,
      "outputs": []
    },
    {
      "cell_type": "markdown",
      "metadata": {
        "id": "Fp0ShOc_QF0V"
      },
      "source": [
        "Receives a review as an input to be predicted"
      ]
    },
    {
      "cell_type": "code",
      "metadata": {
        "colab": {
          "base_uri": "https://localhost:8080/"
        },
        "id": "679dASPGQFLN",
        "outputId": "0cbff5ef-9c62-4795-f893-40fb45700055"
      },
      "source": [
        "review = str(input('Movie Review: '))"
      ],
      "execution_count": 23,
      "outputs": [
        {
          "output_type": "stream",
          "text": [
            "Movie Review: Nothing was typical about this. Everything was beautifully done in this movie, the story, the flow, the scenario, everything. I highly recommend it for mystery lovers, for anyone who wants to watch a good movie!\n"
          ],
          "name": "stdout"
        }
      ]
    },
    {
      "cell_type": "markdown",
      "metadata": {
        "id": "qV2VO1BpQOC0"
      },
      "source": [
        "The input must be pre processed before it is passed to the model to be predicted"
      ]
    },
    {
      "cell_type": "code",
      "metadata": {
        "colab": {
          "base_uri": "https://localhost:8080/"
        },
        "id": "sblaYgLmQC6u",
        "outputId": "932b4fb5-97ef-44d4-b9ef-a13b9de7feb7"
      },
      "source": [
        "# Pre-process input\r\n",
        "regex = re.compile(r'[^a-zA-Z\\s]')\r\n",
        "review = regex.sub('', review)\r\n",
        "print('Cleaned: ', review)\r\n",
        "\r\n",
        "words = review.split(' ')\r\n",
        "filtered = [w for w in words if w not in english_stops]\r\n",
        "filtered = ' '.join(filtered)\r\n",
        "filtered = [filtered.lower()]\r\n",
        "\r\n",
        "print('Filtered: ', filtered)"
      ],
      "execution_count": 24,
      "outputs": [
        {
          "output_type": "stream",
          "text": [
            "Cleaned:  Nothing was typical about this Everything was beautifully done in this movie the story the flow the scenario everything I highly recommend it for mystery lovers for anyone who wants to watch a good movie\n",
            "Filtered:  ['nothing typical everything beautifully done movie story flow scenario everything i highly recommend mystery lovers anyone wants watch good movie']\n"
          ],
          "name": "stdout"
        }
      ]
    },
    {
      "cell_type": "code",
      "metadata": {
        "colab": {
          "base_uri": "https://localhost:8080/"
        },
        "id": "9HgxPTw6QPxX",
        "outputId": "a6389370-2a20-4fa8-df77-fe17e7abc7f7"
      },
      "source": [
        "tokenize_words = token.texts_to_sequences(filtered)\r\n",
        "tokenize_words = pad_sequences(tokenize_words, maxlen=max_length, padding='post', truncating='post')\r\n",
        "print(tokenize_words)"
      ],
      "execution_count": 25,
      "outputs": [
        {
          "output_type": "stream",
          "text": [
            "[[  76  680  169 1188  125    3   15 2651 2642  169    1  444  285  706\n",
            "  1721  151  400   34    9    3    0    0    0    0    0    0    0    0\n",
            "     0    0    0    0    0    0    0    0    0    0    0    0    0    0\n",
            "     0    0    0    0    0    0    0    0    0    0    0    0    0    0\n",
            "     0    0    0    0    0    0    0    0    0    0    0    0    0    0\n",
            "     0    0    0    0    0    0    0    0    0    0    0    0    0    0\n",
            "     0    0    0    0    0    0    0    0    0    0    0    0    0    0\n",
            "     0    0    0    0    0    0    0    0    0    0    0    0    0    0\n",
            "     0    0    0    0    0    0    0    0    0    0    0    0    0    0\n",
            "     0    0    0    0]]\n"
          ],
          "name": "stdout"
        }
      ]
    },
    {
      "cell_type": "code",
      "metadata": {
        "colab": {
          "base_uri": "https://localhost:8080/"
        },
        "id": "AJvw15txQSqE",
        "outputId": "196217d9-be33-4464-c787-33875ace15d5"
      },
      "source": [
        "result = loaded_model.predict(tokenize_words)\r\n",
        "print(result)"
      ],
      "execution_count": 26,
      "outputs": [
        {
          "output_type": "stream",
          "text": [
            "[[0.99802494]]\n"
          ],
          "name": "stdout"
        }
      ]
    },
    {
      "cell_type": "code",
      "metadata": {
        "colab": {
          "base_uri": "https://localhost:8080/"
        },
        "id": "3NumKa_UQVn1",
        "outputId": "2f47d133-1b08-417c-b734-fca00d353bc2"
      },
      "source": [
        "if result >= 0.7:\r\n",
        "    print('positive')\r\n",
        "else:\r\n",
        "    print('negative')"
      ],
      "execution_count": 27,
      "outputs": [
        {
          "output_type": "stream",
          "text": [
            "positive\n"
          ],
          "name": "stdout"
        }
      ]
    },
    {
      "cell_type": "markdown",
      "metadata": {
        "id": "exkkcbkzRg2W"
      },
      "source": [
        "## Testing this on tweet data"
      ]
    },
    {
      "cell_type": "code",
      "metadata": {
        "colab": {
          "base_uri": "https://localhost:8080/"
        },
        "id": "lbw3zst_QZd4",
        "outputId": "c0fda363-9b4c-4ec6-fed1-eab400e3536b"
      },
      "source": [
        "!pip install transformers command\r\n",
        "from transformers import BertTokenizer, TFBertForSequenceClassification\r\n",
        "\r\n",
        "# model = TFBertForSequenceClassification.from_pretrained(\"bert-base-uncased\")\r\n",
        "# tokenizer = BertTokenizer.from_pretrained(\"bert-base-uncased\")"
      ],
      "execution_count": 30,
      "outputs": [
        {
          "output_type": "stream",
          "text": [
            "Requirement already satisfied: transformers in /usr/local/lib/python3.6/dist-packages (4.2.1)\n",
            "Requirement already satisfied: command in /usr/local/lib/python3.6/dist-packages (0.1.0)\n",
            "Requirement already satisfied: packaging in /usr/local/lib/python3.6/dist-packages (from transformers) (20.8)\n",
            "Requirement already satisfied: dataclasses; python_version < \"3.7\" in /usr/local/lib/python3.6/dist-packages (from transformers) (0.8)\n",
            "Requirement already satisfied: importlib-metadata; python_version < \"3.8\" in /usr/local/lib/python3.6/dist-packages (from transformers) (3.3.0)\n",
            "Requirement already satisfied: numpy in /usr/local/lib/python3.6/dist-packages (from transformers) (1.19.5)\n",
            "Requirement already satisfied: tokenizers==0.9.4 in /usr/local/lib/python3.6/dist-packages (from transformers) (0.9.4)\n",
            "Requirement already satisfied: requests in /usr/local/lib/python3.6/dist-packages (from transformers) (2.23.0)\n",
            "Requirement already satisfied: sacremoses in /usr/local/lib/python3.6/dist-packages (from transformers) (0.0.43)\n",
            "Requirement already satisfied: filelock in /usr/local/lib/python3.6/dist-packages (from transformers) (3.0.12)\n",
            "Requirement already satisfied: regex!=2019.12.17 in /usr/local/lib/python3.6/dist-packages (from transformers) (2019.12.20)\n",
            "Requirement already satisfied: tqdm>=4.27 in /usr/local/lib/python3.6/dist-packages (from transformers) (4.41.1)\n",
            "Requirement already satisfied: setuptools in /usr/local/lib/python3.6/dist-packages (from command) (51.1.1)\n",
            "Requirement already satisfied: pyparsing>=2.0.2 in /usr/local/lib/python3.6/dist-packages (from packaging->transformers) (2.4.7)\n",
            "Requirement already satisfied: typing-extensions>=3.6.4; python_version < \"3.8\" in /usr/local/lib/python3.6/dist-packages (from importlib-metadata; python_version < \"3.8\"->transformers) (3.7.4.3)\n",
            "Requirement already satisfied: zipp>=0.5 in /usr/local/lib/python3.6/dist-packages (from importlib-metadata; python_version < \"3.8\"->transformers) (3.4.0)\n",
            "Requirement already satisfied: idna<3,>=2.5 in /usr/local/lib/python3.6/dist-packages (from requests->transformers) (2.10)\n",
            "Requirement already satisfied: urllib3!=1.25.0,!=1.25.1,<1.26,>=1.21.1 in /usr/local/lib/python3.6/dist-packages (from requests->transformers) (1.24.3)\n",
            "Requirement already satisfied: chardet<4,>=3.0.2 in /usr/local/lib/python3.6/dist-packages (from requests->transformers) (3.0.4)\n",
            "Requirement already satisfied: certifi>=2017.4.17 in /usr/local/lib/python3.6/dist-packages (from requests->transformers) (2020.12.5)\n",
            "Requirement already satisfied: six in /usr/local/lib/python3.6/dist-packages (from sacremoses->transformers) (1.15.0)\n",
            "Requirement already satisfied: click in /usr/local/lib/python3.6/dist-packages (from sacremoses->transformers) (7.1.2)\n",
            "Requirement already satisfied: joblib in /usr/local/lib/python3.6/dist-packages (from sacremoses->transformers) (1.0.0)\n"
          ],
          "name": "stdout"
        }
      ]
    },
    {
      "cell_type": "code",
      "metadata": {
        "id": "kgDdQQR2RmzL"
      },
      "source": [
        "loaded_model = load_model('/content/drive/MyDrive/US_elections/LSTM/LSTM.h5')"
      ],
      "execution_count": 31,
      "outputs": []
    },
    {
      "cell_type": "code",
      "metadata": {
        "colab": {
          "base_uri": "https://localhost:8080/"
        },
        "id": "313k8fiBRrdW",
        "outputId": "57bb68b5-41ef-42ca-e048-2c3ea293bc84"
      },
      "source": [
        "biden_df = pd.read_csv('/content/drive/MyDrive/US_elections/cleaned_sample_100_biden.csv')\r\n",
        "trump_df = pd.read_csv('/content/drive/MyDrive/US_elections/cleaned_sample_100_trump.csv')"
      ],
      "execution_count": 32,
      "outputs": [
        {
          "output_type": "stream",
          "text": [
            "/usr/local/lib/python3.6/dist-packages/IPython/core/interactiveshell.py:2718: DtypeWarning: Columns (0,2,3) have mixed types.Specify dtype option on import or set low_memory=False.\n",
            "  interactivity=interactivity, compiler=compiler, result=result)\n",
            "/usr/local/lib/python3.6/dist-packages/IPython/core/interactiveshell.py:2718: DtypeWarning: Columns (0,2) have mixed types.Specify dtype option on import or set low_memory=False.\n",
            "  interactivity=interactivity, compiler=compiler, result=result)\n"
          ],
          "name": "stderr"
        }
      ]
    },
    {
      "cell_type": "code",
      "metadata": {
        "colab": {
          "base_uri": "https://localhost:8080/",
          "height": 47
        },
        "id": "TZuBwtOASF9i",
        "outputId": "4af52e99-06f9-4b59-fa8e-c1b4ec323e4b"
      },
      "source": [
        "biden_df.loc[:,'who'] = 'biden'\r\n",
        "trump_df.loc[:,'who'] = 'trump'\r\n",
        "\r\n",
        "balance_data_df = pd.DataFrame(columns=trump_df.columns)\r\n",
        "balance_data_df"
      ],
      "execution_count": 34,
      "outputs": [
        {
          "output_type": "execute_result",
          "data": {
            "text/html": [
              "<div>\n",
              "<style scoped>\n",
              "    .dataframe tbody tr th:only-of-type {\n",
              "        vertical-align: middle;\n",
              "    }\n",
              "\n",
              "    .dataframe tbody tr th {\n",
              "        vertical-align: top;\n",
              "    }\n",
              "\n",
              "    .dataframe thead th {\n",
              "        text-align: right;\n",
              "    }\n",
              "</style>\n",
              "<table border=\"1\" class=\"dataframe\">\n",
              "  <thead>\n",
              "    <tr style=\"text-align: right;\">\n",
              "      <th></th>\n",
              "      <th>user_id</th>\n",
              "      <th>tweet</th>\n",
              "      <th>long</th>\n",
              "      <th>lat</th>\n",
              "      <th>state_code</th>\n",
              "      <th>sentiment</th>\n",
              "      <th>who</th>\n",
              "    </tr>\n",
              "  </thead>\n",
              "  <tbody>\n",
              "  </tbody>\n",
              "</table>\n",
              "</div>"
            ],
            "text/plain": [
              "Empty DataFrame\n",
              "Columns: [user_id, tweet, long, lat, state_code, sentiment, who]\n",
              "Index: []"
            ]
          },
          "metadata": {
            "tags": []
          },
          "execution_count": 34
        }
      ]
    },
    {
      "cell_type": "code",
      "metadata": {
        "id": "J5MvrHJZSIkr"
      },
      "source": [
        "states_list = set(biden_df['state_code']).union(set(trump_df['state_code'])) - set(['MP', 'GU', 'PR', 'VI', 'AS', 'UM', ])"
      ],
      "execution_count": 35,
      "outputs": []
    },
    {
      "cell_type": "code",
      "metadata": {
        "id": "h5gH4KZ4SPOj"
      },
      "source": [
        "for state in states_list:\r\n",
        "    trump_df_state = trump_df[trump_df['state_code']==state]\r\n",
        "    biden_df_state = biden_df[biden_df['state_code']==state]\r\n",
        "    \r\n",
        "    n_sample = len(trump_df_state) if len(trump_df_state) < len(biden_df_state) else len(biden_df_state)\r\n",
        "    \r\n",
        "    if len(trump_df_state) < len(biden_df_state):\r\n",
        "        balance_data_df = pd.concat([balance_data_df, trump_df_state])\r\n",
        "        balance_data_df = pd.concat([balance_data_df, biden_df_state.sample(len(trump_df_state))])\r\n",
        "    else:\r\n",
        "        balance_data_df = pd.concat([balance_data_df, biden_df_state])\r\n",
        "        balance_data_df = pd.concat([balance_data_df, trump_df_state.sample(len(biden_df_state))])"
      ],
      "execution_count": 36,
      "outputs": []
    },
    {
      "cell_type": "code",
      "metadata": {
        "colab": {
          "base_uri": "https://localhost:8080/",
          "height": 402
        },
        "id": "DHBiBy5NSQoo",
        "outputId": "67fadb5e-d199-47a5-b76d-514beb9d2156"
      },
      "source": [
        "balance_data_df"
      ],
      "execution_count": 37,
      "outputs": [
        {
          "output_type": "execute_result",
          "data": {
            "text/html": [
              "<div>\n",
              "<style scoped>\n",
              "    .dataframe tbody tr th:only-of-type {\n",
              "        vertical-align: middle;\n",
              "    }\n",
              "\n",
              "    .dataframe tbody tr th {\n",
              "        vertical-align: top;\n",
              "    }\n",
              "\n",
              "    .dataframe thead th {\n",
              "        text-align: right;\n",
              "    }\n",
              "</style>\n",
              "<table border=\"1\" class=\"dataframe\">\n",
              "  <thead>\n",
              "    <tr style=\"text-align: right;\">\n",
              "      <th></th>\n",
              "      <th>user_id</th>\n",
              "      <th>tweet</th>\n",
              "      <th>long</th>\n",
              "      <th>lat</th>\n",
              "      <th>state_code</th>\n",
              "      <th>sentiment</th>\n",
              "      <th>who</th>\n",
              "    </tr>\n",
              "  </thead>\n",
              "  <tbody>\n",
              "    <tr>\n",
              "      <th>50</th>\n",
              "      <td>820503.0</td>\n",
              "      <td>9 DAYS! Thats all weve got to right this ship!...</td>\n",
              "      <td>-80.08309840000003</td>\n",
              "      <td>26.3587</td>\n",
              "      <td>FL</td>\n",
              "      <td>0.0</td>\n",
              "      <td>trump</td>\n",
              "    </tr>\n",
              "    <tr>\n",
              "      <th>101</th>\n",
              "      <td>2026431.0</td>\n",
              "      <td>VOTE!  BidenForFL joebiden BidenHarris BidenHa...</td>\n",
              "      <td>-80.19362</td>\n",
              "      <td>25.7742</td>\n",
              "      <td>FL</td>\n",
              "      <td>0.0</td>\n",
              "      <td>trump</td>\n",
              "    </tr>\n",
              "    <tr>\n",
              "      <th>102</th>\n",
              "      <td>2026431.0</td>\n",
              "      <td>Caribbean representation matters!  Make a plan...</td>\n",
              "      <td>-80.19362</td>\n",
              "      <td>25.7742</td>\n",
              "      <td>FL</td>\n",
              "      <td>0.0</td>\n",
              "      <td>trump</td>\n",
              "    </tr>\n",
              "    <tr>\n",
              "      <th>103</th>\n",
              "      <td>2026431.0</td>\n",
              "      <td>Caribbean Americans in Florida have the power ...</td>\n",
              "      <td>-80.19362</td>\n",
              "      <td>25.7742</td>\n",
              "      <td>FL</td>\n",
              "      <td>0.0</td>\n",
              "      <td>trump</td>\n",
              "    </tr>\n",
              "    <tr>\n",
              "      <th>104</th>\n",
              "      <td>2026431.0</td>\n",
              "      <td>You have the power as Caribbean Americans in F...</td>\n",
              "      <td>-80.19362</td>\n",
              "      <td>25.7742</td>\n",
              "      <td>FL</td>\n",
              "      <td>0.0</td>\n",
              "      <td>trump</td>\n",
              "    </tr>\n",
              "    <tr>\n",
              "      <th>...</th>\n",
              "      <td>...</td>\n",
              "      <td>...</td>\n",
              "      <td>...</td>\n",
              "      <td>...</td>\n",
              "      <td>...</td>\n",
              "      <td>...</td>\n",
              "      <td>...</td>\n",
              "    </tr>\n",
              "    <tr>\n",
              "      <th>48091</th>\n",
              "      <td>160329451.0</td>\n",
              "      <td>I'm still a fan of lilwayne but he dumb for en...</td>\n",
              "      <td>-89.9735953</td>\n",
              "      <td>35.0639</td>\n",
              "      <td>TN</td>\n",
              "      <td>0.0</td>\n",
              "      <td>biden</td>\n",
              "    </tr>\n",
              "    <tr>\n",
              "      <th>123482</th>\n",
              "      <td>9.70140879393579e+17</td>\n",
              "      <td>QAnon thought MikePence was going to be replac...</td>\n",
              "      <td>-87.35887029999998</td>\n",
              "      <td>36.5278</td>\n",
              "      <td>TN</td>\n",
              "      <td>0.0</td>\n",
              "      <td>biden</td>\n",
              "    </tr>\n",
              "    <tr>\n",
              "      <th>65550</th>\n",
              "      <td>374286637.0</td>\n",
              "      <td>He who justifies the wicked and he who condemn...</td>\n",
              "      <td>-86.5186054</td>\n",
              "      <td>36.2001</td>\n",
              "      <td>TN</td>\n",
              "      <td>0.0</td>\n",
              "      <td>biden</td>\n",
              "    </tr>\n",
              "    <tr>\n",
              "      <th>401423</th>\n",
              "      <td>1.2641184164090675e+18</td>\n",
              "      <td>Where did all the ballots come from?  Election...</td>\n",
              "      <td>-86.7744</td>\n",
              "      <td>36.1622296</td>\n",
              "      <td>TN</td>\n",
              "      <td>0.0</td>\n",
              "      <td>biden</td>\n",
              "    </tr>\n",
              "    <tr>\n",
              "      <th>16381</th>\n",
              "      <td>23673942.0</td>\n",
              "      <td>Who is your pick winning the Election?  Get ou...</td>\n",
              "      <td>-86.28200809999998</td>\n",
              "      <td>35.773</td>\n",
              "      <td>TN</td>\n",
              "      <td>0.0</td>\n",
              "      <td>biden</td>\n",
              "    </tr>\n",
              "  </tbody>\n",
              "</table>\n",
              "<p>271972 rows × 7 columns</p>\n",
              "</div>"
            ],
            "text/plain": [
              "                       user_id  ...    who\n",
              "50                    820503.0  ...  trump\n",
              "101                  2026431.0  ...  trump\n",
              "102                  2026431.0  ...  trump\n",
              "103                  2026431.0  ...  trump\n",
              "104                  2026431.0  ...  trump\n",
              "...                        ...  ...    ...\n",
              "48091              160329451.0  ...  biden\n",
              "123482    9.70140879393579e+17  ...  biden\n",
              "65550              374286637.0  ...  biden\n",
              "401423  1.2641184164090675e+18  ...  biden\n",
              "16381               23673942.0  ...  biden\n",
              "\n",
              "[271972 rows x 7 columns]"
            ]
          },
          "metadata": {
            "tags": []
          },
          "execution_count": 37
        }
      ]
    },
    {
      "cell_type": "code",
      "metadata": {
        "id": "2xsP7PveSVyE"
      },
      "source": [
        "batch_size = 100"
      ],
      "execution_count": 38,
      "outputs": []
    },
    {
      "cell_type": "code",
      "metadata": {
        "id": "mDINq9adSX0I"
      },
      "source": [
        "from tqdm.auto import tqdm\r\n",
        "import tensorflow as tf\r\n",
        "\r\n",
        "def emotion_classify(tweet_list):\r\n",
        "    # batch_idx = np.append(np.arange(0, len(tweet_list), batch_size), len(tweet_list))\r\n",
        "    labels = np.array([])\r\n",
        "    # print(batch_idx)\r\n",
        "\r\n",
        "# tokenize_words = token.texts_to_sequences(filtered)\r\n",
        "# tokenize_words = pad_sequences(tokenize_words, maxlen=max_length, padding='post', truncating='post')\r\n",
        "\r\n",
        "\r\n",
        "    for i in tqdm(range(len(tweet_list))):\r\n",
        "        tokenize_words = token.texts_to_sequences(tweet_list[i])\r\n",
        "        tokenize_words = pad_sequences(tokenize_words, maxlen=max_length, padding='post', truncating='post')\r\n",
        "        result = loaded_model.predict(tokenize_words)\r\n",
        "        labels = np.append(labels, tf.argmax(result, axis=1))\r\n",
        "        del tokenize_words\r\n",
        "\r\n",
        "    return labels"
      ],
      "execution_count": 43,
      "outputs": []
    },
    {
      "cell_type": "code",
      "metadata": {
        "colab": {
          "base_uri": "https://localhost:8080/",
          "height": 49,
          "referenced_widgets": [
            "b4bac18d3bbe421794605608cbb0a006",
            "45830903299948c288c2b2fd4b65ed69",
            "46a143eea1af471b8b1ad9d8942195ad",
            "a6eb68a9ae92478f96b3134d1f7084d7",
            "cd6d8e208b5b417e89968f3471d62001",
            "c53522ed45d541fe9919ab01a5697791",
            "589ccfb87bea4ade8c580990cd0cbe6b",
            "3b0f01bd832049db9e567bc7647a1c84"
          ]
        },
        "id": "JjmXnQ7eTb-F",
        "outputId": "b6b839e9-a69a-4a02-c421-80c8306157b3"
      },
      "source": [
        "balance_data_df['sentiment'] = emotion_classify(list(balance_data_df['tweet']))"
      ],
      "execution_count": null,
      "outputs": [
        {
          "output_type": "display_data",
          "data": {
            "application/vnd.jupyter.widget-view+json": {
              "model_id": "b4bac18d3bbe421794605608cbb0a006",
              "version_minor": 0,
              "version_major": 2
            },
            "text/plain": [
              "HBox(children=(FloatProgress(value=0.0, max=271972.0), HTML(value='')))"
            ]
          },
          "metadata": {
            "tags": []
          }
        }
      ]
    },
    {
      "cell_type": "code",
      "metadata": {
        "id": "Ephc-XU2TdtJ"
      },
      "source": [
        "dem_states = set(['DC', 'VT', 'HI', 'MA', 'MD', 'CA', 'NY', 'RI', 'DE', \r\n",
        "                 'CT', 'WA', 'ME', 'NJ', 'OR', 'IL'])\r\n",
        "rep_states = set(['OH', 'IA', 'TX', 'MT', 'SC', 'AK', 'MO', 'IN', 'NE',\r\n",
        "                 'KS', 'UT', 'MS', 'TN', 'SD', 'KY', 'LA', 'AL', 'ND',\r\n",
        "                 'ID', 'AR', 'OK', 'WV', 'WY'])\r\n",
        "swing_states = states_list - dem_states - rep_states"
      ],
      "execution_count": null,
      "outputs": []
    },
    {
      "cell_type": "code",
      "metadata": {
        "id": "ckQHmc8MVibM"
      },
      "source": [
        "electoral_vote_by_state = pd.read_csv('/content/drive/MyDrive/US_elections/electoral_vote_by_state.csv')"
      ],
      "execution_count": null,
      "outputs": []
    },
    {
      "cell_type": "code",
      "metadata": {
        "id": "agB4IH0cVlMG"
      },
      "source": [
        "states_results = pd.DataFrame(columns=['state_code', 'biden', 'trump', 'type', 'winner'])"
      ],
      "execution_count": null,
      "outputs": []
    },
    {
      "cell_type": "code",
      "metadata": {
        "id": "DFf63qDnVofN"
      },
      "source": [
        "states_results.loc[:,'state_code'] = electoral_vote_by_state['state_code']\r\n",
        "states_results.loc[:,'e_vote'] = electoral_vote_by_state['e_vote']"
      ],
      "execution_count": null,
      "outputs": []
    },
    {
      "cell_type": "code",
      "metadata": {
        "id": "_FIA6MUZVo8q"
      },
      "source": [
        "type_vs_candidate = {'blue': 'biden', 'red': 'trump', 'purple': 'contentious'}\r\n",
        "threshold = 1.15\r\n",
        "for state in states_list:\r\n",
        "    trump_slice = balance_data_df.query(f'state_code == \"{state}\" and who == \"trump\"')\r\n",
        "    biden_slice = balance_data_df.query(f'state_code == \"{state}\" and who == \"biden\"')\r\n",
        "    trump_score = np.sum(trump_slice['sentiment']) + 1\r\n",
        "    biden_score = np.sum(biden_slice['sentiment']) + 1\r\n",
        "    \r\n",
        "    state_type = ''\r\n",
        "    if state in dem_states:\r\n",
        "        state_type = 'blue'\r\n",
        "    elif state in rep_states:\r\n",
        "        state_type = 'red'\r\n",
        "    else:\r\n",
        "        state_type = 'purple'\r\n",
        "        \r\n",
        "    winner = ''\r\n",
        "    if len(trump_slice) + len(biden_slice) < 1000:\r\n",
        "        winner = type_vs_candidate[state_type]\r\n",
        "    else:\r\n",
        "        if trump_score/biden_score > threshold:\r\n",
        "            winner = 'trump'\r\n",
        "        elif biden_score/trump_score > threshold:\r\n",
        "            winner = 'biden'\r\n",
        "        else:\r\n",
        "            winner = 'contentious'\r\n",
        "        \r\n",
        "    states_results.loc[states_results['state_code'] == state, ['biden', 'trump', 'type', 'winner']] = \\\r\n",
        "        [biden_score, trump_score, state_type, winner]"
      ],
      "execution_count": null,
      "outputs": []
    },
    {
      "cell_type": "code",
      "metadata": {
        "id": "eY8cSzmtVqif"
      },
      "source": [
        "states_results.query('winner==\"contentious\"')\r\n"
      ],
      "execution_count": null,
      "outputs": []
    },
    {
      "cell_type": "code",
      "metadata": {
        "id": "8rPO66rQVuc2"
      },
      "source": [
        "import geopandas as gpd\r\n",
        "import matplotlib.pyplot as plt\r\n",
        "\r\n",
        "us_shape = gpd.read_file('/content/drive/MyDrive/US_elections/us_shape/cb_2018_us_state_20m.shp')\r\n",
        "us_shape = us_shape[['STUSPS', 'geometry']]\r\n",
        "states_results_tmp = states_results.copy()\r\n",
        "states_results_tmp = states_results_tmp.merge(us_shape, left_on='state_code', right_on='STUSPS')\r\n",
        "states_results_tmp.drop(['STUSPS'], axis=1, inplace=True)\r\n",
        "states_results_tmp = gpd.GeoDataFrame(states_results_tmp)\r\n",
        "\r\n",
        "states_results_tmp.columns"
      ],
      "execution_count": null,
      "outputs": []
    },
    {
      "cell_type": "code",
      "metadata": {
        "id": "Ddf61jToV4xz"
      },
      "source": [
        "fig, ax = plt.subplots(1, 1, figsize=(15,15))\r\n",
        "states_results_tmp.apply(lambda x: ax.annotate(s=x.state_code, xy=x.geometry.centroid.coords[0], ha='center', fontsize=9, color='white'),axis=1);\r\n",
        "states_results_tmp[states_results_tmp['winner'] == 'trump'].plot(ax=ax, color='red')\r\n",
        "states_results_tmp[states_results_tmp['winner'] == 'biden'].plot(ax=ax, color='blue')\r\n",
        "states_results_tmp[states_results_tmp['winner'] == 'contentious'].plot(ax=ax, color='purple')\r\n",
        "plt.axis('square')\r\n",
        "ax.set_xlim([-180, -60])\r\n",
        "ax.set_ylim([10, 80])\r\n",
        "ax.set_xticks([])\r\n",
        "ax.set_yticks([])"
      ],
      "execution_count": null,
      "outputs": []
    },
    {
      "cell_type": "code",
      "metadata": {
        "id": "h0C6yBAEV56v"
      },
      "source": [
        "states_results.to_csv('/content/drive/MyDrive/US_elections/state_results_LSTM.csv', index=False, header=True)\r\n",
        "fig.savefig('/content/drive/MyDrive/US_elections/state_results_LSTM.png')"
      ],
      "execution_count": null,
      "outputs": []
    },
    {
      "cell_type": "code",
      "metadata": {
        "id": "iP51W2VcV_uO"
      },
      "source": [
        "trump_vote = np.sum(states_results[states_results['winner'] == 'trump']['e_vote'])\r\n",
        "biden_vote = np.sum(states_results[states_results['winner'] == 'biden']['e_vote'])\r\n",
        "print(trump_vote, biden_vote)"
      ],
      "execution_count": null,
      "outputs": []
    },
    {
      "cell_type": "code",
      "metadata": {
        "id": "RBaJkW5bWA-q"
      },
      "source": [
        ""
      ],
      "execution_count": null,
      "outputs": []
    }
  ]
}