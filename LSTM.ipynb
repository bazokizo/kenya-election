{
  "nbformat": 4,
  "nbformat_minor": 0,
  "metadata": {
    "colab": {
      "name": "LSTM.ipynb",
      "provenance": [],
      "collapsed_sections": [],
      "toc_visible": true,
      "authorship_tag": "ABX9TyMamcEia7iAHPl06ndptsHN",
      "include_colab_link": true
    },
    "kernelspec": {
      "name": "python3",
      "display_name": "Python 3"
    },
    "accelerator": "GPU",
    "widgets": {
      "application/vnd.jupyter.widget-state+json": {
        "666e1120eae54988a88c1814e1f22e93": {
          "model_module": "@jupyter-widgets/controls",
          "model_name": "HBoxModel",
          "state": {
            "_view_name": "HBoxView",
            "_dom_classes": [],
            "_model_name": "HBoxModel",
            "_view_module": "@jupyter-widgets/controls",
            "_model_module_version": "1.5.0",
            "_view_count": null,
            "_view_module_version": "1.5.0",
            "box_style": "",
            "layout": "IPY_MODEL_27f04b9c43de464aaa042af00627dead",
            "_model_module": "@jupyter-widgets/controls",
            "children": [
              "IPY_MODEL_77802c885023427b8b7035408db82756",
              "IPY_MODEL_a6721f2a413f450b9917514ae89bf9e5"
            ]
          }
        },
        "27f04b9c43de464aaa042af00627dead": {
          "model_module": "@jupyter-widgets/base",
          "model_name": "LayoutModel",
          "state": {
            "_view_name": "LayoutView",
            "grid_template_rows": null,
            "right": null,
            "justify_content": null,
            "_view_module": "@jupyter-widgets/base",
            "overflow": null,
            "_model_module_version": "1.2.0",
            "_view_count": null,
            "flex_flow": null,
            "width": null,
            "min_width": null,
            "border": null,
            "align_items": null,
            "bottom": null,
            "_model_module": "@jupyter-widgets/base",
            "top": null,
            "grid_column": null,
            "overflow_y": null,
            "overflow_x": null,
            "grid_auto_flow": null,
            "grid_area": null,
            "grid_template_columns": null,
            "flex": null,
            "_model_name": "LayoutModel",
            "justify_items": null,
            "grid_row": null,
            "max_height": null,
            "align_content": null,
            "visibility": null,
            "align_self": null,
            "height": null,
            "min_height": null,
            "padding": null,
            "grid_auto_rows": null,
            "grid_gap": null,
            "max_width": null,
            "order": null,
            "_view_module_version": "1.2.0",
            "grid_template_areas": null,
            "object_position": null,
            "object_fit": null,
            "grid_auto_columns": null,
            "margin": null,
            "display": null,
            "left": null
          }
        },
        "77802c885023427b8b7035408db82756": {
          "model_module": "@jupyter-widgets/controls",
          "model_name": "FloatProgressModel",
          "state": {
            "_view_name": "ProgressView",
            "style": "IPY_MODEL_e0f0689f327544fbb3345f90c40b46e1",
            "_dom_classes": [],
            "description": "Downloading: 100%",
            "_model_name": "FloatProgressModel",
            "bar_style": "success",
            "max": 433,
            "_view_module": "@jupyter-widgets/controls",
            "_model_module_version": "1.5.0",
            "value": 433,
            "_view_count": null,
            "_view_module_version": "1.5.0",
            "orientation": "horizontal",
            "min": 0,
            "description_tooltip": null,
            "_model_module": "@jupyter-widgets/controls",
            "layout": "IPY_MODEL_6006fb99fe744b45bcac6abc5b496b32"
          }
        },
        "a6721f2a413f450b9917514ae89bf9e5": {
          "model_module": "@jupyter-widgets/controls",
          "model_name": "HTMLModel",
          "state": {
            "_view_name": "HTMLView",
            "style": "IPY_MODEL_0afce616673e4a25af309d8ee61ceb5a",
            "_dom_classes": [],
            "description": "",
            "_model_name": "HTMLModel",
            "placeholder": "​",
            "_view_module": "@jupyter-widgets/controls",
            "_model_module_version": "1.5.0",
            "value": " 433/433 [00:00&lt;00:00, 14.3kB/s]",
            "_view_count": null,
            "_view_module_version": "1.5.0",
            "description_tooltip": null,
            "_model_module": "@jupyter-widgets/controls",
            "layout": "IPY_MODEL_fc86ecbf47294e32b0fdba7555e36478"
          }
        },
        "e0f0689f327544fbb3345f90c40b46e1": {
          "model_module": "@jupyter-widgets/controls",
          "model_name": "ProgressStyleModel",
          "state": {
            "_view_name": "StyleView",
            "_model_name": "ProgressStyleModel",
            "description_width": "initial",
            "_view_module": "@jupyter-widgets/base",
            "_model_module_version": "1.5.0",
            "_view_count": null,
            "_view_module_version": "1.2.0",
            "bar_color": null,
            "_model_module": "@jupyter-widgets/controls"
          }
        },
        "6006fb99fe744b45bcac6abc5b496b32": {
          "model_module": "@jupyter-widgets/base",
          "model_name": "LayoutModel",
          "state": {
            "_view_name": "LayoutView",
            "grid_template_rows": null,
            "right": null,
            "justify_content": null,
            "_view_module": "@jupyter-widgets/base",
            "overflow": null,
            "_model_module_version": "1.2.0",
            "_view_count": null,
            "flex_flow": null,
            "width": null,
            "min_width": null,
            "border": null,
            "align_items": null,
            "bottom": null,
            "_model_module": "@jupyter-widgets/base",
            "top": null,
            "grid_column": null,
            "overflow_y": null,
            "overflow_x": null,
            "grid_auto_flow": null,
            "grid_area": null,
            "grid_template_columns": null,
            "flex": null,
            "_model_name": "LayoutModel",
            "justify_items": null,
            "grid_row": null,
            "max_height": null,
            "align_content": null,
            "visibility": null,
            "align_self": null,
            "height": null,
            "min_height": null,
            "padding": null,
            "grid_auto_rows": null,
            "grid_gap": null,
            "max_width": null,
            "order": null,
            "_view_module_version": "1.2.0",
            "grid_template_areas": null,
            "object_position": null,
            "object_fit": null,
            "grid_auto_columns": null,
            "margin": null,
            "display": null,
            "left": null
          }
        },
        "0afce616673e4a25af309d8ee61ceb5a": {
          "model_module": "@jupyter-widgets/controls",
          "model_name": "DescriptionStyleModel",
          "state": {
            "_view_name": "StyleView",
            "_model_name": "DescriptionStyleModel",
            "description_width": "",
            "_view_module": "@jupyter-widgets/base",
            "_model_module_version": "1.5.0",
            "_view_count": null,
            "_view_module_version": "1.2.0",
            "_model_module": "@jupyter-widgets/controls"
          }
        },
        "fc86ecbf47294e32b0fdba7555e36478": {
          "model_module": "@jupyter-widgets/base",
          "model_name": "LayoutModel",
          "state": {
            "_view_name": "LayoutView",
            "grid_template_rows": null,
            "right": null,
            "justify_content": null,
            "_view_module": "@jupyter-widgets/base",
            "overflow": null,
            "_model_module_version": "1.2.0",
            "_view_count": null,
            "flex_flow": null,
            "width": null,
            "min_width": null,
            "border": null,
            "align_items": null,
            "bottom": null,
            "_model_module": "@jupyter-widgets/base",
            "top": null,
            "grid_column": null,
            "overflow_y": null,
            "overflow_x": null,
            "grid_auto_flow": null,
            "grid_area": null,
            "grid_template_columns": null,
            "flex": null,
            "_model_name": "LayoutModel",
            "justify_items": null,
            "grid_row": null,
            "max_height": null,
            "align_content": null,
            "visibility": null,
            "align_self": null,
            "height": null,
            "min_height": null,
            "padding": null,
            "grid_auto_rows": null,
            "grid_gap": null,
            "max_width": null,
            "order": null,
            "_view_module_version": "1.2.0",
            "grid_template_areas": null,
            "object_position": null,
            "object_fit": null,
            "grid_auto_columns": null,
            "margin": null,
            "display": null,
            "left": null
          }
        },
        "4762d2208ec24134ac1d7b2d8193b531": {
          "model_module": "@jupyter-widgets/controls",
          "model_name": "HBoxModel",
          "state": {
            "_view_name": "HBoxView",
            "_dom_classes": [],
            "_model_name": "HBoxModel",
            "_view_module": "@jupyter-widgets/controls",
            "_model_module_version": "1.5.0",
            "_view_count": null,
            "_view_module_version": "1.5.0",
            "box_style": "",
            "layout": "IPY_MODEL_b3cf5198771f4c298077ea268b01f1dd",
            "_model_module": "@jupyter-widgets/controls",
            "children": [
              "IPY_MODEL_b98a8ded08ae4fc29e483432ee4e323a",
              "IPY_MODEL_770d5310f55a485490b576a57e96c35e"
            ]
          }
        },
        "b3cf5198771f4c298077ea268b01f1dd": {
          "model_module": "@jupyter-widgets/base",
          "model_name": "LayoutModel",
          "state": {
            "_view_name": "LayoutView",
            "grid_template_rows": null,
            "right": null,
            "justify_content": null,
            "_view_module": "@jupyter-widgets/base",
            "overflow": null,
            "_model_module_version": "1.2.0",
            "_view_count": null,
            "flex_flow": null,
            "width": null,
            "min_width": null,
            "border": null,
            "align_items": null,
            "bottom": null,
            "_model_module": "@jupyter-widgets/base",
            "top": null,
            "grid_column": null,
            "overflow_y": null,
            "overflow_x": null,
            "grid_auto_flow": null,
            "grid_area": null,
            "grid_template_columns": null,
            "flex": null,
            "_model_name": "LayoutModel",
            "justify_items": null,
            "grid_row": null,
            "max_height": null,
            "align_content": null,
            "visibility": null,
            "align_self": null,
            "height": null,
            "min_height": null,
            "padding": null,
            "grid_auto_rows": null,
            "grid_gap": null,
            "max_width": null,
            "order": null,
            "_view_module_version": "1.2.0",
            "grid_template_areas": null,
            "object_position": null,
            "object_fit": null,
            "grid_auto_columns": null,
            "margin": null,
            "display": null,
            "left": null
          }
        },
        "b98a8ded08ae4fc29e483432ee4e323a": {
          "model_module": "@jupyter-widgets/controls",
          "model_name": "FloatProgressModel",
          "state": {
            "_view_name": "ProgressView",
            "style": "IPY_MODEL_a7f17204c6064ee0b1953f9d9b709b40",
            "_dom_classes": [],
            "description": "Downloading: 100%",
            "_model_name": "FloatProgressModel",
            "bar_style": "success",
            "max": 536063208,
            "_view_module": "@jupyter-widgets/controls",
            "_model_module_version": "1.5.0",
            "value": 536063208,
            "_view_count": null,
            "_view_module_version": "1.5.0",
            "orientation": "horizontal",
            "min": 0,
            "description_tooltip": null,
            "_model_module": "@jupyter-widgets/controls",
            "layout": "IPY_MODEL_25c8a02ee5f44f4abd8e4c58b80b21b1"
          }
        },
        "770d5310f55a485490b576a57e96c35e": {
          "model_module": "@jupyter-widgets/controls",
          "model_name": "HTMLModel",
          "state": {
            "_view_name": "HTMLView",
            "style": "IPY_MODEL_b95989337cdd4a14a490899ca4db244f",
            "_dom_classes": [],
            "description": "",
            "_model_name": "HTMLModel",
            "placeholder": "​",
            "_view_module": "@jupyter-widgets/controls",
            "_model_module_version": "1.5.0",
            "value": " 536M/536M [00:06&lt;00:00, 81.6MB/s]",
            "_view_count": null,
            "_view_module_version": "1.5.0",
            "description_tooltip": null,
            "_model_module": "@jupyter-widgets/controls",
            "layout": "IPY_MODEL_0f6d58e2b384474280539978a5504ae2"
          }
        },
        "a7f17204c6064ee0b1953f9d9b709b40": {
          "model_module": "@jupyter-widgets/controls",
          "model_name": "ProgressStyleModel",
          "state": {
            "_view_name": "StyleView",
            "_model_name": "ProgressStyleModel",
            "description_width": "initial",
            "_view_module": "@jupyter-widgets/base",
            "_model_module_version": "1.5.0",
            "_view_count": null,
            "_view_module_version": "1.2.0",
            "bar_color": null,
            "_model_module": "@jupyter-widgets/controls"
          }
        },
        "25c8a02ee5f44f4abd8e4c58b80b21b1": {
          "model_module": "@jupyter-widgets/base",
          "model_name": "LayoutModel",
          "state": {
            "_view_name": "LayoutView",
            "grid_template_rows": null,
            "right": null,
            "justify_content": null,
            "_view_module": "@jupyter-widgets/base",
            "overflow": null,
            "_model_module_version": "1.2.0",
            "_view_count": null,
            "flex_flow": null,
            "width": null,
            "min_width": null,
            "border": null,
            "align_items": null,
            "bottom": null,
            "_model_module": "@jupyter-widgets/base",
            "top": null,
            "grid_column": null,
            "overflow_y": null,
            "overflow_x": null,
            "grid_auto_flow": null,
            "grid_area": null,
            "grid_template_columns": null,
            "flex": null,
            "_model_name": "LayoutModel",
            "justify_items": null,
            "grid_row": null,
            "max_height": null,
            "align_content": null,
            "visibility": null,
            "align_self": null,
            "height": null,
            "min_height": null,
            "padding": null,
            "grid_auto_rows": null,
            "grid_gap": null,
            "max_width": null,
            "order": null,
            "_view_module_version": "1.2.0",
            "grid_template_areas": null,
            "object_position": null,
            "object_fit": null,
            "grid_auto_columns": null,
            "margin": null,
            "display": null,
            "left": null
          }
        },
        "b95989337cdd4a14a490899ca4db244f": {
          "model_module": "@jupyter-widgets/controls",
          "model_name": "DescriptionStyleModel",
          "state": {
            "_view_name": "StyleView",
            "_model_name": "DescriptionStyleModel",
            "description_width": "",
            "_view_module": "@jupyter-widgets/base",
            "_model_module_version": "1.5.0",
            "_view_count": null,
            "_view_module_version": "1.2.0",
            "_model_module": "@jupyter-widgets/controls"
          }
        },
        "0f6d58e2b384474280539978a5504ae2": {
          "model_module": "@jupyter-widgets/base",
          "model_name": "LayoutModel",
          "state": {
            "_view_name": "LayoutView",
            "grid_template_rows": null,
            "right": null,
            "justify_content": null,
            "_view_module": "@jupyter-widgets/base",
            "overflow": null,
            "_model_module_version": "1.2.0",
            "_view_count": null,
            "flex_flow": null,
            "width": null,
            "min_width": null,
            "border": null,
            "align_items": null,
            "bottom": null,
            "_model_module": "@jupyter-widgets/base",
            "top": null,
            "grid_column": null,
            "overflow_y": null,
            "overflow_x": null,
            "grid_auto_flow": null,
            "grid_area": null,
            "grid_template_columns": null,
            "flex": null,
            "_model_name": "LayoutModel",
            "justify_items": null,
            "grid_row": null,
            "max_height": null,
            "align_content": null,
            "visibility": null,
            "align_self": null,
            "height": null,
            "min_height": null,
            "padding": null,
            "grid_auto_rows": null,
            "grid_gap": null,
            "max_width": null,
            "order": null,
            "_view_module_version": "1.2.0",
            "grid_template_areas": null,
            "object_position": null,
            "object_fit": null,
            "grid_auto_columns": null,
            "margin": null,
            "display": null,
            "left": null
          }
        },
        "f9538fa35ec74011a9ab18be4653f3e8": {
          "model_module": "@jupyter-widgets/controls",
          "model_name": "HBoxModel",
          "state": {
            "_view_name": "HBoxView",
            "_dom_classes": [],
            "_model_name": "HBoxModel",
            "_view_module": "@jupyter-widgets/controls",
            "_model_module_version": "1.5.0",
            "_view_count": null,
            "_view_module_version": "1.5.0",
            "box_style": "",
            "layout": "IPY_MODEL_6a0fb8a9a26848f6867422ee6145826b",
            "_model_module": "@jupyter-widgets/controls",
            "children": [
              "IPY_MODEL_076f2b249be747f394f88e9ab8420d89",
              "IPY_MODEL_31bb9c8f47dd49a99a221f8a6017e99d"
            ]
          }
        },
        "6a0fb8a9a26848f6867422ee6145826b": {
          "model_module": "@jupyter-widgets/base",
          "model_name": "LayoutModel",
          "state": {
            "_view_name": "LayoutView",
            "grid_template_rows": null,
            "right": null,
            "justify_content": null,
            "_view_module": "@jupyter-widgets/base",
            "overflow": null,
            "_model_module_version": "1.2.0",
            "_view_count": null,
            "flex_flow": null,
            "width": null,
            "min_width": null,
            "border": null,
            "align_items": null,
            "bottom": null,
            "_model_module": "@jupyter-widgets/base",
            "top": null,
            "grid_column": null,
            "overflow_y": null,
            "overflow_x": null,
            "grid_auto_flow": null,
            "grid_area": null,
            "grid_template_columns": null,
            "flex": null,
            "_model_name": "LayoutModel",
            "justify_items": null,
            "grid_row": null,
            "max_height": null,
            "align_content": null,
            "visibility": null,
            "align_self": null,
            "height": null,
            "min_height": null,
            "padding": null,
            "grid_auto_rows": null,
            "grid_gap": null,
            "max_width": null,
            "order": null,
            "_view_module_version": "1.2.0",
            "grid_template_areas": null,
            "object_position": null,
            "object_fit": null,
            "grid_auto_columns": null,
            "margin": null,
            "display": null,
            "left": null
          }
        },
        "076f2b249be747f394f88e9ab8420d89": {
          "model_module": "@jupyter-widgets/controls",
          "model_name": "FloatProgressModel",
          "state": {
            "_view_name": "ProgressView",
            "style": "IPY_MODEL_5136ecf2eb614761a8afbaa79211d76d",
            "_dom_classes": [],
            "description": "Downloading: 100%",
            "_model_name": "FloatProgressModel",
            "bar_style": "success",
            "max": 231508,
            "_view_module": "@jupyter-widgets/controls",
            "_model_module_version": "1.5.0",
            "value": 231508,
            "_view_count": null,
            "_view_module_version": "1.5.0",
            "orientation": "horizontal",
            "min": 0,
            "description_tooltip": null,
            "_model_module": "@jupyter-widgets/controls",
            "layout": "IPY_MODEL_958cc98efe0f492da59bd2cd1886377f"
          }
        },
        "31bb9c8f47dd49a99a221f8a6017e99d": {
          "model_module": "@jupyter-widgets/controls",
          "model_name": "HTMLModel",
          "state": {
            "_view_name": "HTMLView",
            "style": "IPY_MODEL_c1777493a4094c889e68e5d2a2073ea7",
            "_dom_classes": [],
            "description": "",
            "_model_name": "HTMLModel",
            "placeholder": "​",
            "_view_module": "@jupyter-widgets/controls",
            "_model_module_version": "1.5.0",
            "value": " 232k/232k [00:00&lt;00:00, 3.30MB/s]",
            "_view_count": null,
            "_view_module_version": "1.5.0",
            "description_tooltip": null,
            "_model_module": "@jupyter-widgets/controls",
            "layout": "IPY_MODEL_5d7a9114cb3b4ed89f0b30c529f7fb8a"
          }
        },
        "5136ecf2eb614761a8afbaa79211d76d": {
          "model_module": "@jupyter-widgets/controls",
          "model_name": "ProgressStyleModel",
          "state": {
            "_view_name": "StyleView",
            "_model_name": "ProgressStyleModel",
            "description_width": "initial",
            "_view_module": "@jupyter-widgets/base",
            "_model_module_version": "1.5.0",
            "_view_count": null,
            "_view_module_version": "1.2.0",
            "bar_color": null,
            "_model_module": "@jupyter-widgets/controls"
          }
        },
        "958cc98efe0f492da59bd2cd1886377f": {
          "model_module": "@jupyter-widgets/base",
          "model_name": "LayoutModel",
          "state": {
            "_view_name": "LayoutView",
            "grid_template_rows": null,
            "right": null,
            "justify_content": null,
            "_view_module": "@jupyter-widgets/base",
            "overflow": null,
            "_model_module_version": "1.2.0",
            "_view_count": null,
            "flex_flow": null,
            "width": null,
            "min_width": null,
            "border": null,
            "align_items": null,
            "bottom": null,
            "_model_module": "@jupyter-widgets/base",
            "top": null,
            "grid_column": null,
            "overflow_y": null,
            "overflow_x": null,
            "grid_auto_flow": null,
            "grid_area": null,
            "grid_template_columns": null,
            "flex": null,
            "_model_name": "LayoutModel",
            "justify_items": null,
            "grid_row": null,
            "max_height": null,
            "align_content": null,
            "visibility": null,
            "align_self": null,
            "height": null,
            "min_height": null,
            "padding": null,
            "grid_auto_rows": null,
            "grid_gap": null,
            "max_width": null,
            "order": null,
            "_view_module_version": "1.2.0",
            "grid_template_areas": null,
            "object_position": null,
            "object_fit": null,
            "grid_auto_columns": null,
            "margin": null,
            "display": null,
            "left": null
          }
        },
        "c1777493a4094c889e68e5d2a2073ea7": {
          "model_module": "@jupyter-widgets/controls",
          "model_name": "DescriptionStyleModel",
          "state": {
            "_view_name": "StyleView",
            "_model_name": "DescriptionStyleModel",
            "description_width": "",
            "_view_module": "@jupyter-widgets/base",
            "_model_module_version": "1.5.0",
            "_view_count": null,
            "_view_module_version": "1.2.0",
            "_model_module": "@jupyter-widgets/controls"
          }
        },
        "5d7a9114cb3b4ed89f0b30c529f7fb8a": {
          "model_module": "@jupyter-widgets/base",
          "model_name": "LayoutModel",
          "state": {
            "_view_name": "LayoutView",
            "grid_template_rows": null,
            "right": null,
            "justify_content": null,
            "_view_module": "@jupyter-widgets/base",
            "overflow": null,
            "_model_module_version": "1.2.0",
            "_view_count": null,
            "flex_flow": null,
            "width": null,
            "min_width": null,
            "border": null,
            "align_items": null,
            "bottom": null,
            "_model_module": "@jupyter-widgets/base",
            "top": null,
            "grid_column": null,
            "overflow_y": null,
            "overflow_x": null,
            "grid_auto_flow": null,
            "grid_area": null,
            "grid_template_columns": null,
            "flex": null,
            "_model_name": "LayoutModel",
            "justify_items": null,
            "grid_row": null,
            "max_height": null,
            "align_content": null,
            "visibility": null,
            "align_self": null,
            "height": null,
            "min_height": null,
            "padding": null,
            "grid_auto_rows": null,
            "grid_gap": null,
            "max_width": null,
            "order": null,
            "_view_module_version": "1.2.0",
            "grid_template_areas": null,
            "object_position": null,
            "object_fit": null,
            "grid_auto_columns": null,
            "margin": null,
            "display": null,
            "left": null
          }
        },
        "cf5c9afee54f4b1a923a731f5677d446": {
          "model_module": "@jupyter-widgets/controls",
          "model_name": "HBoxModel",
          "state": {
            "_view_name": "HBoxView",
            "_dom_classes": [],
            "_model_name": "HBoxModel",
            "_view_module": "@jupyter-widgets/controls",
            "_model_module_version": "1.5.0",
            "_view_count": null,
            "_view_module_version": "1.5.0",
            "box_style": "",
            "layout": "IPY_MODEL_1a63b4343824434e95a38a79e3c289f0",
            "_model_module": "@jupyter-widgets/controls",
            "children": [
              "IPY_MODEL_f3d7a20ea7c94eb4a1c8d3ace431149f",
              "IPY_MODEL_d4b85706b3ef48578ce2a50cf3e6aac6"
            ]
          }
        },
        "1a63b4343824434e95a38a79e3c289f0": {
          "model_module": "@jupyter-widgets/base",
          "model_name": "LayoutModel",
          "state": {
            "_view_name": "LayoutView",
            "grid_template_rows": null,
            "right": null,
            "justify_content": null,
            "_view_module": "@jupyter-widgets/base",
            "overflow": null,
            "_model_module_version": "1.2.0",
            "_view_count": null,
            "flex_flow": null,
            "width": null,
            "min_width": null,
            "border": null,
            "align_items": null,
            "bottom": null,
            "_model_module": "@jupyter-widgets/base",
            "top": null,
            "grid_column": null,
            "overflow_y": null,
            "overflow_x": null,
            "grid_auto_flow": null,
            "grid_area": null,
            "grid_template_columns": null,
            "flex": null,
            "_model_name": "LayoutModel",
            "justify_items": null,
            "grid_row": null,
            "max_height": null,
            "align_content": null,
            "visibility": null,
            "align_self": null,
            "height": null,
            "min_height": null,
            "padding": null,
            "grid_auto_rows": null,
            "grid_gap": null,
            "max_width": null,
            "order": null,
            "_view_module_version": "1.2.0",
            "grid_template_areas": null,
            "object_position": null,
            "object_fit": null,
            "grid_auto_columns": null,
            "margin": null,
            "display": null,
            "left": null
          }
        },
        "f3d7a20ea7c94eb4a1c8d3ace431149f": {
          "model_module": "@jupyter-widgets/controls",
          "model_name": "FloatProgressModel",
          "state": {
            "_view_name": "ProgressView",
            "style": "IPY_MODEL_43214e2d0a4544c69e9a7970e2303c3d",
            "_dom_classes": [],
            "description": "100%",
            "_model_name": "FloatProgressModel",
            "bar_style": "success",
            "max": 2720,
            "_view_module": "@jupyter-widgets/controls",
            "_model_module_version": "1.5.0",
            "value": 2720,
            "_view_count": null,
            "_view_module_version": "1.5.0",
            "orientation": "horizontal",
            "min": 0,
            "description_tooltip": null,
            "_model_module": "@jupyter-widgets/controls",
            "layout": "IPY_MODEL_8c5e8ea08b8540e09a9bc5bce721b196"
          }
        },
        "d4b85706b3ef48578ce2a50cf3e6aac6": {
          "model_module": "@jupyter-widgets/controls",
          "model_name": "HTMLModel",
          "state": {
            "_view_name": "HTMLView",
            "style": "IPY_MODEL_43db2f1055e048658e7a6a0772c7aaf1",
            "_dom_classes": [],
            "description": "",
            "_model_name": "HTMLModel",
            "placeholder": "​",
            "_view_module": "@jupyter-widgets/controls",
            "_model_module_version": "1.5.0",
            "value": " 2720/2720 [29:35&lt;00:00,  1.53it/s]",
            "_view_count": null,
            "_view_module_version": "1.5.0",
            "description_tooltip": null,
            "_model_module": "@jupyter-widgets/controls",
            "layout": "IPY_MODEL_4b82ab19a4944daaa68e0c642464d9cf"
          }
        },
        "43214e2d0a4544c69e9a7970e2303c3d": {
          "model_module": "@jupyter-widgets/controls",
          "model_name": "ProgressStyleModel",
          "state": {
            "_view_name": "StyleView",
            "_model_name": "ProgressStyleModel",
            "description_width": "initial",
            "_view_module": "@jupyter-widgets/base",
            "_model_module_version": "1.5.0",
            "_view_count": null,
            "_view_module_version": "1.2.0",
            "bar_color": null,
            "_model_module": "@jupyter-widgets/controls"
          }
        },
        "8c5e8ea08b8540e09a9bc5bce721b196": {
          "model_module": "@jupyter-widgets/base",
          "model_name": "LayoutModel",
          "state": {
            "_view_name": "LayoutView",
            "grid_template_rows": null,
            "right": null,
            "justify_content": null,
            "_view_module": "@jupyter-widgets/base",
            "overflow": null,
            "_model_module_version": "1.2.0",
            "_view_count": null,
            "flex_flow": null,
            "width": null,
            "min_width": null,
            "border": null,
            "align_items": null,
            "bottom": null,
            "_model_module": "@jupyter-widgets/base",
            "top": null,
            "grid_column": null,
            "overflow_y": null,
            "overflow_x": null,
            "grid_auto_flow": null,
            "grid_area": null,
            "grid_template_columns": null,
            "flex": null,
            "_model_name": "LayoutModel",
            "justify_items": null,
            "grid_row": null,
            "max_height": null,
            "align_content": null,
            "visibility": null,
            "align_self": null,
            "height": null,
            "min_height": null,
            "padding": null,
            "grid_auto_rows": null,
            "grid_gap": null,
            "max_width": null,
            "order": null,
            "_view_module_version": "1.2.0",
            "grid_template_areas": null,
            "object_position": null,
            "object_fit": null,
            "grid_auto_columns": null,
            "margin": null,
            "display": null,
            "left": null
          }
        },
        "43db2f1055e048658e7a6a0772c7aaf1": {
          "model_module": "@jupyter-widgets/controls",
          "model_name": "DescriptionStyleModel",
          "state": {
            "_view_name": "StyleView",
            "_model_name": "DescriptionStyleModel",
            "description_width": "",
            "_view_module": "@jupyter-widgets/base",
            "_model_module_version": "1.5.0",
            "_view_count": null,
            "_view_module_version": "1.2.0",
            "_model_module": "@jupyter-widgets/controls"
          }
        },
        "4b82ab19a4944daaa68e0c642464d9cf": {
          "model_module": "@jupyter-widgets/base",
          "model_name": "LayoutModel",
          "state": {
            "_view_name": "LayoutView",
            "grid_template_rows": null,
            "right": null,
            "justify_content": null,
            "_view_module": "@jupyter-widgets/base",
            "overflow": null,
            "_model_module_version": "1.2.0",
            "_view_count": null,
            "flex_flow": null,
            "width": null,
            "min_width": null,
            "border": null,
            "align_items": null,
            "bottom": null,
            "_model_module": "@jupyter-widgets/base",
            "top": null,
            "grid_column": null,
            "overflow_y": null,
            "overflow_x": null,
            "grid_auto_flow": null,
            "grid_area": null,
            "grid_template_columns": null,
            "flex": null,
            "_model_name": "LayoutModel",
            "justify_items": null,
            "grid_row": null,
            "max_height": null,
            "align_content": null,
            "visibility": null,
            "align_self": null,
            "height": null,
            "min_height": null,
            "padding": null,
            "grid_auto_rows": null,
            "grid_gap": null,
            "max_width": null,
            "order": null,
            "_view_module_version": "1.2.0",
            "grid_template_areas": null,
            "object_position": null,
            "object_fit": null,
            "grid_auto_columns": null,
            "margin": null,
            "display": null,
            "left": null
          }
        }
      }
    }
  },
  "cells": [
    {
      "cell_type": "markdown",
      "metadata": {
        "id": "view-in-github",
        "colab_type": "text"
      },
      "source": [
        "<a href=\"https://colab.research.google.com/github/sydney-machine-learning/sentimentanalysis-USelections/blob/main/LSTM.ipynb\" target=\"_parent\"><img src=\"https://colab.research.google.com/assets/colab-badge.svg\" alt=\"Open In Colab\"/></a>"
      ]
    },
    {
      "cell_type": "markdown",
      "metadata": {
        "id": "lOePlIwuLGNf"
      },
      "source": [
        "# Sentiment Analysis using LSTM and Keras"
      ]
    },
    {
      "cell_type": "code",
      "metadata": {
        "id": "5Dyl3HLpLB70"
      },
      "source": [
        "import pandas as pd    # to load dataset\n",
        "import numpy as np     # for mathematic equation\n",
        "from nltk.corpus import stopwords   # to get collection of stopwords\n",
        "from sklearn.model_selection import train_test_split       # for splitting dataset\n",
        "from tensorflow.keras.preprocessing.text import Tokenizer  # to encode text to int\n",
        "from tensorflow.keras.preprocessing.sequence import pad_sequences   # to do padding or truncating\n",
        "from tensorflow.keras.models import Sequential     # the model\n",
        "from tensorflow.keras.layers import Embedding, LSTM, Dense # layers of the architecture\n",
        "from tensorflow.keras.callbacks import ModelCheckpoint   # save model\n",
        "from tensorflow.keras.models import load_model   # load saved model\n",
        "import re\n",
        "import tensorflow as tf\n",
        "import pandas as pd"
      ],
      "execution_count": null,
      "outputs": []
    },
    {
      "cell_type": "code",
      "metadata": {
        "colab": {
          "base_uri": "https://localhost:8080/"
        },
        "id": "aHBrlQUoM9Gd",
        "outputId": "5ad75268-7841-4b1d-8698-7bd3d82d6ccc"
      },
      "source": [
        "from google.colab import drive\n",
        "drive.mount('/content/drive')"
      ],
      "execution_count": null,
      "outputs": [
        {
          "output_type": "stream",
          "text": [
            "Mounted at /content/drive\n"
          ],
          "name": "stdout"
        }
      ]
    },
    {
      "cell_type": "code",
      "metadata": {
        "colab": {
          "base_uri": "https://localhost:8080/"
        },
        "id": "JBYdzfe0NLNG",
        "outputId": "672415ee-c078-449a-b398-2769a5184d94"
      },
      "source": [
        "data = pd.read_csv('/content/drive/MyDrive/US_elections/LSTM/IMDB Dataset.csv')\n",
        "\n",
        "print(data)"
      ],
      "execution_count": null,
      "outputs": [
        {
          "output_type": "stream",
          "text": [
            "                                                  review sentiment\n",
            "0      One of the other reviewers has mentioned that ...  positive\n",
            "1      A wonderful little production. <br /><br />The...  positive\n",
            "2      I thought this was a wonderful way to spend ti...  positive\n",
            "3      Basically there's a family where a little boy ...  negative\n",
            "4      Petter Mattei's \"Love in the Time of Money\" is...  positive\n",
            "...                                                  ...       ...\n",
            "49995  I thought this movie did a down right good job...  positive\n",
            "49996  Bad plot, bad dialogue, bad acting, idiotic di...  negative\n",
            "49997  I am a Catholic taught in parochial elementary...  negative\n",
            "49998  I'm going to have to disagree with the previou...  negative\n",
            "49999  No one expects the Star Trek movies to be high...  negative\n",
            "\n",
            "[50000 rows x 2 columns]\n"
          ],
          "name": "stdout"
        }
      ]
    },
    {
      "cell_type": "code",
      "metadata": {
        "colab": {
          "base_uri": "https://localhost:8080/"
        },
        "id": "IQvmimbaNT6O",
        "outputId": "2874840c-12c3-474a-b614-62fc263129c1"
      },
      "source": [
        "\n",
        "import nltk\n",
        "nltk.download('stopwords')\n",
        "english_stops = set(stopwords.words('english'))"
      ],
      "execution_count": null,
      "outputs": [
        {
          "output_type": "stream",
          "text": [
            "[nltk_data] Downloading package stopwords to /root/nltk_data...\n",
            "[nltk_data]   Unzipping corpora/stopwords.zip.\n"
          ],
          "name": "stdout"
        }
      ]
    },
    {
      "cell_type": "markdown",
      "metadata": {
        "id": "apZjZEDaNcPg"
      },
      "source": [
        "## Load and Clean Dataset\n",
        "In the original dataset, the reviews are still dirty. There are still html tags, numbers, uppercase, and punctuations. This will not be good for training, so in load_dataset() function, beside loading the dataset using pandas, I also pre-process the reviews by removing html tags, non alphabet (punctuations and numbers), stop words, and lower case all of the reviews.\n",
        "\n",
        "## Encode Sentiments\n",
        "In the same function, I also encode the sentiments into integers (0 and 1). Where 0 is for negative sentiments and 1 is for positive sentiments."
      ]
    },
    {
      "cell_type": "code",
      "metadata": {
        "colab": {
          "base_uri": "https://localhost:8080/"
        },
        "id": "d8xYPJ3DNWZP",
        "outputId": "6bd2d9c1-bac8-4ad2-c72b-d73e0ad4c5f7"
      },
      "source": [
        "def load_dataset():\n",
        "    df = pd.read_csv('/content/drive/MyDrive/US_elections/LSTM/IMDB Dataset.csv')\n",
        "    x_data = df['review']       # Reviews/Input\n",
        "    y_data = df['sentiment']    # Sentiment/Output\n",
        "\n",
        "    # PRE-PROCESS REVIEW\n",
        "    x_data = x_data.replace({'<.*?>': ''}, regex = True)          # remove html tag\n",
        "    x_data = x_data.replace({'[^A-Za-z]': ' '}, regex = True)     # remove non alphabet\n",
        "    x_data = x_data.apply(lambda review: [w for w in review.split() if w not in english_stops])  # remove stop words\n",
        "    x_data = x_data.apply(lambda review: [w.lower() for w in review])   # lower case\n",
        "    \n",
        "    # ENCODE SENTIMENT -> 0 & 1\n",
        "    y_data = y_data.replace('positive', 1)\n",
        "    y_data = y_data.replace('negative', 0)\n",
        "\n",
        "    return x_data, y_data\n",
        "\n",
        "x_data, y_data = load_dataset()\n",
        "\n",
        "print('Reviews')\n",
        "print(x_data, '\\n')\n",
        "print('Sentiment')\n",
        "print(y_data)"
      ],
      "execution_count": null,
      "outputs": [
        {
          "output_type": "stream",
          "text": [
            "Reviews\n",
            "0        [one, reviewers, mentioned, watching, oz, epis...\n",
            "1        [a, wonderful, little, production, the, filmin...\n",
            "2        [i, thought, wonderful, way, spend, time, hot,...\n",
            "3        [basically, family, little, boy, jake, thinks,...\n",
            "4        [petter, mattei, love, time, money, visually, ...\n",
            "                               ...                        \n",
            "49995    [i, thought, movie, right, good, job, it, crea...\n",
            "49996    [bad, plot, bad, dialogue, bad, acting, idioti...\n",
            "49997    [i, catholic, taught, parochial, elementary, s...\n",
            "49998    [i, going, disagree, previous, comment, side, ...\n",
            "49999    [no, one, expects, star, trek, movies, high, a...\n",
            "Name: review, Length: 50000, dtype: object \n",
            "\n",
            "Sentiment\n",
            "0        1\n",
            "1        1\n",
            "2        1\n",
            "3        0\n",
            "4        1\n",
            "        ..\n",
            "49995    1\n",
            "49996    0\n",
            "49997    0\n",
            "49998    0\n",
            "49999    0\n",
            "Name: sentiment, Length: 50000, dtype: int64\n"
          ],
          "name": "stdout"
        }
      ]
    },
    {
      "cell_type": "markdown",
      "metadata": {
        "id": "GLZ24hlbNuik"
      },
      "source": [
        "## Split Dataset\n"
      ]
    },
    {
      "cell_type": "code",
      "metadata": {
        "colab": {
          "base_uri": "https://localhost:8080/"
        },
        "id": "Rb4AMEZONnHg",
        "outputId": "71e85b40-1952-429a-97d4-c0decadf6df2"
      },
      "source": [
        "x_train, x_test, y_train, y_test = train_test_split(x_data, y_data, test_size = 0.2)\n",
        "\n",
        "print('Train Set')\n",
        "print(x_train, '\\n')\n",
        "print(x_test, '\\n')\n",
        "print('Test Set')\n",
        "print(y_train, '\\n')\n",
        "print(y_test)"
      ],
      "execution_count": null,
      "outputs": [
        {
          "output_type": "stream",
          "text": [
            "Train Set\n",
            "33282    [i, know, slashers, always, supposed, bad, com...\n",
            "38418    [this, movie, bad, i, know, begin, apparently,...\n",
            "14178    [thanks, killing, franchise, turkey, john, car...\n",
            "33857    [movie, made, watch, paul, w, s, anderson, avp...\n",
            "43719    [i, think, probably, one, worst, movies, i, wa...\n",
            "                               ...                        \n",
            "26229    [this, picture, hit, movie, screens, june, th,...\n",
            "38580    [the, best, thing, camp, films, general, know,...\n",
            "4497     [as, long, go, movie, understanding, going, co...\n",
            "7269     [this, movie, stupid, hate, turned, reached, h...\n",
            "9957     [i, actually, went, see, movie, low, expectati...\n",
            "Name: review, Length: 40000, dtype: object \n",
            "\n",
            "18524    [no, lifeforce, great, movie, it, good, movie,...\n",
            "46492    [unfortunately, one, best, efforts, yet, made,...\n",
            "12398    [i, love, called, blaxploitation, films, seen,...\n",
            "34083    [i, watched, plenty, times, i, planning, buyin...\n",
            "5210     [ok, last, night, i, saw, world, premiere, pau...\n",
            "                               ...                        \n",
            "33338    [a, romanticised, thoroughly, false, vision, u...\n",
            "42453    [a, film, high, intelligence, activity, as, we...\n",
            "48945    [omg, painful, experience, life, watching, i, ...\n",
            "7826     [black, water, one, tense, films, i, viewed, l...\n",
            "3400     [this, high, grade, cheese, fare, b, movie, ku...\n",
            "Name: review, Length: 10000, dtype: object \n",
            "\n",
            "Test Set\n",
            "33282    0\n",
            "38418    0\n",
            "14178    0\n",
            "33857    0\n",
            "43719    0\n",
            "        ..\n",
            "26229    0\n",
            "38580    0\n",
            "4497     0\n",
            "7269     0\n",
            "9957     1\n",
            "Name: sentiment, Length: 40000, dtype: int64 \n",
            "\n",
            "18524    1\n",
            "46492    0\n",
            "12398    0\n",
            "34083    1\n",
            "5210     0\n",
            "        ..\n",
            "33338    0\n",
            "42453    1\n",
            "48945    0\n",
            "7826     1\n",
            "3400     0\n",
            "Name: sentiment, Length: 10000, dtype: int64\n"
          ],
          "name": "stdout"
        }
      ]
    },
    {
      "cell_type": "code",
      "metadata": {
        "id": "rUngYm-sNwoH"
      },
      "source": [
        "def get_max_length():\n",
        "    review_length = []\n",
        "    for review in x_train:\n",
        "        review_length.append(len(review))\n",
        "\n",
        "    return int(np.ceil(np.mean(review_length)))"
      ],
      "execution_count": null,
      "outputs": []
    },
    {
      "cell_type": "markdown",
      "metadata": {
        "id": "zW6qbnhYN4dN"
      },
      "source": [
        "## Tokenize and Pad/Truncate Reviews\n",
        "\n",
        "A Neural Network only accepts numeric data, so we need to encode the reviews. I use tensorflow.keras.preprocessing.text.Tokenizer to encode the reviews into integers, where each unique word is automatically indexed (using fit_on_texts method) based on x_train.\n",
        "x_train and x_test is converted into integers using texts_to_sequences method.\n",
        "\n",
        "Each reviews has a different length, so we need to add padding (by adding 0) or truncating the words to the same length (in this case, it is the mean of all reviews length) using tensorflow.keras.preprocessing.sequence.pad_sequences.\n",
        "\n",
        "post, pad or truncate the words in the back of a sentence\n",
        "pre, pad or truncate the words in front of a sentence"
      ]
    },
    {
      "cell_type": "code",
      "metadata": {
        "colab": {
          "base_uri": "https://localhost:8080/"
        },
        "id": "99kzmaqQN11r",
        "outputId": "98cddecb-627f-4ba4-f5a3-7854af0d263b"
      },
      "source": [
        "print(x_train)\n",
        "# ENCODE REVIEW\n",
        "token = Tokenizer(lower=False)    # no need lower, because already lowered the data in load_data()\n",
        "token.fit_on_texts(x_train)\n",
        "x_train = token.texts_to_sequences(x_train)\n",
        "x_test = token.texts_to_sequences(x_test)\n",
        "\n",
        "max_length = get_max_length()\n",
        "\n",
        "x_train = pad_sequences(x_train, maxlen=max_length, padding='post', truncating='post')\n",
        "x_test = pad_sequences(x_test, maxlen=max_length, padding='post', truncating='post')\n",
        "\n",
        "total_words = len(token.word_index) + 1   # add 1 because of 0 padding\n",
        "\n",
        "print('Encoded X Train\\n', x_train, '\\n')\n",
        "print('Encoded X Test\\n', x_test, '\\n')\n",
        "print('Maximum review length: ', max_length)"
      ],
      "execution_count": null,
      "outputs": [
        {
          "output_type": "stream",
          "text": [
            "33282    [i, know, slashers, always, supposed, bad, com...\n",
            "38418    [this, movie, bad, i, know, begin, apparently,...\n",
            "14178    [thanks, killing, franchise, turkey, john, car...\n",
            "33857    [movie, made, watch, paul, w, s, anderson, avp...\n",
            "43719    [i, think, probably, one, worst, movies, i, wa...\n",
            "                               ...                        \n",
            "26229    [this, picture, hit, movie, screens, june, th,...\n",
            "38580    [the, best, thing, camp, films, general, know,...\n",
            "4497     [as, long, go, movie, understanding, going, co...\n",
            "7269     [this, movie, stupid, hate, turned, reached, h...\n",
            "9957     [i, actually, went, see, movie, low, expectati...\n",
            "Name: review, Length: 40000, dtype: object\n",
            "Encoded X Train\n",
            " [[   1   46 6644 ...   27   17   10]\n",
            " [   8    3   19 ...   79   61 1106]\n",
            " [1159  754 2850 ...  271 4680  354]\n",
            " ...\n",
            " [ 107  101   62 ...    0    0    0]\n",
            " [   8    3  276 ...    0    0    0]\n",
            " [   1   74  320 ...    0    0    0]] \n",
            "\n",
            "Encoded X Test\n",
            " [[  257  8780    21 ...     0     0     0]\n",
            " [  385     5    45 ...  3737     5  2343]\n",
            " [    1    40   337 ...  1277    15  2329]\n",
            " ...\n",
            " [11148  1252   466 ...     0     0     0]\n",
            " [  224   881     5 ...     0     0     0]\n",
            " [    8   205  1124 ...   292     4     0]] \n",
            "\n",
            "Maximum review length:  130\n"
          ],
          "name": "stdout"
        }
      ]
    },
    {
      "cell_type": "markdown",
      "metadata": {
        "id": "VwdL42nCOCWu"
      },
      "source": [
        "## Build Architecture/Model\n",
        "\n",
        "**Embedding Layer:** in simple terms, it creates word vectors of each word in the word_index and group words that are related or have similar meaning by analyzing other words around them.\n",
        "\n",
        "**LSTM Layer:** to make a decision to keep or throw away data by considering the current input, previous output, and previous memory. There are some important components in LSTM.\n",
        "\n",
        "- **Forget Gate**, decides information is to be kept or thrown away\n",
        "- Input Gate, updates cell state by passing previous output and current input into sigmoid activation function\n",
        "- **Cell State**, calculate new cell state, it is multiplied by forget vector (drop value if multiplied by a near 0), add it with the output from input gate to update the cell state value.\n",
        "- **Ouput Gate**, decides the next hidden state and used for predictions\n",
        "\n",
        "**Dense Layer:** compute the input with the weight matrix and bias (optional), and using an activation function. I use Sigmoid activation function for this work because the output is only 0 or 1.\n",
        "\n",
        "The optimizer is Adam and the loss function is Binary Crossentropy because again the output is only 0 and 1, which is a binary number."
      ]
    },
    {
      "cell_type": "code",
      "metadata": {
        "colab": {
          "base_uri": "https://localhost:8080/"
        },
        "id": "X9Jk16NAN-4u",
        "outputId": "7d12420d-3c32-42b7-ff66-8a598b92f8a4"
      },
      "source": [
        "from tensorflow.keras.utils import plot_model\n",
        "# ARCHITECTURE\n",
        "EMBED_DIM = 32\n",
        "LSTM_OUT = 64\n",
        "\n",
        "model = Sequential()\n",
        "model.add(Embedding(total_words, EMBED_DIM, input_length = max_length))\n",
        "model.add(LSTM(LSTM_OUT))\n",
        "model.add(Dense(64, activation='relu'))\n",
        "model.add(Dense(1, activation='sigmoid'))\n",
        "model.compile(optimizer = 'adam', loss = 'binary_crossentropy', metrics = ['accuracy'])\n",
        "plot_model(model, to_file='/content/drive/MyDrive/US_elections/LSTM/modelLSTM.png')\n",
        "print(model.summary())"
      ],
      "execution_count": null,
      "outputs": [
        {
          "output_type": "stream",
          "text": [
            "Model: \"sequential\"\n",
            "_________________________________________________________________\n",
            "Layer (type)                 Output Shape              Param #   \n",
            "=================================================================\n",
            "embedding (Embedding)        (None, 130, 32)           2948384   \n",
            "_________________________________________________________________\n",
            "lstm (LSTM)                  (None, 64)                24832     \n",
            "_________________________________________________________________\n",
            "dense (Dense)                (None, 64)                4160      \n",
            "_________________________________________________________________\n",
            "dense_1 (Dense)              (None, 1)                 65        \n",
            "=================================================================\n",
            "Total params: 2,977,441\n",
            "Trainable params: 2,977,441\n",
            "Non-trainable params: 0\n",
            "_________________________________________________________________\n",
            "None\n"
          ],
          "name": "stdout"
        }
      ]
    },
    {
      "cell_type": "code",
      "metadata": {
        "id": "FwBwe39zOYJI"
      },
      "source": [
        "checkpoint = ModelCheckpoint(\n",
        "    '/content/drive/MyDrive/US_elections/LSTM/LSTM_2.h5',\n",
        "    monitor='accuracy',\n",
        "    save_best_only=True,\n",
        "    verbose=1\n",
        ")"
      ],
      "execution_count": null,
      "outputs": []
    },
    {
      "cell_type": "code",
      "metadata": {
        "colab": {
          "base_uri": "https://localhost:8080/"
        },
        "id": "Zvhj3IKdOjYj",
        "outputId": "f37eb015-6b85-4b4b-b3b3-69879e6c8e80"
      },
      "source": [
        "model.fit(x_train, y_train, batch_size = 128, epochs = 5, callbacks=[checkpoint])"
      ],
      "execution_count": null,
      "outputs": [
        {
          "output_type": "stream",
          "text": [
            "Epoch 1/5\n",
            "313/313 [==============================] - 20s 36ms/step - loss: 0.5609 - accuracy: 0.6473\n",
            "\n",
            "Epoch 00001: accuracy improved from -inf to 0.77410, saving model to /content/drive/MyDrive/US_elections/LSTM/LSTM_2.h5\n",
            "Epoch 2/5\n",
            "313/313 [==============================] - 11s 36ms/step - loss: 0.1871 - accuracy: 0.9326\n",
            "\n",
            "Epoch 00002: accuracy improved from 0.77410 to 0.92948, saving model to /content/drive/MyDrive/US_elections/LSTM/LSTM_2.h5\n",
            "Epoch 3/5\n",
            "313/313 [==============================] - 11s 36ms/step - loss: 0.1013 - accuracy: 0.9686\n",
            "\n",
            "Epoch 00003: accuracy improved from 0.92948 to 0.96562, saving model to /content/drive/MyDrive/US_elections/LSTM/LSTM_2.h5\n",
            "Epoch 4/5\n",
            "313/313 [==============================] - 11s 36ms/step - loss: 0.0563 - accuracy: 0.9835\n",
            "\n",
            "Epoch 00004: accuracy improved from 0.96562 to 0.97975, saving model to /content/drive/MyDrive/US_elections/LSTM/LSTM_2.h5\n",
            "Epoch 5/5\n",
            "313/313 [==============================] - 11s 36ms/step - loss: 0.0514 - accuracy: 0.9844\n",
            "\n",
            "Epoch 00005: accuracy improved from 0.97975 to 0.98350, saving model to /content/drive/MyDrive/US_elections/LSTM/LSTM_2.h5\n"
          ],
          "name": "stdout"
        },
        {
          "output_type": "execute_result",
          "data": {
            "text/plain": [
              "<tensorflow.python.keras.callbacks.History at 0x7fe4a2fff710>"
            ]
          },
          "metadata": {
            "tags": []
          },
          "execution_count": 11
        }
      ]
    },
    {
      "cell_type": "markdown",
      "metadata": {
        "id": "I2cXl9vXOoHY"
      },
      "source": [
        "\n",
        "## Testing\n",
        "\n",
        "To evaluate the model, we need to predict the sentiment using our **x_test** data and comparing the predictions with y_test (expected output) data. Then, we calculate the accuracy of the model by dividing numbers of correct prediction with the total data. Resulted an accuracy of **86.63%**"
      ]
    },
    {
      "cell_type": "code",
      "metadata": {
        "colab": {
          "base_uri": "https://localhost:8080/"
        },
        "id": "OC-t2EwBOk8O",
        "outputId": "7fd94878-6082-41ef-fed6-85b3cc3014c0"
      },
      "source": [
        "\n",
        "y_pred = model.predict_classes(x_test, batch_size = 128)\n",
        "\n",
        "true = 0\n",
        "for i, y in enumerate(y_test):\n",
        "    if y == y_pred[i]:\n",
        "        true += 1\n",
        "\n",
        "print('Correct Prediction: {}'.format(true))\n",
        "print('Wrong Prediction: {}'.format(len(y_pred) - true))\n",
        "print('Accuracy: {}'.format(true/len(y_pred)*100))"
      ],
      "execution_count": null,
      "outputs": [
        {
          "output_type": "stream",
          "text": [
            "/usr/local/lib/python3.6/dist-packages/tensorflow/python/keras/engine/sequential.py:450: UserWarning: `model.predict_classes()` is deprecated and will be removed after 2021-01-01. Please use instead:* `np.argmax(model.predict(x), axis=-1)`,   if your model does multi-class classification   (e.g. if it uses a `softmax` last-layer activation).* `(model.predict(x) > 0.5).astype(\"int32\")`,   if your model does binary classification   (e.g. if it uses a `sigmoid` last-layer activation).\n",
            "  warnings.warn('`model.predict_classes()` is deprecated and '\n"
          ],
          "name": "stderr"
        },
        {
          "output_type": "stream",
          "text": [
            "Correct Prediction: 8658\n",
            "Wrong Prediction: 1342\n",
            "Accuracy: 86.58\n"
          ],
          "name": "stdout"
        }
      ]
    },
    {
      "cell_type": "markdown",
      "metadata": {
        "id": "e9JT5lidP7XW"
      },
      "source": [
        "## Load Saved Model\n",
        "\n",
        "Load saved model and use it to predict a movie review statement's sentiment (positive or negative)"
      ]
    },
    {
      "cell_type": "code",
      "metadata": {
        "id": "bkahGprwOxWI"
      },
      "source": [
        "loaded_model = load_model('/content/drive/MyDrive/US_elections/LSTM/LSTM.h5')"
      ],
      "execution_count": null,
      "outputs": []
    },
    {
      "cell_type": "markdown",
      "metadata": {
        "id": "Fp0ShOc_QF0V"
      },
      "source": [
        "Receives a review as an input to be predicted"
      ]
    },
    {
      "cell_type": "code",
      "metadata": {
        "colab": {
          "base_uri": "https://localhost:8080/"
        },
        "id": "679dASPGQFLN",
        "outputId": "0cbff5ef-9c62-4795-f893-40fb45700055"
      },
      "source": [
        "review = str(input('Movie Review: '))"
      ],
      "execution_count": null,
      "outputs": [
        {
          "output_type": "stream",
          "text": [
            "Movie Review: Nothing was typical about this. Everything was beautifully done in this movie, the story, the flow, the scenario, everything. I highly recommend it for mystery lovers, for anyone who wants to watch a good movie!\n"
          ],
          "name": "stdout"
        }
      ]
    },
    {
      "cell_type": "markdown",
      "metadata": {
        "id": "qV2VO1BpQOC0"
      },
      "source": [
        "The input must be pre processed before it is passed to the model to be predicted"
      ]
    },
    {
      "cell_type": "code",
      "metadata": {
        "colab": {
          "base_uri": "https://localhost:8080/"
        },
        "id": "sblaYgLmQC6u",
        "outputId": "932b4fb5-97ef-44d4-b9ef-a13b9de7feb7"
      },
      "source": [
        "# Pre-process input\n",
        "regex = re.compile(r'[^a-zA-Z\\s]')\n",
        "review = regex.sub('', review)\n",
        "print('Cleaned: ', review)\n",
        "\n",
        "words = review.split(' ')\n",
        "filtered = [w for w in words if w not in english_stops]\n",
        "filtered = ' '.join(filtered)\n",
        "filtered = [filtered.lower()]\n",
        "\n",
        "print('Filtered: ', filtered)"
      ],
      "execution_count": null,
      "outputs": [
        {
          "output_type": "stream",
          "text": [
            "Cleaned:  Nothing was typical about this Everything was beautifully done in this movie the story the flow the scenario everything I highly recommend it for mystery lovers for anyone who wants to watch a good movie\n",
            "Filtered:  ['nothing typical everything beautifully done movie story flow scenario everything i highly recommend mystery lovers anyone wants watch good movie']\n"
          ],
          "name": "stdout"
        }
      ]
    },
    {
      "cell_type": "code",
      "metadata": {
        "colab": {
          "base_uri": "https://localhost:8080/"
        },
        "id": "9HgxPTw6QPxX",
        "outputId": "a6389370-2a20-4fa8-df77-fe17e7abc7f7"
      },
      "source": [
        "tokenize_words = token.texts_to_sequences(filtered)\n",
        "tokenize_words = pad_sequences(tokenize_words, maxlen=max_length, padding='post', truncating='post')\n",
        "print(tokenize_words)"
      ],
      "execution_count": null,
      "outputs": [
        {
          "output_type": "stream",
          "text": [
            "[[  76  680  169 1188  125    3   15 2651 2642  169    1  444  285  706\n",
            "  1721  151  400   34    9    3    0    0    0    0    0    0    0    0\n",
            "     0    0    0    0    0    0    0    0    0    0    0    0    0    0\n",
            "     0    0    0    0    0    0    0    0    0    0    0    0    0    0\n",
            "     0    0    0    0    0    0    0    0    0    0    0    0    0    0\n",
            "     0    0    0    0    0    0    0    0    0    0    0    0    0    0\n",
            "     0    0    0    0    0    0    0    0    0    0    0    0    0    0\n",
            "     0    0    0    0    0    0    0    0    0    0    0    0    0    0\n",
            "     0    0    0    0    0    0    0    0    0    0    0    0    0    0\n",
            "     0    0    0    0]]\n"
          ],
          "name": "stdout"
        }
      ]
    },
    {
      "cell_type": "code",
      "metadata": {
        "colab": {
          "base_uri": "https://localhost:8080/"
        },
        "id": "AJvw15txQSqE",
        "outputId": "196217d9-be33-4464-c787-33875ace15d5"
      },
      "source": [
        "result = loaded_model.predict(tokenize_words)\n",
        "print(result)"
      ],
      "execution_count": null,
      "outputs": [
        {
          "output_type": "stream",
          "text": [
            "[[0.99802494]]\n"
          ],
          "name": "stdout"
        }
      ]
    },
    {
      "cell_type": "code",
      "metadata": {
        "colab": {
          "base_uri": "https://localhost:8080/"
        },
        "id": "3NumKa_UQVn1",
        "outputId": "2f47d133-1b08-417c-b734-fca00d353bc2"
      },
      "source": [
        "if result >= 0.7:\n",
        "    print('positive')\n",
        "else:\n",
        "    print('negative')"
      ],
      "execution_count": null,
      "outputs": [
        {
          "output_type": "stream",
          "text": [
            "positive\n"
          ],
          "name": "stdout"
        }
      ]
    },
    {
      "cell_type": "markdown",
      "metadata": {
        "id": "exkkcbkzRg2W"
      },
      "source": [
        "# Testing this on tweet data"
      ]
    },
    {
      "cell_type": "code",
      "metadata": {
        "colab": {
          "base_uri": "https://localhost:8080/",
          "height": 960,
          "referenced_widgets": [
            "666e1120eae54988a88c1814e1f22e93",
            "27f04b9c43de464aaa042af00627dead",
            "77802c885023427b8b7035408db82756",
            "a6721f2a413f450b9917514ae89bf9e5",
            "e0f0689f327544fbb3345f90c40b46e1",
            "6006fb99fe744b45bcac6abc5b496b32",
            "0afce616673e4a25af309d8ee61ceb5a",
            "fc86ecbf47294e32b0fdba7555e36478",
            "4762d2208ec24134ac1d7b2d8193b531",
            "b3cf5198771f4c298077ea268b01f1dd",
            "b98a8ded08ae4fc29e483432ee4e323a",
            "770d5310f55a485490b576a57e96c35e",
            "a7f17204c6064ee0b1953f9d9b709b40",
            "25c8a02ee5f44f4abd8e4c58b80b21b1",
            "b95989337cdd4a14a490899ca4db244f",
            "0f6d58e2b384474280539978a5504ae2",
            "f9538fa35ec74011a9ab18be4653f3e8",
            "6a0fb8a9a26848f6867422ee6145826b",
            "076f2b249be747f394f88e9ab8420d89",
            "31bb9c8f47dd49a99a221f8a6017e99d",
            "5136ecf2eb614761a8afbaa79211d76d",
            "958cc98efe0f492da59bd2cd1886377f",
            "c1777493a4094c889e68e5d2a2073ea7",
            "5d7a9114cb3b4ed89f0b30c529f7fb8a"
          ]
        },
        "id": "lbw3zst_QZd4",
        "outputId": "a97f7dd7-bd79-447f-d061-ce3d75f1a6cc"
      },
      "source": [
        "# from keras.preprocessing.text import Tokenizer\n",
        "# from keras.preprocessing.sequence import pad_sequences\n",
        "\n",
        "\n",
        "!pip install transformers command\n",
        "from transformers import BertTokenizer, TFBertForSequenceClassification\n",
        "\n",
        "model = TFBertForSequenceClassification.from_pretrained(\"bert-base-uncased\")\n",
        "tokenizer = BertTokenizer.from_pretrained(\"bert-base-uncased\")"
      ],
      "execution_count": null,
      "outputs": [
        {
          "output_type": "stream",
          "text": [
            "Collecting transformers\n",
            "\u001b[?25l  Downloading https://files.pythonhosted.org/packages/cd/40/866cbfac4601e0f74c7303d533a9c5d4a53858bd402e08e3e294dd271f25/transformers-4.2.1-py3-none-any.whl (1.8MB)\n",
            "\r\u001b[K     |▏                               | 10kB 29.7MB/s eta 0:00:01\r\u001b[K     |▍                               | 20kB 34.7MB/s eta 0:00:01\r\u001b[K     |▋                               | 30kB 21.1MB/s eta 0:00:01\r\u001b[K     |▊                               | 40kB 19.7MB/s eta 0:00:01\r\u001b[K     |█                               | 51kB 20.6MB/s eta 0:00:01\r\u001b[K     |█▏                              | 61kB 15.8MB/s eta 0:00:01\r\u001b[K     |█▎                              | 71kB 15.4MB/s eta 0:00:01\r\u001b[K     |█▌                              | 81kB 14.8MB/s eta 0:00:01\r\u001b[K     |█▊                              | 92kB 14.9MB/s eta 0:00:01\r\u001b[K     |█▉                              | 102kB 15.5MB/s eta 0:00:01\r\u001b[K     |██                              | 112kB 15.5MB/s eta 0:00:01\r\u001b[K     |██▎                             | 122kB 15.5MB/s eta 0:00:01\r\u001b[K     |██▍                             | 133kB 15.5MB/s eta 0:00:01\r\u001b[K     |██▋                             | 143kB 15.5MB/s eta 0:00:01\r\u001b[K     |██▉                             | 153kB 15.5MB/s eta 0:00:01\r\u001b[K     |███                             | 163kB 15.5MB/s eta 0:00:01\r\u001b[K     |███▏                            | 174kB 15.5MB/s eta 0:00:01\r\u001b[K     |███▍                            | 184kB 15.5MB/s eta 0:00:01\r\u001b[K     |███▌                            | 194kB 15.5MB/s eta 0:00:01\r\u001b[K     |███▊                            | 204kB 15.5MB/s eta 0:00:01\r\u001b[K     |████                            | 215kB 15.5MB/s eta 0:00:01\r\u001b[K     |████                            | 225kB 15.5MB/s eta 0:00:01\r\u001b[K     |████▎                           | 235kB 15.5MB/s eta 0:00:01\r\u001b[K     |████▌                           | 245kB 15.5MB/s eta 0:00:01\r\u001b[K     |████▋                           | 256kB 15.5MB/s eta 0:00:01\r\u001b[K     |████▉                           | 266kB 15.5MB/s eta 0:00:01\r\u001b[K     |█████                           | 276kB 15.5MB/s eta 0:00:01\r\u001b[K     |█████▏                          | 286kB 15.5MB/s eta 0:00:01\r\u001b[K     |█████▍                          | 296kB 15.5MB/s eta 0:00:01\r\u001b[K     |█████▋                          | 307kB 15.5MB/s eta 0:00:01\r\u001b[K     |█████▊                          | 317kB 15.5MB/s eta 0:00:01\r\u001b[K     |██████                          | 327kB 15.5MB/s eta 0:00:01\r\u001b[K     |██████▏                         | 337kB 15.5MB/s eta 0:00:01\r\u001b[K     |██████▎                         | 348kB 15.5MB/s eta 0:00:01\r\u001b[K     |██████▌                         | 358kB 15.5MB/s eta 0:00:01\r\u001b[K     |██████▊                         | 368kB 15.5MB/s eta 0:00:01\r\u001b[K     |██████▉                         | 378kB 15.5MB/s eta 0:00:01\r\u001b[K     |███████                         | 389kB 15.5MB/s eta 0:00:01\r\u001b[K     |███████▎                        | 399kB 15.5MB/s eta 0:00:01\r\u001b[K     |███████▍                        | 409kB 15.5MB/s eta 0:00:01\r\u001b[K     |███████▋                        | 419kB 15.5MB/s eta 0:00:01\r\u001b[K     |███████▉                        | 430kB 15.5MB/s eta 0:00:01\r\u001b[K     |████████                        | 440kB 15.5MB/s eta 0:00:01\r\u001b[K     |████████▏                       | 450kB 15.5MB/s eta 0:00:01\r\u001b[K     |████████▍                       | 460kB 15.5MB/s eta 0:00:01\r\u001b[K     |████████▌                       | 471kB 15.5MB/s eta 0:00:01\r\u001b[K     |████████▊                       | 481kB 15.5MB/s eta 0:00:01\r\u001b[K     |█████████                       | 491kB 15.5MB/s eta 0:00:01\r\u001b[K     |█████████                       | 501kB 15.5MB/s eta 0:00:01\r\u001b[K     |█████████▎                      | 512kB 15.5MB/s eta 0:00:01\r\u001b[K     |█████████▌                      | 522kB 15.5MB/s eta 0:00:01\r\u001b[K     |█████████▋                      | 532kB 15.5MB/s eta 0:00:01\r\u001b[K     |█████████▉                      | 542kB 15.5MB/s eta 0:00:01\r\u001b[K     |██████████                      | 552kB 15.5MB/s eta 0:00:01\r\u001b[K     |██████████▏                     | 563kB 15.5MB/s eta 0:00:01\r\u001b[K     |██████████▍                     | 573kB 15.5MB/s eta 0:00:01\r\u001b[K     |██████████▋                     | 583kB 15.5MB/s eta 0:00:01\r\u001b[K     |██████████▊                     | 593kB 15.5MB/s eta 0:00:01\r\u001b[K     |███████████                     | 604kB 15.5MB/s eta 0:00:01\r\u001b[K     |███████████▏                    | 614kB 15.5MB/s eta 0:00:01\r\u001b[K     |███████████▎                    | 624kB 15.5MB/s eta 0:00:01\r\u001b[K     |███████████▌                    | 634kB 15.5MB/s eta 0:00:01\r\u001b[K     |███████████▊                    | 645kB 15.5MB/s eta 0:00:01\r\u001b[K     |███████████▉                    | 655kB 15.5MB/s eta 0:00:01\r\u001b[K     |████████████                    | 665kB 15.5MB/s eta 0:00:01\r\u001b[K     |████████████▎                   | 675kB 15.5MB/s eta 0:00:01\r\u001b[K     |████████████▍                   | 686kB 15.5MB/s eta 0:00:01\r\u001b[K     |████████████▋                   | 696kB 15.5MB/s eta 0:00:01\r\u001b[K     |████████████▉                   | 706kB 15.5MB/s eta 0:00:01\r\u001b[K     |█████████████                   | 716kB 15.5MB/s eta 0:00:01\r\u001b[K     |█████████████▏                  | 727kB 15.5MB/s eta 0:00:01\r\u001b[K     |█████████████▍                  | 737kB 15.5MB/s eta 0:00:01\r\u001b[K     |█████████████▌                  | 747kB 15.5MB/s eta 0:00:01\r\u001b[K     |█████████████▊                  | 757kB 15.5MB/s eta 0:00:01\r\u001b[K     |██████████████                  | 768kB 15.5MB/s eta 0:00:01\r\u001b[K     |██████████████                  | 778kB 15.5MB/s eta 0:00:01\r\u001b[K     |██████████████▎                 | 788kB 15.5MB/s eta 0:00:01\r\u001b[K     |██████████████▌                 | 798kB 15.5MB/s eta 0:00:01\r\u001b[K     |██████████████▋                 | 808kB 15.5MB/s eta 0:00:01\r\u001b[K     |██████████████▉                 | 819kB 15.5MB/s eta 0:00:01\r\u001b[K     |███████████████                 | 829kB 15.5MB/s eta 0:00:01\r\u001b[K     |███████████████▏                | 839kB 15.5MB/s eta 0:00:01\r\u001b[K     |███████████████▍                | 849kB 15.5MB/s eta 0:00:01\r\u001b[K     |███████████████▋                | 860kB 15.5MB/s eta 0:00:01\r\u001b[K     |███████████████▊                | 870kB 15.5MB/s eta 0:00:01\r\u001b[K     |████████████████                | 880kB 15.5MB/s eta 0:00:01\r\u001b[K     |████████████████▏               | 890kB 15.5MB/s eta 0:00:01\r\u001b[K     |████████████████▎               | 901kB 15.5MB/s eta 0:00:01\r\u001b[K     |████████████████▌               | 911kB 15.5MB/s eta 0:00:01\r\u001b[K     |████████████████▊               | 921kB 15.5MB/s eta 0:00:01\r\u001b[K     |████████████████▉               | 931kB 15.5MB/s eta 0:00:01\r\u001b[K     |█████████████████               | 942kB 15.5MB/s eta 0:00:01\r\u001b[K     |█████████████████▎              | 952kB 15.5MB/s eta 0:00:01\r\u001b[K     |█████████████████▍              | 962kB 15.5MB/s eta 0:00:01\r\u001b[K     |█████████████████▋              | 972kB 15.5MB/s eta 0:00:01\r\u001b[K     |█████████████████▉              | 983kB 15.5MB/s eta 0:00:01\r\u001b[K     |██████████████████              | 993kB 15.5MB/s eta 0:00:01\r\u001b[K     |██████████████████▏             | 1.0MB 15.5MB/s eta 0:00:01\r\u001b[K     |██████████████████▍             | 1.0MB 15.5MB/s eta 0:00:01\r\u001b[K     |██████████████████▌             | 1.0MB 15.5MB/s eta 0:00:01\r\u001b[K     |██████████████████▊             | 1.0MB 15.5MB/s eta 0:00:01\r\u001b[K     |███████████████████             | 1.0MB 15.5MB/s eta 0:00:01\r\u001b[K     |███████████████████             | 1.1MB 15.5MB/s eta 0:00:01\r\u001b[K     |███████████████████▎            | 1.1MB 15.5MB/s eta 0:00:01\r\u001b[K     |███████████████████▌            | 1.1MB 15.5MB/s eta 0:00:01\r\u001b[K     |███████████████████▋            | 1.1MB 15.5MB/s eta 0:00:01\r\u001b[K     |███████████████████▉            | 1.1MB 15.5MB/s eta 0:00:01\r\u001b[K     |████████████████████            | 1.1MB 15.5MB/s eta 0:00:01\r\u001b[K     |████████████████████▏           | 1.1MB 15.5MB/s eta 0:00:01\r\u001b[K     |████████████████████▍           | 1.1MB 15.5MB/s eta 0:00:01\r\u001b[K     |████████████████████▋           | 1.1MB 15.5MB/s eta 0:00:01\r\u001b[K     |████████████████████▊           | 1.1MB 15.5MB/s eta 0:00:01\r\u001b[K     |█████████████████████           | 1.2MB 15.5MB/s eta 0:00:01\r\u001b[K     |█████████████████████▏          | 1.2MB 15.5MB/s eta 0:00:01\r\u001b[K     |█████████████████████▎          | 1.2MB 15.5MB/s eta 0:00:01\r\u001b[K     |█████████████████████▌          | 1.2MB 15.5MB/s eta 0:00:01\r\u001b[K     |█████████████████████▊          | 1.2MB 15.5MB/s eta 0:00:01\r\u001b[K     |█████████████████████▉          | 1.2MB 15.5MB/s eta 0:00:01\r\u001b[K     |██████████████████████          | 1.2MB 15.5MB/s eta 0:00:01\r\u001b[K     |██████████████████████▎         | 1.2MB 15.5MB/s eta 0:00:01\r\u001b[K     |██████████████████████▍         | 1.2MB 15.5MB/s eta 0:00:01\r\u001b[K     |██████████████████████▋         | 1.2MB 15.5MB/s eta 0:00:01\r\u001b[K     |██████████████████████▉         | 1.3MB 15.5MB/s eta 0:00:01\r\u001b[K     |███████████████████████         | 1.3MB 15.5MB/s eta 0:00:01\r\u001b[K     |███████████████████████▏        | 1.3MB 15.5MB/s eta 0:00:01\r\u001b[K     |███████████████████████▍        | 1.3MB 15.5MB/s eta 0:00:01\r\u001b[K     |███████████████████████▋        | 1.3MB 15.5MB/s eta 0:00:01\r\u001b[K     |███████████████████████▊        | 1.3MB 15.5MB/s eta 0:00:01\r\u001b[K     |████████████████████████        | 1.3MB 15.5MB/s eta 0:00:01\r\u001b[K     |████████████████████████▏       | 1.3MB 15.5MB/s eta 0:00:01\r\u001b[K     |████████████████████████▎       | 1.3MB 15.5MB/s eta 0:00:01\r\u001b[K     |████████████████████████▌       | 1.4MB 15.5MB/s eta 0:00:01\r\u001b[K     |████████████████████████▊       | 1.4MB 15.5MB/s eta 0:00:01\r\u001b[K     |████████████████████████▉       | 1.4MB 15.5MB/s eta 0:00:01\r\u001b[K     |█████████████████████████       | 1.4MB 15.5MB/s eta 0:00:01\r\u001b[K     |█████████████████████████▎      | 1.4MB 15.5MB/s eta 0:00:01\r\u001b[K     |█████████████████████████▍      | 1.4MB 15.5MB/s eta 0:00:01\r\u001b[K     |█████████████████████████▋      | 1.4MB 15.5MB/s eta 0:00:01\r\u001b[K     |█████████████████████████▉      | 1.4MB 15.5MB/s eta 0:00:01\r\u001b[K     |██████████████████████████      | 1.4MB 15.5MB/s eta 0:00:01\r\u001b[K     |██████████████████████████▏     | 1.4MB 15.5MB/s eta 0:00:01\r\u001b[K     |██████████████████████████▍     | 1.5MB 15.5MB/s eta 0:00:01\r\u001b[K     |██████████████████████████▌     | 1.5MB 15.5MB/s eta 0:00:01\r\u001b[K     |██████████████████████████▊     | 1.5MB 15.5MB/s eta 0:00:01\r\u001b[K     |███████████████████████████     | 1.5MB 15.5MB/s eta 0:00:01\r\u001b[K     |███████████████████████████     | 1.5MB 15.5MB/s eta 0:00:01\r\u001b[K     |███████████████████████████▎    | 1.5MB 15.5MB/s eta 0:00:01\r\u001b[K     |███████████████████████████▌    | 1.5MB 15.5MB/s eta 0:00:01\r\u001b[K     |███████████████████████████▋    | 1.5MB 15.5MB/s eta 0:00:01\r\u001b[K     |███████████████████████████▉    | 1.5MB 15.5MB/s eta 0:00:01\r\u001b[K     |████████████████████████████    | 1.5MB 15.5MB/s eta 0:00:01\r\u001b[K     |████████████████████████████▏   | 1.6MB 15.5MB/s eta 0:00:01\r\u001b[K     |████████████████████████████▍   | 1.6MB 15.5MB/s eta 0:00:01\r\u001b[K     |████████████████████████████▋   | 1.6MB 15.5MB/s eta 0:00:01\r\u001b[K     |████████████████████████████▊   | 1.6MB 15.5MB/s eta 0:00:01\r\u001b[K     |█████████████████████████████   | 1.6MB 15.5MB/s eta 0:00:01\r\u001b[K     |█████████████████████████████▏  | 1.6MB 15.5MB/s eta 0:00:01\r\u001b[K     |█████████████████████████████▎  | 1.6MB 15.5MB/s eta 0:00:01\r\u001b[K     |█████████████████████████████▌  | 1.6MB 15.5MB/s eta 0:00:01\r\u001b[K     |█████████████████████████████▊  | 1.6MB 15.5MB/s eta 0:00:01\r\u001b[K     |█████████████████████████████▉  | 1.6MB 15.5MB/s eta 0:00:01\r\u001b[K     |██████████████████████████████  | 1.7MB 15.5MB/s eta 0:00:01\r\u001b[K     |██████████████████████████████▎ | 1.7MB 15.5MB/s eta 0:00:01\r\u001b[K     |██████████████████████████████▍ | 1.7MB 15.5MB/s eta 0:00:01\r\u001b[K     |██████████████████████████████▋ | 1.7MB 15.5MB/s eta 0:00:01\r\u001b[K     |██████████████████████████████▉ | 1.7MB 15.5MB/s eta 0:00:01\r\u001b[K     |███████████████████████████████ | 1.7MB 15.5MB/s eta 0:00:01\r\u001b[K     |███████████████████████████████▏| 1.7MB 15.5MB/s eta 0:00:01\r\u001b[K     |███████████████████████████████▍| 1.7MB 15.5MB/s eta 0:00:01\r\u001b[K     |███████████████████████████████▌| 1.7MB 15.5MB/s eta 0:00:01\r\u001b[K     |███████████████████████████████▊| 1.8MB 15.5MB/s eta 0:00:01\r\u001b[K     |████████████████████████████████| 1.8MB 15.5MB/s eta 0:00:01\r\u001b[K     |████████████████████████████████| 1.8MB 15.5MB/s \n",
            "\u001b[?25hCollecting command\n",
            "  Downloading https://files.pythonhosted.org/packages/f1/aa/fd642369a793e4a79c99f8da8cf3f7541276c43fbe1c47f7f49c1d64928e/Command-0.1.0.tar.gz\n",
            "Requirement already satisfied: packaging in /usr/local/lib/python3.6/dist-packages (from transformers) (20.8)\n",
            "Requirement already satisfied: tqdm>=4.27 in /usr/local/lib/python3.6/dist-packages (from transformers) (4.41.1)\n",
            "Requirement already satisfied: importlib-metadata; python_version < \"3.8\" in /usr/local/lib/python3.6/dist-packages (from transformers) (3.3.0)\n",
            "Collecting sacremoses\n",
            "\u001b[?25l  Downloading https://files.pythonhosted.org/packages/7d/34/09d19aff26edcc8eb2a01bed8e98f13a1537005d31e95233fd48216eed10/sacremoses-0.0.43.tar.gz (883kB)\n",
            "\u001b[K     |████████████████████████████████| 890kB 44.1MB/s \n",
            "\u001b[?25hRequirement already satisfied: requests in /usr/local/lib/python3.6/dist-packages (from transformers) (2.23.0)\n",
            "Requirement already satisfied: dataclasses; python_version < \"3.7\" in /usr/local/lib/python3.6/dist-packages (from transformers) (0.8)\n",
            "Requirement already satisfied: filelock in /usr/local/lib/python3.6/dist-packages (from transformers) (3.0.12)\n",
            "Collecting tokenizers==0.9.4\n",
            "\u001b[?25l  Downloading https://files.pythonhosted.org/packages/0f/1c/e789a8b12e28be5bc1ce2156cf87cb522b379be9cadc7ad8091a4cc107c4/tokenizers-0.9.4-cp36-cp36m-manylinux2010_x86_64.whl (2.9MB)\n",
            "\u001b[K     |████████████████████████████████| 2.9MB 54.8MB/s \n",
            "\u001b[?25hRequirement already satisfied: numpy in /usr/local/lib/python3.6/dist-packages (from transformers) (1.19.5)\n",
            "Requirement already satisfied: regex!=2019.12.17 in /usr/local/lib/python3.6/dist-packages (from transformers) (2019.12.20)\n",
            "Requirement already satisfied: setuptools in /usr/local/lib/python3.6/dist-packages (from command) (51.1.1)\n",
            "Requirement already satisfied: pyparsing>=2.0.2 in /usr/local/lib/python3.6/dist-packages (from packaging->transformers) (2.4.7)\n",
            "Requirement already satisfied: typing-extensions>=3.6.4; python_version < \"3.8\" in /usr/local/lib/python3.6/dist-packages (from importlib-metadata; python_version < \"3.8\"->transformers) (3.7.4.3)\n",
            "Requirement already satisfied: zipp>=0.5 in /usr/local/lib/python3.6/dist-packages (from importlib-metadata; python_version < \"3.8\"->transformers) (3.4.0)\n",
            "Requirement already satisfied: six in /usr/local/lib/python3.6/dist-packages (from sacremoses->transformers) (1.15.0)\n",
            "Requirement already satisfied: click in /usr/local/lib/python3.6/dist-packages (from sacremoses->transformers) (7.1.2)\n",
            "Requirement already satisfied: joblib in /usr/local/lib/python3.6/dist-packages (from sacremoses->transformers) (1.0.0)\n",
            "Requirement already satisfied: urllib3!=1.25.0,!=1.25.1,<1.26,>=1.21.1 in /usr/local/lib/python3.6/dist-packages (from requests->transformers) (1.24.3)\n",
            "Requirement already satisfied: idna<3,>=2.5 in /usr/local/lib/python3.6/dist-packages (from requests->transformers) (2.10)\n",
            "Requirement already satisfied: certifi>=2017.4.17 in /usr/local/lib/python3.6/dist-packages (from requests->transformers) (2020.12.5)\n",
            "Requirement already satisfied: chardet<4,>=3.0.2 in /usr/local/lib/python3.6/dist-packages (from requests->transformers) (3.0.4)\n",
            "Building wheels for collected packages: command, sacremoses\n",
            "  Building wheel for command (setup.py) ... \u001b[?25l\u001b[?25hdone\n",
            "  Created wheel for command: filename=Command-0.1.0-cp36-none-any.whl size=6406 sha256=aceed2257756ff61a270c6d4d4405b6607b54400d548c28f760b8b7093af8bd5\n",
            "  Stored in directory: /root/.cache/pip/wheels/6b/61/e7/7e78f4d431de4a7d1f83af33f599d0bfe03e65fe3ff1ad73c5\n",
            "  Building wheel for sacremoses (setup.py) ... \u001b[?25l\u001b[?25hdone\n",
            "  Created wheel for sacremoses: filename=sacremoses-0.0.43-cp36-none-any.whl size=893261 sha256=6372e273b728bfbf7042d8ce941fb11ba9ea8aba8f4997f84ea169a57aaa9ac8\n",
            "  Stored in directory: /root/.cache/pip/wheels/29/3c/fd/7ce5c3f0666dab31a50123635e6fb5e19ceb42ce38d4e58f45\n",
            "Successfully built command sacremoses\n",
            "Installing collected packages: sacremoses, tokenizers, transformers, command\n",
            "Successfully installed command-0.1.0 sacremoses-0.0.43 tokenizers-0.9.4 transformers-4.2.1\n"
          ],
          "name": "stdout"
        },
        {
          "output_type": "display_data",
          "data": {
            "application/vnd.jupyter.widget-view+json": {
              "model_id": "666e1120eae54988a88c1814e1f22e93",
              "version_minor": 0,
              "version_major": 2
            },
            "text/plain": [
              "HBox(children=(FloatProgress(value=0.0, description='Downloading', max=433.0, style=ProgressStyle(description_…"
            ]
          },
          "metadata": {
            "tags": []
          }
        },
        {
          "output_type": "stream",
          "text": [
            "\n"
          ],
          "name": "stdout"
        },
        {
          "output_type": "display_data",
          "data": {
            "application/vnd.jupyter.widget-view+json": {
              "model_id": "4762d2208ec24134ac1d7b2d8193b531",
              "version_minor": 0,
              "version_major": 2
            },
            "text/plain": [
              "HBox(children=(FloatProgress(value=0.0, description='Downloading', max=536063208.0, style=ProgressStyle(descri…"
            ]
          },
          "metadata": {
            "tags": []
          }
        },
        {
          "output_type": "stream",
          "text": [
            "\n"
          ],
          "name": "stdout"
        },
        {
          "output_type": "stream",
          "text": [
            "All model checkpoint layers were used when initializing TFBertForSequenceClassification.\n",
            "\n",
            "Some layers of TFBertForSequenceClassification were not initialized from the model checkpoint at bert-base-uncased and are newly initialized: ['classifier']\n",
            "You should probably TRAIN this model on a down-stream task to be able to use it for predictions and inference.\n"
          ],
          "name": "stderr"
        },
        {
          "output_type": "display_data",
          "data": {
            "application/vnd.jupyter.widget-view+json": {
              "model_id": "f9538fa35ec74011a9ab18be4653f3e8",
              "version_minor": 0,
              "version_major": 2
            },
            "text/plain": [
              "HBox(children=(FloatProgress(value=0.0, description='Downloading', max=231508.0, style=ProgressStyle(descripti…"
            ]
          },
          "metadata": {
            "tags": []
          }
        },
        {
          "output_type": "stream",
          "text": [
            "\n"
          ],
          "name": "stdout"
        }
      ]
    },
    {
      "cell_type": "code",
      "metadata": {
        "id": "kgDdQQR2RmzL"
      },
      "source": [
        "loaded_model = load_model('/content/drive/MyDrive/US_elections/LSTM/LSTM.h5')"
      ],
      "execution_count": null,
      "outputs": []
    },
    {
      "cell_type": "code",
      "metadata": {
        "colab": {
          "base_uri": "https://localhost:8080/"
        },
        "id": "313k8fiBRrdW",
        "outputId": "3a499b09-054d-4b5c-95f6-f3d0cb601848"
      },
      "source": [
        "biden_df = pd.read_csv('/content/drive/MyDrive/US_elections/cleaned_sample_100_biden.csv')\n",
        "trump_df = pd.read_csv('/content/drive/MyDrive/US_elections/cleaned_sample_100_trump.csv')"
      ],
      "execution_count": null,
      "outputs": [
        {
          "output_type": "stream",
          "text": [
            "/usr/local/lib/python3.6/dist-packages/IPython/core/interactiveshell.py:2718: DtypeWarning: Columns (0,2,3) have mixed types.Specify dtype option on import or set low_memory=False.\n",
            "  interactivity=interactivity, compiler=compiler, result=result)\n",
            "/usr/local/lib/python3.6/dist-packages/IPython/core/interactiveshell.py:2718: DtypeWarning: Columns (0,2) have mixed types.Specify dtype option on import or set low_memory=False.\n",
            "  interactivity=interactivity, compiler=compiler, result=result)\n"
          ],
          "name": "stderr"
        }
      ]
    },
    {
      "cell_type": "code",
      "metadata": {
        "colab": {
          "base_uri": "https://localhost:8080/",
          "height": 47
        },
        "id": "TZuBwtOASF9i",
        "outputId": "bf68479c-99c6-4010-c09d-6ee8ecc90f87"
      },
      "source": [
        "biden_df.loc[:,'who'] = 'biden'\n",
        "trump_df.loc[:,'who'] = 'trump'\n",
        "\n",
        "balance_data_df = pd.DataFrame(columns=trump_df.columns)\n",
        "balance_data_df"
      ],
      "execution_count": null,
      "outputs": [
        {
          "output_type": "execute_result",
          "data": {
            "text/html": [
              "<div>\n",
              "<style scoped>\n",
              "    .dataframe tbody tr th:only-of-type {\n",
              "        vertical-align: middle;\n",
              "    }\n",
              "\n",
              "    .dataframe tbody tr th {\n",
              "        vertical-align: top;\n",
              "    }\n",
              "\n",
              "    .dataframe thead th {\n",
              "        text-align: right;\n",
              "    }\n",
              "</style>\n",
              "<table border=\"1\" class=\"dataframe\">\n",
              "  <thead>\n",
              "    <tr style=\"text-align: right;\">\n",
              "      <th></th>\n",
              "      <th>user_id</th>\n",
              "      <th>tweet</th>\n",
              "      <th>long</th>\n",
              "      <th>lat</th>\n",
              "      <th>state_code</th>\n",
              "      <th>sentiment</th>\n",
              "      <th>who</th>\n",
              "    </tr>\n",
              "  </thead>\n",
              "  <tbody>\n",
              "  </tbody>\n",
              "</table>\n",
              "</div>"
            ],
            "text/plain": [
              "Empty DataFrame\n",
              "Columns: [user_id, tweet, long, lat, state_code, sentiment, who]\n",
              "Index: []"
            ]
          },
          "metadata": {
            "tags": []
          },
          "execution_count": 54
        }
      ]
    },
    {
      "cell_type": "code",
      "metadata": {
        "id": "J5MvrHJZSIkr"
      },
      "source": [
        "states_list = set(biden_df['state_code']).union(set(trump_df['state_code'])) - set(['MP', 'GU', 'PR', 'VI', 'AS', 'UM', ])"
      ],
      "execution_count": null,
      "outputs": []
    },
    {
      "cell_type": "code",
      "metadata": {
        "id": "h5gH4KZ4SPOj"
      },
      "source": [
        "for state in states_list:\n",
        "    trump_df_state = trump_df[trump_df['state_code']==state]\n",
        "    biden_df_state = biden_df[biden_df['state_code']==state]\n",
        "    \n",
        "    n_sample = len(trump_df_state) if len(trump_df_state) < len(biden_df_state) else len(biden_df_state)\n",
        "    \n",
        "    if len(trump_df_state) < len(biden_df_state):\n",
        "        balance_data_df = pd.concat([balance_data_df, trump_df_state])\n",
        "        balance_data_df = pd.concat([balance_data_df, biden_df_state.sample(len(trump_df_state))])\n",
        "    else:\n",
        "        balance_data_df = pd.concat([balance_data_df, biden_df_state])\n",
        "        balance_data_df = pd.concat([balance_data_df, trump_df_state.sample(len(biden_df_state))])"
      ],
      "execution_count": null,
      "outputs": []
    },
    {
      "cell_type": "code",
      "metadata": {
        "colab": {
          "base_uri": "https://localhost:8080/",
          "height": 402
        },
        "id": "DHBiBy5NSQoo",
        "outputId": "dc2e6726-b9ed-4ae4-8393-6df208eaff95"
      },
      "source": [
        "balance_data_df"
      ],
      "execution_count": null,
      "outputs": [
        {
          "output_type": "execute_result",
          "data": {
            "text/html": [
              "<div>\n",
              "<style scoped>\n",
              "    .dataframe tbody tr th:only-of-type {\n",
              "        vertical-align: middle;\n",
              "    }\n",
              "\n",
              "    .dataframe tbody tr th {\n",
              "        vertical-align: top;\n",
              "    }\n",
              "\n",
              "    .dataframe thead th {\n",
              "        text-align: right;\n",
              "    }\n",
              "</style>\n",
              "<table border=\"1\" class=\"dataframe\">\n",
              "  <thead>\n",
              "    <tr style=\"text-align: right;\">\n",
              "      <th></th>\n",
              "      <th>user_id</th>\n",
              "      <th>tweet</th>\n",
              "      <th>long</th>\n",
              "      <th>lat</th>\n",
              "      <th>state_code</th>\n",
              "      <th>sentiment</th>\n",
              "      <th>who</th>\n",
              "    </tr>\n",
              "  </thead>\n",
              "  <tbody>\n",
              "    <tr>\n",
              "      <th>0</th>\n",
              "      <td>1081.0</td>\n",
              "      <td>finally FoxNews just called it for Biden</td>\n",
              "      <td>-122.0322895</td>\n",
              "      <td>37.3229</td>\n",
              "      <td>CA</td>\n",
              "      <td>0.0</td>\n",
              "      <td>trump</td>\n",
              "    </tr>\n",
              "    <tr>\n",
              "      <th>11</th>\n",
              "      <td>10727.0</td>\n",
              "      <td>biden beats trump. Talk about a relaxing way t...</td>\n",
              "      <td>-122.4199061</td>\n",
              "      <td>37.779</td>\n",
              "      <td>CA</td>\n",
              "      <td>0.0</td>\n",
              "      <td>trump</td>\n",
              "    </tr>\n",
              "    <tr>\n",
              "      <th>15</th>\n",
              "      <td>29283.0</td>\n",
              "      <td>Trump mentioned Motown in MI today,  but Motow...</td>\n",
              "      <td>-122.4199061</td>\n",
              "      <td>37.779</td>\n",
              "      <td>CA</td>\n",
              "      <td>0.0</td>\n",
              "      <td>trump</td>\n",
              "    </tr>\n",
              "    <tr>\n",
              "      <th>25</th>\n",
              "      <td>647253.0</td>\n",
              "      <td>Fully agree! You can dislike Bidens politics h...</td>\n",
              "      <td>-122.2713563</td>\n",
              "      <td>37.8045</td>\n",
              "      <td>CA</td>\n",
              "      <td>0.0</td>\n",
              "      <td>trump</td>\n",
              "    </tr>\n",
              "    <tr>\n",
              "      <th>27</th>\n",
              "      <td>682223.0</td>\n",
              "      <td>This week...    JoeBiden JOEBIDEN2020 JoeBiden...</td>\n",
              "      <td>-122.4199061</td>\n",
              "      <td>37.779</td>\n",
              "      <td>CA</td>\n",
              "      <td>0.0</td>\n",
              "      <td>trump</td>\n",
              "    </tr>\n",
              "    <tr>\n",
              "      <th>...</th>\n",
              "      <td>...</td>\n",
              "      <td>...</td>\n",
              "      <td>...</td>\n",
              "      <td>...</td>\n",
              "      <td>...</td>\n",
              "      <td>...</td>\n",
              "      <td>...</td>\n",
              "    </tr>\n",
              "    <tr>\n",
              "      <th>44862</th>\n",
              "      <td>198313485.0</td>\n",
              "      <td>TheRealFixNow The DOJ has said the laptop is c...</td>\n",
              "      <td>-80.4363743</td>\n",
              "      <td>33.6874</td>\n",
              "      <td>SC</td>\n",
              "      <td>0.0</td>\n",
              "      <td>trump</td>\n",
              "    </tr>\n",
              "    <tr>\n",
              "      <th>44868</th>\n",
              "      <td>198313485.0</td>\n",
              "      <td>Their crazed, mind controlled masses are turni...</td>\n",
              "      <td>-80.4363743</td>\n",
              "      <td>33.6874</td>\n",
              "      <td>SC</td>\n",
              "      <td>0.0</td>\n",
              "      <td>trump</td>\n",
              "    </tr>\n",
              "    <tr>\n",
              "      <th>128625</th>\n",
              "      <td>1.2641824959873477e+18</td>\n",
              "      <td>BarackObama ReallyAmerican1 JoeBiden KamalaHar...</td>\n",
              "      <td>-78.89004090000002</td>\n",
              "      <td>33.6956</td>\n",
              "      <td>SC</td>\n",
              "      <td>0.0</td>\n",
              "      <td>trump</td>\n",
              "    </tr>\n",
              "    <tr>\n",
              "      <th>120406</th>\n",
              "      <td>1.156761495272903e+18</td>\n",
              "      <td>Att CNN MSNBC CBSNews NBCNews ABC NewsHour nyt...</td>\n",
              "      <td>-80.4363743</td>\n",
              "      <td>33.6874</td>\n",
              "      <td>SC</td>\n",
              "      <td>0.0</td>\n",
              "      <td>trump</td>\n",
              "    </tr>\n",
              "    <tr>\n",
              "      <th>82083</th>\n",
              "      <td>2498324239.0</td>\n",
              "      <td>GOPLeader realDonaldTrump The best is yet to c...</td>\n",
              "      <td>-80.4363743</td>\n",
              "      <td>33.6874</td>\n",
              "      <td>SC</td>\n",
              "      <td>0.0</td>\n",
              "      <td>trump</td>\n",
              "    </tr>\n",
              "  </tbody>\n",
              "</table>\n",
              "<p>271972 rows × 7 columns</p>\n",
              "</div>"
            ],
            "text/plain": [
              "                       user_id  ...    who\n",
              "0                       1081.0  ...  trump\n",
              "11                     10727.0  ...  trump\n",
              "15                     29283.0  ...  trump\n",
              "25                    647253.0  ...  trump\n",
              "27                    682223.0  ...  trump\n",
              "...                        ...  ...    ...\n",
              "44862              198313485.0  ...  trump\n",
              "44868              198313485.0  ...  trump\n",
              "128625  1.2641824959873477e+18  ...  trump\n",
              "120406   1.156761495272903e+18  ...  trump\n",
              "82083             2498324239.0  ...  trump\n",
              "\n",
              "[271972 rows x 7 columns]"
            ]
          },
          "metadata": {
            "tags": []
          },
          "execution_count": 57
        }
      ]
    },
    {
      "cell_type": "code",
      "metadata": {
        "id": "2xsP7PveSVyE"
      },
      "source": [
        "batch_size = 100"
      ],
      "execution_count": null,
      "outputs": []
    },
    {
      "cell_type": "code",
      "metadata": {
        "id": "mDINq9adSX0I"
      },
      "source": [
        "from tqdm.auto import tqdm\n",
        "import tensorflow as tf\n",
        "\n",
        "def emotion_classify(tweet_list):\n",
        "    batch_idx = np.append(np.arange(0, len(tweet_list), batch_size), len(tweet_list))\n",
        "    labels = np.array([])\n",
        "    for i in tqdm(range(len(batch_idx)-1)):\n",
        "        tf_batch = tokenizer(tweet_list[batch_idx[i]:batch_idx[i+1]], max_length=280, padding=True, truncation=True, return_tensors='tf')\n",
        "        tf_outputs = model(tf_batch)\n",
        "        tf_predictions = tf.nn.softmax(tf_outputs[0], axis=-1)\n",
        "        labels = np.append(labels, tf.argmax(tf_predictions, axis=1))\n",
        "#         labels = np.append(labels, tf_predictions[:,1])\n",
        "        del tf_batch\n",
        "    return labels"
      ],
      "execution_count": null,
      "outputs": []
    },
    {
      "cell_type": "code",
      "metadata": {
        "id": "9c_PK8bz5pDF"
      },
      "source": [
        "# vocabulary_size = 20000\n",
        "# tokenizer = Tokenizer(num_words= vocabulary_size)\n",
        "# tokenizer.fit_on_texts(balance_data_df['tweet'])\n",
        "# sequences = tokenizer.texts_to_sequences(balance_data_df['tweet'])\n",
        "# data = pad_sequences(sequences, maxlen=50)"
      ],
      "execution_count": null,
      "outputs": []
    },
    {
      "cell_type": "code",
      "metadata": {
        "colab": {
          "base_uri": "https://localhost:8080/",
          "height": 66,
          "referenced_widgets": [
            "cf5c9afee54f4b1a923a731f5677d446",
            "1a63b4343824434e95a38a79e3c289f0",
            "f3d7a20ea7c94eb4a1c8d3ace431149f",
            "d4b85706b3ef48578ce2a50cf3e6aac6",
            "43214e2d0a4544c69e9a7970e2303c3d",
            "8c5e8ea08b8540e09a9bc5bce721b196",
            "43db2f1055e048658e7a6a0772c7aaf1",
            "4b82ab19a4944daaa68e0c642464d9cf"
          ]
        },
        "id": "JjmXnQ7eTb-F",
        "outputId": "f7da35f0-5fbb-4858-fb81-cf57adf1ebb5"
      },
      "source": [
        "balance_data_df['sentiment'] = emotion_classify(list(balance_data_df['tweet']))\n"
      ],
      "execution_count": null,
      "outputs": [
        {
          "output_type": "display_data",
          "data": {
            "application/vnd.jupyter.widget-view+json": {
              "model_id": "cf5c9afee54f4b1a923a731f5677d446",
              "version_minor": 0,
              "version_major": 2
            },
            "text/plain": [
              "HBox(children=(FloatProgress(value=0.0, max=2720.0), HTML(value='')))"
            ]
          },
          "metadata": {
            "tags": []
          }
        },
        {
          "output_type": "stream",
          "text": [
            "\n"
          ],
          "name": "stdout"
        }
      ]
    },
    {
      "cell_type": "code",
      "metadata": {
        "colab": {
          "base_uri": "https://localhost:8080/",
          "height": 195
        },
        "id": "UwtKvKA13uh0",
        "outputId": "83b10322-e70a-4988-e208-6b76e02fe699"
      },
      "source": [
        "balance_data_df.to_csv('/content/drive/MyDrive/US_elections/LSTM/balance_data_with_sentiments.csv', index=False, header=True)\n",
        "\n",
        "balance_data_df.head()"
      ],
      "execution_count": null,
      "outputs": [
        {
          "output_type": "execute_result",
          "data": {
            "text/html": [
              "<div>\n",
              "<style scoped>\n",
              "    .dataframe tbody tr th:only-of-type {\n",
              "        vertical-align: middle;\n",
              "    }\n",
              "\n",
              "    .dataframe tbody tr th {\n",
              "        vertical-align: top;\n",
              "    }\n",
              "\n",
              "    .dataframe thead th {\n",
              "        text-align: right;\n",
              "    }\n",
              "</style>\n",
              "<table border=\"1\" class=\"dataframe\">\n",
              "  <thead>\n",
              "    <tr style=\"text-align: right;\">\n",
              "      <th></th>\n",
              "      <th>user_id</th>\n",
              "      <th>tweet</th>\n",
              "      <th>long</th>\n",
              "      <th>lat</th>\n",
              "      <th>state_code</th>\n",
              "      <th>sentiment</th>\n",
              "      <th>who</th>\n",
              "    </tr>\n",
              "  </thead>\n",
              "  <tbody>\n",
              "    <tr>\n",
              "      <th>0</th>\n",
              "      <td>1081.0</td>\n",
              "      <td>finally FoxNews just called it for Biden</td>\n",
              "      <td>-122.0322895</td>\n",
              "      <td>37.3229</td>\n",
              "      <td>CA</td>\n",
              "      <td>1.0</td>\n",
              "      <td>trump</td>\n",
              "    </tr>\n",
              "    <tr>\n",
              "      <th>11</th>\n",
              "      <td>10727.0</td>\n",
              "      <td>biden beats trump. Talk about a relaxing way t...</td>\n",
              "      <td>-122.4199061</td>\n",
              "      <td>37.779</td>\n",
              "      <td>CA</td>\n",
              "      <td>1.0</td>\n",
              "      <td>trump</td>\n",
              "    </tr>\n",
              "    <tr>\n",
              "      <th>15</th>\n",
              "      <td>29283.0</td>\n",
              "      <td>Trump mentioned Motown in MI today,  but Motow...</td>\n",
              "      <td>-122.4199061</td>\n",
              "      <td>37.779</td>\n",
              "      <td>CA</td>\n",
              "      <td>1.0</td>\n",
              "      <td>trump</td>\n",
              "    </tr>\n",
              "    <tr>\n",
              "      <th>25</th>\n",
              "      <td>647253.0</td>\n",
              "      <td>Fully agree! You can dislike Bidens politics h...</td>\n",
              "      <td>-122.2713563</td>\n",
              "      <td>37.8045</td>\n",
              "      <td>CA</td>\n",
              "      <td>1.0</td>\n",
              "      <td>trump</td>\n",
              "    </tr>\n",
              "    <tr>\n",
              "      <th>27</th>\n",
              "      <td>682223.0</td>\n",
              "      <td>This week...    JoeBiden JOEBIDEN2020 JoeBiden...</td>\n",
              "      <td>-122.4199061</td>\n",
              "      <td>37.779</td>\n",
              "      <td>CA</td>\n",
              "      <td>1.0</td>\n",
              "      <td>trump</td>\n",
              "    </tr>\n",
              "  </tbody>\n",
              "</table>\n",
              "</div>"
            ],
            "text/plain": [
              "     user_id  ...    who\n",
              "0     1081.0  ...  trump\n",
              "11   10727.0  ...  trump\n",
              "15   29283.0  ...  trump\n",
              "25  647253.0  ...  trump\n",
              "27  682223.0  ...  trump\n",
              "\n",
              "[5 rows x 7 columns]"
            ]
          },
          "metadata": {
            "tags": []
          },
          "execution_count": 63
        }
      ]
    },
    {
      "cell_type": "code",
      "metadata": {
        "id": "Ephc-XU2TdtJ"
      },
      "source": [
        "dem_states = set(['DC', 'VT', 'HI', 'MA', 'MD', 'CA', 'NY', 'RI', 'DE', \n",
        "                 'CT', 'WA', 'ME', 'NJ', 'OR', 'IL'])\n",
        "rep_states = set(['OH', 'IA', 'TX', 'MT', 'SC', 'AK', 'MO', 'IN', 'NE',\n",
        "                 'KS', 'UT', 'MS', 'TN', 'SD', 'KY', 'LA', 'AL', 'ND',\n",
        "                 'ID', 'AR', 'OK', 'WV', 'WY'])\n",
        "swing_states = states_list - dem_states - rep_states"
      ],
      "execution_count": null,
      "outputs": []
    },
    {
      "cell_type": "code",
      "metadata": {
        "id": "ckQHmc8MVibM"
      },
      "source": [
        "electoral_vote_by_state = pd.read_csv('/content/drive/MyDrive/US_elections/electoral_vote_by_state.csv')"
      ],
      "execution_count": null,
      "outputs": []
    },
    {
      "cell_type": "code",
      "metadata": {
        "id": "agB4IH0cVlMG"
      },
      "source": [
        "states_results = pd.DataFrame(columns=['state_code', 'biden', 'trump', 'type', 'winner'])"
      ],
      "execution_count": null,
      "outputs": []
    },
    {
      "cell_type": "code",
      "metadata": {
        "id": "DFf63qDnVofN"
      },
      "source": [
        "states_results.loc[:,'state_code'] = electoral_vote_by_state['state_code']\n",
        "states_results.loc[:,'e_vote'] = electoral_vote_by_state['e_vote']"
      ],
      "execution_count": null,
      "outputs": []
    },
    {
      "cell_type": "code",
      "metadata": {
        "id": "_FIA6MUZVo8q"
      },
      "source": [
        "type_vs_candidate = {'blue': 'biden', 'red': 'trump', 'purple': 'contentious'}\n",
        "threshold = 1.15\n",
        "for state in states_list:\n",
        "    trump_slice = balance_data_df.query(f'state_code == \"{state}\" and who == \"trump\"')\n",
        "    biden_slice = balance_data_df.query(f'state_code == \"{state}\" and who == \"biden\"')\n",
        "    trump_score = np.sum(trump_slice['sentiment']) + 1\n",
        "    biden_score = np.sum(biden_slice['sentiment']) + 1\n",
        "    \n",
        "    state_type = ''\n",
        "    if state in dem_states:\n",
        "        state_type = 'blue'\n",
        "    elif state in rep_states:\n",
        "        state_type = 'red'\n",
        "    else:\n",
        "        state_type = 'purple'\n",
        "        \n",
        "    winner = ''\n",
        "    if len(trump_slice) + len(biden_slice) < 1000:\n",
        "        winner = type_vs_candidate[state_type]\n",
        "    else:\n",
        "        if trump_score/biden_score > threshold:\n",
        "            winner = 'trump'\n",
        "        elif biden_score/trump_score > threshold:\n",
        "            winner = 'biden'\n",
        "        else:\n",
        "            winner = 'contentious'\n",
        "        \n",
        "    states_results.loc[states_results['state_code'] == state, ['biden', 'trump', 'type', 'winner']] = \\\n",
        "        [biden_score, trump_score, state_type, winner]"
      ],
      "execution_count": null,
      "outputs": []
    },
    {
      "cell_type": "code",
      "metadata": {
        "colab": {
          "base_uri": "https://localhost:8080/",
          "height": 1000
        },
        "id": "eY8cSzmtVqif",
        "outputId": "c07abbab-7bb4-4d22-8851-aedc5ce315fa"
      },
      "source": [
        "states_results.query('winner==\"contentious\"')\n"
      ],
      "execution_count": null,
      "outputs": [
        {
          "output_type": "execute_result",
          "data": {
            "text/html": [
              "<div>\n",
              "<style scoped>\n",
              "    .dataframe tbody tr th:only-of-type {\n",
              "        vertical-align: middle;\n",
              "    }\n",
              "\n",
              "    .dataframe tbody tr th {\n",
              "        vertical-align: top;\n",
              "    }\n",
              "\n",
              "    .dataframe thead th {\n",
              "        text-align: right;\n",
              "    }\n",
              "</style>\n",
              "<table border=\"1\" class=\"dataframe\">\n",
              "  <thead>\n",
              "    <tr style=\"text-align: right;\">\n",
              "      <th></th>\n",
              "      <th>state_code</th>\n",
              "      <th>biden</th>\n",
              "      <th>trump</th>\n",
              "      <th>type</th>\n",
              "      <th>winner</th>\n",
              "      <th>e_vote</th>\n",
              "    </tr>\n",
              "  </thead>\n",
              "  <tbody>\n",
              "    <tr>\n",
              "      <th>0</th>\n",
              "      <td>AL</td>\n",
              "      <td>793</td>\n",
              "      <td>791</td>\n",
              "      <td>red</td>\n",
              "      <td>contentious</td>\n",
              "      <td>9</td>\n",
              "    </tr>\n",
              "    <tr>\n",
              "      <th>4</th>\n",
              "      <td>AZ</td>\n",
              "      <td>2642</td>\n",
              "      <td>2648</td>\n",
              "      <td>purple</td>\n",
              "      <td>contentious</td>\n",
              "      <td>11</td>\n",
              "    </tr>\n",
              "    <tr>\n",
              "      <th>5</th>\n",
              "      <td>NV</td>\n",
              "      <td>2087</td>\n",
              "      <td>2087</td>\n",
              "      <td>purple</td>\n",
              "      <td>contentious</td>\n",
              "      <td>6</td>\n",
              "    </tr>\n",
              "    <tr>\n",
              "      <th>7</th>\n",
              "      <td>NH</td>\n",
              "      <td>258</td>\n",
              "      <td>257</td>\n",
              "      <td>purple</td>\n",
              "      <td>contentious</td>\n",
              "      <td>4</td>\n",
              "    </tr>\n",
              "    <tr>\n",
              "      <th>8</th>\n",
              "      <td>CA</td>\n",
              "      <td>23581</td>\n",
              "      <td>23685</td>\n",
              "      <td>blue</td>\n",
              "      <td>contentious</td>\n",
              "      <td>55</td>\n",
              "    </tr>\n",
              "    <tr>\n",
              "      <th>9</th>\n",
              "      <td>NJ</td>\n",
              "      <td>3566</td>\n",
              "      <td>3569</td>\n",
              "      <td>blue</td>\n",
              "      <td>contentious</td>\n",
              "      <td>14</td>\n",
              "    </tr>\n",
              "    <tr>\n",
              "      <th>10</th>\n",
              "      <td>CO</td>\n",
              "      <td>2407</td>\n",
              "      <td>2459</td>\n",
              "      <td>purple</td>\n",
              "      <td>contentious</td>\n",
              "      <td>9</td>\n",
              "    </tr>\n",
              "    <tr>\n",
              "      <th>11</th>\n",
              "      <td>NM</td>\n",
              "      <td>426</td>\n",
              "      <td>430</td>\n",
              "      <td>purple</td>\n",
              "      <td>contentious</td>\n",
              "      <td>5</td>\n",
              "    </tr>\n",
              "    <tr>\n",
              "      <th>12</th>\n",
              "      <td>CT</td>\n",
              "      <td>832</td>\n",
              "      <td>831</td>\n",
              "      <td>blue</td>\n",
              "      <td>contentious</td>\n",
              "      <td>7</td>\n",
              "    </tr>\n",
              "    <tr>\n",
              "      <th>13</th>\n",
              "      <td>NY</td>\n",
              "      <td>17185</td>\n",
              "      <td>17248</td>\n",
              "      <td>blue</td>\n",
              "      <td>contentious</td>\n",
              "      <td>29</td>\n",
              "    </tr>\n",
              "    <tr>\n",
              "      <th>15</th>\n",
              "      <td>NC</td>\n",
              "      <td>2908</td>\n",
              "      <td>2935</td>\n",
              "      <td>purple</td>\n",
              "      <td>contentious</td>\n",
              "      <td>15</td>\n",
              "    </tr>\n",
              "    <tr>\n",
              "      <th>16</th>\n",
              "      <td>DC</td>\n",
              "      <td>5679</td>\n",
              "      <td>5704</td>\n",
              "      <td>blue</td>\n",
              "      <td>contentious</td>\n",
              "      <td>3</td>\n",
              "    </tr>\n",
              "    <tr>\n",
              "      <th>18</th>\n",
              "      <td>FL</td>\n",
              "      <td>11055</td>\n",
              "      <td>11069</td>\n",
              "      <td>purple</td>\n",
              "      <td>contentious</td>\n",
              "      <td>29</td>\n",
              "    </tr>\n",
              "    <tr>\n",
              "      <th>19</th>\n",
              "      <td>OH</td>\n",
              "      <td>3069</td>\n",
              "      <td>3072</td>\n",
              "      <td>red</td>\n",
              "      <td>contentious</td>\n",
              "      <td>18</td>\n",
              "    </tr>\n",
              "    <tr>\n",
              "      <th>20</th>\n",
              "      <td>GA</td>\n",
              "      <td>2723</td>\n",
              "      <td>2737</td>\n",
              "      <td>purple</td>\n",
              "      <td>contentious</td>\n",
              "      <td>16</td>\n",
              "    </tr>\n",
              "    <tr>\n",
              "      <th>21</th>\n",
              "      <td>OK</td>\n",
              "      <td>714</td>\n",
              "      <td>724</td>\n",
              "      <td>red</td>\n",
              "      <td>contentious</td>\n",
              "      <td>7</td>\n",
              "    </tr>\n",
              "    <tr>\n",
              "      <th>22</th>\n",
              "      <td>HI</td>\n",
              "      <td>576</td>\n",
              "      <td>577</td>\n",
              "      <td>blue</td>\n",
              "      <td>contentious</td>\n",
              "      <td>4</td>\n",
              "    </tr>\n",
              "    <tr>\n",
              "      <th>23</th>\n",
              "      <td>OR</td>\n",
              "      <td>1924</td>\n",
              "      <td>1965</td>\n",
              "      <td>blue</td>\n",
              "      <td>contentious</td>\n",
              "      <td>7</td>\n",
              "    </tr>\n",
              "    <tr>\n",
              "      <th>25</th>\n",
              "      <td>PA</td>\n",
              "      <td>5048</td>\n",
              "      <td>5062</td>\n",
              "      <td>purple</td>\n",
              "      <td>contentious</td>\n",
              "      <td>20</td>\n",
              "    </tr>\n",
              "    <tr>\n",
              "      <th>26</th>\n",
              "      <td>IL</td>\n",
              "      <td>5016</td>\n",
              "      <td>5049</td>\n",
              "      <td>blue</td>\n",
              "      <td>contentious</td>\n",
              "      <td>20</td>\n",
              "    </tr>\n",
              "    <tr>\n",
              "      <th>28</th>\n",
              "      <td>IN</td>\n",
              "      <td>1278</td>\n",
              "      <td>1291</td>\n",
              "      <td>red</td>\n",
              "      <td>contentious</td>\n",
              "      <td>11</td>\n",
              "    </tr>\n",
              "    <tr>\n",
              "      <th>29</th>\n",
              "      <td>SC</td>\n",
              "      <td>993</td>\n",
              "      <td>1048</td>\n",
              "      <td>red</td>\n",
              "      <td>contentious</td>\n",
              "      <td>9</td>\n",
              "    </tr>\n",
              "    <tr>\n",
              "      <th>30</th>\n",
              "      <td>IA</td>\n",
              "      <td>541</td>\n",
              "      <td>543</td>\n",
              "      <td>red</td>\n",
              "      <td>contentious</td>\n",
              "      <td>6</td>\n",
              "    </tr>\n",
              "    <tr>\n",
              "      <th>32</th>\n",
              "      <td>KS</td>\n",
              "      <td>843</td>\n",
              "      <td>838</td>\n",
              "      <td>red</td>\n",
              "      <td>contentious</td>\n",
              "      <td>6</td>\n",
              "    </tr>\n",
              "    <tr>\n",
              "      <th>33</th>\n",
              "      <td>TN</td>\n",
              "      <td>1762</td>\n",
              "      <td>1790</td>\n",
              "      <td>red</td>\n",
              "      <td>contentious</td>\n",
              "      <td>11</td>\n",
              "    </tr>\n",
              "    <tr>\n",
              "      <th>34</th>\n",
              "      <td>KY</td>\n",
              "      <td>1126</td>\n",
              "      <td>1144</td>\n",
              "      <td>red</td>\n",
              "      <td>contentious</td>\n",
              "      <td>8</td>\n",
              "    </tr>\n",
              "    <tr>\n",
              "      <th>35</th>\n",
              "      <td>TX</td>\n",
              "      <td>12861</td>\n",
              "      <td>12890</td>\n",
              "      <td>red</td>\n",
              "      <td>contentious</td>\n",
              "      <td>38</td>\n",
              "    </tr>\n",
              "    <tr>\n",
              "      <th>36</th>\n",
              "      <td>LA</td>\n",
              "      <td>968</td>\n",
              "      <td>966</td>\n",
              "      <td>red</td>\n",
              "      <td>contentious</td>\n",
              "      <td>8</td>\n",
              "    </tr>\n",
              "    <tr>\n",
              "      <th>37</th>\n",
              "      <td>UT</td>\n",
              "      <td>535</td>\n",
              "      <td>536</td>\n",
              "      <td>red</td>\n",
              "      <td>contentious</td>\n",
              "      <td>6</td>\n",
              "    </tr>\n",
              "    <tr>\n",
              "      <th>40</th>\n",
              "      <td>MD</td>\n",
              "      <td>1880</td>\n",
              "      <td>1885</td>\n",
              "      <td>blue</td>\n",
              "      <td>contentious</td>\n",
              "      <td>10</td>\n",
              "    </tr>\n",
              "    <tr>\n",
              "      <th>41</th>\n",
              "      <td>VA</td>\n",
              "      <td>2094</td>\n",
              "      <td>2110</td>\n",
              "      <td>purple</td>\n",
              "      <td>contentious</td>\n",
              "      <td>13</td>\n",
              "    </tr>\n",
              "    <tr>\n",
              "      <th>42</th>\n",
              "      <td>MA</td>\n",
              "      <td>3377</td>\n",
              "      <td>3414</td>\n",
              "      <td>blue</td>\n",
              "      <td>contentious</td>\n",
              "      <td>11</td>\n",
              "    </tr>\n",
              "    <tr>\n",
              "      <th>43</th>\n",
              "      <td>WA</td>\n",
              "      <td>1991</td>\n",
              "      <td>2001</td>\n",
              "      <td>blue</td>\n",
              "      <td>contentious</td>\n",
              "      <td>12</td>\n",
              "    </tr>\n",
              "    <tr>\n",
              "      <th>44</th>\n",
              "      <td>MI</td>\n",
              "      <td>2668</td>\n",
              "      <td>2690</td>\n",
              "      <td>purple</td>\n",
              "      <td>contentious</td>\n",
              "      <td>16</td>\n",
              "    </tr>\n",
              "    <tr>\n",
              "      <th>46</th>\n",
              "      <td>MN</td>\n",
              "      <td>1524</td>\n",
              "      <td>1538</td>\n",
              "      <td>purple</td>\n",
              "      <td>contentious</td>\n",
              "      <td>10</td>\n",
              "    </tr>\n",
              "    <tr>\n",
              "      <th>47</th>\n",
              "      <td>WI</td>\n",
              "      <td>1424</td>\n",
              "      <td>1426</td>\n",
              "      <td>purple</td>\n",
              "      <td>contentious</td>\n",
              "      <td>10</td>\n",
              "    </tr>\n",
              "    <tr>\n",
              "      <th>50</th>\n",
              "      <td>MO</td>\n",
              "      <td>1592</td>\n",
              "      <td>1608</td>\n",
              "      <td>red</td>\n",
              "      <td>contentious</td>\n",
              "      <td>10</td>\n",
              "    </tr>\n",
              "  </tbody>\n",
              "</table>\n",
              "</div>"
            ],
            "text/plain": [
              "   state_code  biden  trump    type       winner  e_vote\n",
              "0          AL    793    791     red  contentious       9\n",
              "4          AZ   2642   2648  purple  contentious      11\n",
              "5          NV   2087   2087  purple  contentious       6\n",
              "7          NH    258    257  purple  contentious       4\n",
              "8          CA  23581  23685    blue  contentious      55\n",
              "9          NJ   3566   3569    blue  contentious      14\n",
              "10         CO   2407   2459  purple  contentious       9\n",
              "11         NM    426    430  purple  contentious       5\n",
              "12         CT    832    831    blue  contentious       7\n",
              "13         NY  17185  17248    blue  contentious      29\n",
              "15         NC   2908   2935  purple  contentious      15\n",
              "16         DC   5679   5704    blue  contentious       3\n",
              "18         FL  11055  11069  purple  contentious      29\n",
              "19         OH   3069   3072     red  contentious      18\n",
              "20         GA   2723   2737  purple  contentious      16\n",
              "21         OK    714    724     red  contentious       7\n",
              "22         HI    576    577    blue  contentious       4\n",
              "23         OR   1924   1965    blue  contentious       7\n",
              "25         PA   5048   5062  purple  contentious      20\n",
              "26         IL   5016   5049    blue  contentious      20\n",
              "28         IN   1278   1291     red  contentious      11\n",
              "29         SC    993   1048     red  contentious       9\n",
              "30         IA    541    543     red  contentious       6\n",
              "32         KS    843    838     red  contentious       6\n",
              "33         TN   1762   1790     red  contentious      11\n",
              "34         KY   1126   1144     red  contentious       8\n",
              "35         TX  12861  12890     red  contentious      38\n",
              "36         LA    968    966     red  contentious       8\n",
              "37         UT    535    536     red  contentious       6\n",
              "40         MD   1880   1885    blue  contentious      10\n",
              "41         VA   2094   2110  purple  contentious      13\n",
              "42         MA   3377   3414    blue  contentious      11\n",
              "43         WA   1991   2001    blue  contentious      12\n",
              "44         MI   2668   2690  purple  contentious      16\n",
              "46         MN   1524   1538  purple  contentious      10\n",
              "47         WI   1424   1426  purple  contentious      10\n",
              "50         MO   1592   1608     red  contentious      10"
            ]
          },
          "metadata": {
            "tags": []
          },
          "execution_count": 70
        }
      ]
    },
    {
      "cell_type": "code",
      "metadata": {
        "colab": {
          "base_uri": "https://localhost:8080/"
        },
        "id": "8rPO66rQVuc2",
        "outputId": "85387e53-58e7-47d6-fa29-fa373d2f8ba3"
      },
      "source": [
        "!pip install geopandas\n",
        "import geopandas as gpd\n",
        "import matplotlib.pyplot as plt\n",
        "\n",
        "us_shape = gpd.read_file('/content/drive/MyDrive/US_elections/us_shape/cb_2018_us_state_20m.shp')\n",
        "us_shape = us_shape[['STUSPS', 'geometry']]\n",
        "states_results_tmp = states_results.copy()\n",
        "states_results_tmp = states_results_tmp.merge(us_shape, left_on='state_code', right_on='STUSPS')\n",
        "states_results_tmp.drop(['STUSPS'], axis=1, inplace=True)\n",
        "states_results_tmp = gpd.GeoDataFrame(states_results_tmp)\n",
        "\n",
        "states_results_tmp.columns"
      ],
      "execution_count": null,
      "outputs": [
        {
          "output_type": "stream",
          "text": [
            "Collecting geopandas\n",
            "\u001b[?25l  Downloading https://files.pythonhosted.org/packages/f7/a4/e66aafbefcbb717813bf3a355c8c4fc3ed04ea1dd7feb2920f2f4f868921/geopandas-0.8.1-py2.py3-none-any.whl (962kB)\n",
            "\u001b[K     |████████████████████████████████| 972kB 22.4MB/s \n",
            "\u001b[?25hCollecting fiona\n",
            "\u001b[?25l  Downloading https://files.pythonhosted.org/packages/37/94/4910fd55246c1d963727b03885ead6ef1cd3748a465f7b0239ab25dfc9a3/Fiona-1.8.18-cp36-cp36m-manylinux1_x86_64.whl (14.8MB)\n",
            "\u001b[K     |████████████████████████████████| 14.8MB 221kB/s \n",
            "\u001b[?25hRequirement already satisfied: pandas>=0.23.0 in /usr/local/lib/python3.6/dist-packages (from geopandas) (1.1.5)\n",
            "Collecting pyproj>=2.2.0\n",
            "\u001b[?25l  Downloading https://files.pythonhosted.org/packages/e4/ab/280e80a67cfc109d15428c0ec56391fc03a65857b7727cf4e6e6f99a4204/pyproj-3.0.0.post1-cp36-cp36m-manylinux2010_x86_64.whl (6.4MB)\n",
            "\u001b[K     |████████████████████████████████| 6.5MB 44.3MB/s \n",
            "\u001b[?25hRequirement already satisfied: shapely in /usr/local/lib/python3.6/dist-packages (from geopandas) (1.7.1)\n",
            "Collecting click-plugins>=1.0\n",
            "  Downloading https://files.pythonhosted.org/packages/e9/da/824b92d9942f4e472702488857914bdd50f73021efea15b4cad9aca8ecef/click_plugins-1.1.1-py2.py3-none-any.whl\n",
            "Collecting cligj>=0.5\n",
            "  Downloading https://files.pythonhosted.org/packages/42/1e/947eadf10d6804bf276eb8a038bd5307996dceaaa41cfd21b7a15ec62f5d/cligj-0.7.1-py3-none-any.whl\n",
            "Collecting munch\n",
            "  Downloading https://files.pythonhosted.org/packages/cc/ab/85d8da5c9a45e072301beb37ad7f833cd344e04c817d97e0cc75681d248f/munch-2.5.0-py2.py3-none-any.whl\n",
            "Requirement already satisfied: attrs>=17 in /usr/local/lib/python3.6/dist-packages (from fiona->geopandas) (20.3.0)\n",
            "Requirement already satisfied: six>=1.7 in /usr/local/lib/python3.6/dist-packages (from fiona->geopandas) (1.15.0)\n",
            "Requirement already satisfied: certifi in /usr/local/lib/python3.6/dist-packages (from fiona->geopandas) (2020.12.5)\n",
            "Requirement already satisfied: click<8,>=4.0 in /usr/local/lib/python3.6/dist-packages (from fiona->geopandas) (7.1.2)\n",
            "Requirement already satisfied: pytz>=2017.2 in /usr/local/lib/python3.6/dist-packages (from pandas>=0.23.0->geopandas) (2018.9)\n",
            "Requirement already satisfied: numpy>=1.15.4 in /usr/local/lib/python3.6/dist-packages (from pandas>=0.23.0->geopandas) (1.19.5)\n",
            "Requirement already satisfied: python-dateutil>=2.7.3 in /usr/local/lib/python3.6/dist-packages (from pandas>=0.23.0->geopandas) (2.8.1)\n",
            "Installing collected packages: click-plugins, cligj, munch, fiona, pyproj, geopandas\n",
            "Successfully installed click-plugins-1.1.1 cligj-0.7.1 fiona-1.8.18 geopandas-0.8.1 munch-2.5.0 pyproj-3.0.0.post1\n"
          ],
          "name": "stdout"
        },
        {
          "output_type": "execute_result",
          "data": {
            "text/plain": [
              "Index(['state_code', 'biden', 'trump', 'type', 'winner', 'e_vote', 'geometry'], dtype='object')"
            ]
          },
          "metadata": {
            "tags": []
          },
          "execution_count": 72
        }
      ]
    },
    {
      "cell_type": "code",
      "metadata": {
        "colab": {
          "base_uri": "https://localhost:8080/",
          "height": 541
        },
        "id": "Ddf61jToV4xz",
        "outputId": "513d7e34-6b68-462d-f8d5-c84f8f921599"
      },
      "source": [
        "fig, ax = plt.subplots(1, 1, figsize=(15,15))\n",
        "states_results_tmp.apply(lambda x: ax.annotate(s=x.state_code, xy=x.geometry.centroid.coords[0], ha='center', fontsize=9, color='white'),axis=1);\n",
        "states_results_tmp[states_results_tmp['winner'] == 'trump'].plot(ax=ax, color='red')\n",
        "states_results_tmp[states_results_tmp['winner'] == 'biden'].plot(ax=ax, color='blue')\n",
        "states_results_tmp[states_results_tmp['winner'] == 'contentious'].plot(ax=ax, color='purple')\n",
        "plt.axis('square')\n",
        "ax.set_xlim([-180, -60])\n",
        "ax.set_ylim([10, 80])\n",
        "ax.set_xticks([])\n",
        "ax.set_yticks([])"
      ],
      "execution_count": null,
      "outputs": [
        {
          "output_type": "execute_result",
          "data": {
            "text/plain": [
              "[]"
            ]
          },
          "metadata": {
            "tags": []
          },
          "execution_count": 73
        },
        {
          "output_type": "display_data",
          "data": {
            "image/png": "[encoded data removed]",
            "text/plain": [
              "<Figure size 1080x1080 with 1 Axes>"
            ]
          },
          "metadata": {
            "tags": []
          }
        }
      ]
    },
    {
      "cell_type": "code",
      "metadata": {
        "id": "h0C6yBAEV56v"
      },
      "source": [
        "states_results.to_csv('/content/drive/MyDrive/US_elections/state_results_LSTM.csv', index=False, header=True)\n",
        "fig.savefig('/content/drive/MyDrive/US_elections/state_results_LSTM.png')"
      ],
      "execution_count": null,
      "outputs": []
    },
    {
      "cell_type": "code",
      "metadata": {
        "colab": {
          "base_uri": "https://localhost:8080/"
        },
        "id": "iP51W2VcV_uO",
        "outputId": "8aa6e461-815f-48c8-c6f3-148b8ae4c7d6"
      },
      "source": [
        "trump_vote = np.sum(states_results[states_results['winner'] == 'trump']['e_vote'])\n",
        "biden_vote = np.sum(states_results[states_results['winner'] == 'biden']['e_vote'])\n",
        "print(trump_vote, biden_vote)"
      ],
      "execution_count": null,
      "outputs": [
        {
          "output_type": "stream",
          "text": [
            "41 14\n"
          ],
          "name": "stdout"
        }
      ]
    },
    {
      "cell_type": "code",
      "metadata": {
        "id": "RBaJkW5bWA-q"
      },
      "source": [
        ""
      ],
      "execution_count": null,
      "outputs": []
    }
  ]
}