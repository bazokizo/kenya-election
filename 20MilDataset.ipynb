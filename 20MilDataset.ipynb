{
  "nbformat": 4,
  "nbformat_minor": 0,
  "metadata": {
    "colab": {
      "name": "20MilDataset.ipynb",
      "provenance": [],
      "authorship_tag": "ABX9TyOSpxVjTKiF+2V7G0gB3qya",
      "include_colab_link": true
    },
    "kernelspec": {
      "name": "python3",
      "display_name": "Python 3"
    }
  },
  "cells": [
    {
      "cell_type": "markdown",
      "metadata": {
        "id": "view-in-github",
        "colab_type": "text"
      },
      "source": [
        "<a href=\"https://colab.research.google.com/github/sydney-machine-learning/sentimentanalysis-USelections/blob/main/20MilDataset.ipynb\" target=\"_parent\"><img src=\"https://colab.research.google.com/assets/colab-badge.svg\" alt=\"Open In Colab\"/></a>"
      ]
    },
    {
      "cell_type": "code",
      "metadata": {
        "colab": {
          "base_uri": "https://localhost:8080/"
        },
        "id": "E0zhhXt5t_Ya",
        "outputId": "a82259ac-1f80-4222-d6d4-4689f5477c04"
      },
      "source": [
        "import numpy as np \r\n",
        "import pandas as pd \r\n",
        "import tensorflow as tf\r\n",
        "import matplotlib.pyplot as plt\r\n",
        "import plotly.graph_objects as go\r\n",
        "import io\r\n",
        "from tensorflow.keras.preprocessing.text import Tokenizer\r\n",
        "from tensorflow.keras.preprocessing.sequence import pad_sequences\r\n",
        "from textblob import TextBlob\r\n",
        "from nltk.util import ngrams\r\n",
        "from nltk.classify import NaiveBayesClassifier\r\n",
        "from nltk.corpus import subjectivity\r\n",
        "from nltk.sentiment import SentimentAnalyzer\r\n",
        "from nltk.sentiment.util import *\r\n",
        "from nltk.sentiment.vader import SentimentIntensityAnalyzer"
      ],
      "execution_count": 1,
      "outputs": [
        {
          "output_type": "stream",
          "text": [
            "/usr/local/lib/python3.6/dist-packages/nltk/twitter/__init__.py:20: UserWarning:\n",
            "\n",
            "The twython library has not been installed. Some functionality from the twitter package will not be available.\n",
            "\n"
          ],
          "name": "stderr"
        }
      ]
    },
    {
      "cell_type": "code",
      "metadata": {
        "colab": {
          "base_uri": "https://localhost:8080/"
        },
        "id": "_JLpFc0OuEQb",
        "outputId": "0620d888-e2ea-4f68-e0e6-56ed5492a71c"
      },
      "source": [
        "from google.colab import drive\r\n",
        "drive.mount('/content/drive')"
      ],
      "execution_count": 2,
      "outputs": [
        {
          "output_type": "stream",
          "text": [
            "Mounted at /content/drive\n"
          ],
          "name": "stdout"
        }
      ]
    },
    {
      "cell_type": "code",
      "metadata": {
        "id": "wNjyt_9XuF-i"
      },
      "source": [
        "dataset = pd.read_csv(\"/content/drive/MyDrive/US_elections/uselection_tweets_1jul_11nov.csv\", lineterminator='\\n')"
      ],
      "execution_count": 3,
      "outputs": []
    },
    {
      "cell_type": "code",
      "metadata": {
        "colab": {
          "base_uri": "https://localhost:8080/",
          "height": 212
        },
        "id": "4H7s47W8ui0H",
        "outputId": "38d1ccca-2b56-429c-9c7d-ccf3c3afe48e"
      },
      "source": [
        "dataset.head()"
      ],
      "execution_count": 4,
      "outputs": [
        {
          "output_type": "execute_result",
          "data": {
            "text/html": [
              "<div>\n",
              "<style scoped>\n",
              "    .dataframe tbody tr th:only-of-type {\n",
              "        vertical-align: middle;\n",
              "    }\n",
              "\n",
              "    .dataframe tbody tr th {\n",
              "        vertical-align: top;\n",
              "    }\n",
              "\n",
              "    .dataframe thead th {\n",
              "        text-align: right;\n",
              "    }\n",
              "</style>\n",
              "<table border=\"1\" class=\"dataframe\">\n",
              "  <thead>\n",
              "    <tr style=\"text-align: right;\">\n",
              "      <th></th>\n",
              "      <th>Created-At;\"From-User-Id\";\"To-User-Id\";\"Language\";\"Retweet-Count\";\"PartyName\";\"Id\";\"Score\";\"Scoring String\";\"Negativity\";\"Positivity\";\"Uncovered Tokens\";\"Total Tokens\"\\r</th>\n",
              "    </tr>\n",
              "  </thead>\n",
              "  <tbody>\n",
              "    <tr>\n",
              "      <th>0</th>\n",
              "      <td>7/1/20 7:44 PM;\"1223446325758394369\";\"38788259...</td>\n",
              "    </tr>\n",
              "    <tr>\n",
              "      <th>1</th>\n",
              "      <td>7/1/20 7:44 PM;\"1001407960252342273\";\"-1\";\"en\"...</td>\n",
              "    </tr>\n",
              "    <tr>\n",
              "      <th>2</th>\n",
              "      <td>7/1/20 7:44 PM;\"1178522693840392195\";\"-1\";\"en\"...</td>\n",
              "    </tr>\n",
              "    <tr>\n",
              "      <th>3</th>\n",
              "      <td>7/1/20 7:44 PM;\"64267482\";\"65497475\";\"en\";0.0;...</td>\n",
              "    </tr>\n",
              "    <tr>\n",
              "      <th>4</th>\n",
              "      <td>7/1/20 7:44 PM;\"1068507190103699456\";\"-1\";\"en\"...</td>\n",
              "    </tr>\n",
              "  </tbody>\n",
              "</table>\n",
              "</div>"
            ],
            "text/plain": [
              "  Created-At;\"From-User-Id\";\"To-User-Id\";\"Language\";\"Retweet-Count\";\"PartyName\";\"Id\";\"Score\";\"Scoring String\";\"Negativity\";\"Positivity\";\"Uncovered Tokens\";\"Total Tokens\"\\r\n",
              "0  7/1/20 7:44 PM;\"1223446325758394369\";\"38788259...                                                                                                                       \n",
              "1  7/1/20 7:44 PM;\"1001407960252342273\";\"-1\";\"en\"...                                                                                                                       \n",
              "2  7/1/20 7:44 PM;\"1178522693840392195\";\"-1\";\"en\"...                                                                                                                       \n",
              "3  7/1/20 7:44 PM;\"64267482\";\"65497475\";\"en\";0.0;...                                                                                                                       \n",
              "4  7/1/20 7:44 PM;\"1068507190103699456\";\"-1\";\"en\"...                                                                                                                       "
            ]
          },
          "metadata": {
            "tags": []
          },
          "execution_count": 4
        }
      ]
    },
    {
      "cell_type": "code",
      "metadata": {
        "colab": {
          "base_uri": "https://localhost:8080/",
          "height": 212
        },
        "id": "JnAspRvtumo3",
        "outputId": "54b1688e-3ced-4d6c-d471-0734b6b53cb4"
      },
      "source": [
        "dataset.tail()"
      ],
      "execution_count": 5,
      "outputs": [
        {
          "output_type": "execute_result",
          "data": {
            "text/html": [
              "<div>\n",
              "<style scoped>\n",
              "    .dataframe tbody tr th:only-of-type {\n",
              "        vertical-align: middle;\n",
              "    }\n",
              "\n",
              "    .dataframe tbody tr th {\n",
              "        vertical-align: top;\n",
              "    }\n",
              "\n",
              "    .dataframe thead th {\n",
              "        text-align: right;\n",
              "    }\n",
              "</style>\n",
              "<table border=\"1\" class=\"dataframe\">\n",
              "  <thead>\n",
              "    <tr style=\"text-align: right;\">\n",
              "      <th></th>\n",
              "      <th>Created-At;\"From-User-Id\";\"To-User-Id\";\"Language\";\"Retweet-Count\";\"PartyName\";\"Id\";\"Score\";\"Scoring String\";\"Negativity\";\"Positivity\";\"Uncovered Tokens\";\"Total Tokens\"\\r</th>\n",
              "    </tr>\n",
              "  </thead>\n",
              "  <tbody>\n",
              "    <tr>\n",
              "      <th>24201649</th>\n",
              "      <td>11/12/20 5:47 PM;\"386513005\";\"-1\";\"en\";464.0;\"...</td>\n",
              "    </tr>\n",
              "    <tr>\n",
              "      <th>24201650</th>\n",
              "      <td>11/12/20 5:47 PM;\"3421791370\";\"195725305\";\"en\"...</td>\n",
              "    </tr>\n",
              "    <tr>\n",
              "      <th>24201651</th>\n",
              "      <td>11/12/20 5:47 PM;\"1166761314\";\"-1\";\"en\";23097....</td>\n",
              "    </tr>\n",
              "    <tr>\n",
              "      <th>24201652</th>\n",
              "      <td>11/12/20 5:47 PM;\"930244920\";\"25073877\";\"en\";0...</td>\n",
              "    </tr>\n",
              "    <tr>\n",
              "      <th>24201653</th>\n",
              "      <td>11/12/20 5:47 PM;\"522420024\";\"1166069567468310...</td>\n",
              "    </tr>\n",
              "  </tbody>\n",
              "</table>\n",
              "</div>"
            ],
            "text/plain": [
              "         Created-At;\"From-User-Id\";\"To-User-Id\";\"Language\";\"Retweet-Count\";\"PartyName\";\"Id\";\"Score\";\"Scoring String\";\"Negativity\";\"Positivity\";\"Uncovered Tokens\";\"Total Tokens\"\\r\n",
              "24201649  11/12/20 5:47 PM;\"386513005\";\"-1\";\"en\";464.0;\"...                                                                                                                       \n",
              "24201650  11/12/20 5:47 PM;\"3421791370\";\"195725305\";\"en\"...                                                                                                                       \n",
              "24201651  11/12/20 5:47 PM;\"1166761314\";\"-1\";\"en\";23097....                                                                                                                       \n",
              "24201652  11/12/20 5:47 PM;\"930244920\";\"25073877\";\"en\";0...                                                                                                                       \n",
              "24201653  11/12/20 5:47 PM;\"522420024\";\"1166069567468310...                                                                                                                       "
            ]
          },
          "metadata": {
            "tags": []
          },
          "execution_count": 5
        }
      ]
    },
    {
      "cell_type": "code",
      "metadata": {
        "id": "aOrnr10pveNh"
      },
      "source": [
        ""
      ],
      "execution_count": null,
      "outputs": []
    }
  ]
}