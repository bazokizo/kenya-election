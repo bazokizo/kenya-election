{
  "nbformat": 4,
  "nbformat_minor": 0,
  "metadata": {
    "colab": {
      "name": "main.ipynb",
      "provenance": [],
      "collapsed_sections": [],
      "authorship_tag": "ABX9TyOeZaIKH/OHRMJDfZiJVw4o",
      "include_colab_link": true
    },
    "kernelspec": {
      "name": "python3",
      "display_name": "Python 3"
    }
  },
  "cells": [
    {
      "cell_type": "markdown",
      "metadata": {
        "id": "view-in-github",
        "colab_type": "text"
      },
      "source": [
        "<a href=\"https://colab.research.google.com/github/sydney-machine-learning/sentimentanalysis-USelections/blob/main/main.ipynb\" target=\"_parent\"><img src=\"https://colab.research.google.com/assets/colab-badge.svg\" alt=\"Open In Colab\"/></a>"
      ]
    },
    {
      "cell_type": "code",
      "metadata": {
        "colab": {
          "base_uri": "https://localhost:8080/"
        },
        "id": "oMfCj9b613gK",
        "outputId": "4b341085-7ffc-45f8-8884-4a0467c78bc3"
      },
      "source": [
        "from google.colab import drive\n",
        "drive.mount('/content/drive')"
      ],
      "execution_count": 1,
      "outputs": [
        {
          "output_type": "stream",
          "text": [
            "Mounted at /content/drive\n"
          ],
          "name": "stdout"
        }
      ]
    },
    {
      "cell_type": "code",
      "metadata": {
        "colab": {
          "base_uri": "https://localhost:8080/"
        },
        "id": "eQpo7D2mt5kN",
        "outputId": "5883b62c-842a-442e-b25c-2bac4c654a1c"
      },
      "source": [
        "!pip install langdetect\r\n",
        "!pip install geopandas"
      ],
      "execution_count": 3,
      "outputs": [
        {
          "output_type": "stream",
          "text": [
            "Collecting langdetect\n",
            "\u001b[?25l  Downloading https://files.pythonhosted.org/packages/56/a3/8407c1e62d5980188b4acc45ef3d94b933d14a2ebc9ef3505f22cf772570/langdetect-1.0.8.tar.gz (981kB)\n",
            "\u001b[K     |████████████████████████████████| 983kB 4.0MB/s \n",
            "\u001b[?25hRequirement already satisfied: six in /usr/local/lib/python3.6/dist-packages (from langdetect) (1.15.0)\n",
            "Building wheels for collected packages: langdetect\n",
            "  Building wheel for langdetect (setup.py) ... \u001b[?25l\u001b[?25hdone\n",
            "  Created wheel for langdetect: filename=langdetect-1.0.8-cp36-none-any.whl size=993193 sha256=8a0a1af82406b4499d8646582ce1bec7ae47d5ea5984a56456235ff1f44a5553\n",
            "  Stored in directory: /root/.cache/pip/wheels/8d/b3/aa/6d99de9f3841d7d3d40a60ea06e6d669e8e5012e6c8b947a57\n",
            "Successfully built langdetect\n",
            "Installing collected packages: langdetect\n",
            "Successfully installed langdetect-1.0.8\n",
            "Collecting geopandas\n",
            "\u001b[?25l  Downloading https://files.pythonhosted.org/packages/f7/a4/e66aafbefcbb717813bf3a355c8c4fc3ed04ea1dd7feb2920f2f4f868921/geopandas-0.8.1-py2.py3-none-any.whl (962kB)\n",
            "\u001b[K     |████████████████████████████████| 972kB 5.0MB/s \n",
            "\u001b[?25hCollecting pyproj>=2.2.0\n",
            "\u001b[?25l  Downloading https://files.pythonhosted.org/packages/e4/ab/280e80a67cfc109d15428c0ec56391fc03a65857b7727cf4e6e6f99a4204/pyproj-3.0.0.post1-cp36-cp36m-manylinux2010_x86_64.whl (6.4MB)\n",
            "\u001b[K     |████████████████████████████████| 6.5MB 10.6MB/s \n",
            "\u001b[?25hRequirement already satisfied: pandas>=0.23.0 in /usr/local/lib/python3.6/dist-packages (from geopandas) (1.1.5)\n",
            "Collecting fiona\n",
            "\u001b[?25l  Downloading https://files.pythonhosted.org/packages/37/94/4910fd55246c1d963727b03885ead6ef1cd3748a465f7b0239ab25dfc9a3/Fiona-1.8.18-cp36-cp36m-manylinux1_x86_64.whl (14.8MB)\n",
            "\u001b[K     |████████████████████████████████| 14.8MB 3.2MB/s \n",
            "\u001b[?25hRequirement already satisfied: shapely in /usr/local/lib/python3.6/dist-packages (from geopandas) (1.7.1)\n",
            "Requirement already satisfied: certifi in /usr/local/lib/python3.6/dist-packages (from pyproj>=2.2.0->geopandas) (2020.12.5)\n",
            "Requirement already satisfied: pytz>=2017.2 in /usr/local/lib/python3.6/dist-packages (from pandas>=0.23.0->geopandas) (2018.9)\n",
            "Requirement already satisfied: python-dateutil>=2.7.3 in /usr/local/lib/python3.6/dist-packages (from pandas>=0.23.0->geopandas) (2.8.1)\n",
            "Requirement already satisfied: numpy>=1.15.4 in /usr/local/lib/python3.6/dist-packages (from pandas>=0.23.0->geopandas) (1.18.5)\n",
            "Requirement already satisfied: attrs>=17 in /usr/local/lib/python3.6/dist-packages (from fiona->geopandas) (20.3.0)\n",
            "Requirement already satisfied: six>=1.7 in /usr/local/lib/python3.6/dist-packages (from fiona->geopandas) (1.15.0)\n",
            "Collecting cligj>=0.5\n",
            "  Downloading https://files.pythonhosted.org/packages/42/1e/947eadf10d6804bf276eb8a038bd5307996dceaaa41cfd21b7a15ec62f5d/cligj-0.7.1-py3-none-any.whl\n",
            "Collecting munch\n",
            "  Downloading https://files.pythonhosted.org/packages/cc/ab/85d8da5c9a45e072301beb37ad7f833cd344e04c817d97e0cc75681d248f/munch-2.5.0-py2.py3-none-any.whl\n",
            "Requirement already satisfied: click<8,>=4.0 in /usr/local/lib/python3.6/dist-packages (from fiona->geopandas) (7.1.2)\n",
            "Collecting click-plugins>=1.0\n",
            "  Downloading https://files.pythonhosted.org/packages/e9/da/824b92d9942f4e472702488857914bdd50f73021efea15b4cad9aca8ecef/click_plugins-1.1.1-py2.py3-none-any.whl\n",
            "Installing collected packages: pyproj, cligj, munch, click-plugins, fiona, geopandas\n",
            "Successfully installed click-plugins-1.1.1 cligj-0.7.1 fiona-1.8.18 geopandas-0.8.1 munch-2.5.0 pyproj-3.0.0.post1\n"
          ],
          "name": "stdout"
        }
      ]
    },
    {
      "cell_type": "code",
      "metadata": {
        "colab": {
          "base_uri": "https://localhost:8080/"
        },
        "id": "z1C6Vrwi1ZBl",
        "outputId": "79ba3bb6-d1e9-4353-b21e-7da8880eb28f"
      },
      "source": [
        "import os\r\n",
        "import time\r\n",
        "import missingno as msno\r\n",
        "import pandas as pd\r\n",
        "import geopandas as gpd\r\n",
        "import numpy as np\r\n",
        "import seaborn as sns\r\n",
        "import matplotlib.pyplot as plt\r\n",
        "import nltk, re, string, collections, unicodedata\r\n",
        "\r\n",
        "%matplotlib inline\r\n",
        "from matplotlib import cm, dates\r\n",
        "from matplotlib.ticker import ScalarFormatter\r\n",
        "from matplotlib.ticker import FuncFormatter\r\n",
        "from datetime import datetime, timedelta\r\n",
        "from textblob import TextBlob\r\n",
        "from wordcloud import WordCloud, STOPWORDS\r\n",
        "from langdetect import detect\r\n",
        "from nltk.util import ngrams\r\n",
        "from nltk.tokenize import word_tokenize\r\n",
        "from nltk.classify import NaiveBayesClassifier\r\n",
        "from nltk.corpus import subjectivity\r\n",
        "from nltk.sentiment import SentimentAnalyzer\r\n",
        "from nltk.sentiment.util import *\r\n",
        "from nltk.sentiment.vader import SentimentIntensityAnalyzer"
      ],
      "execution_count": 4,
      "outputs": [
        {
          "output_type": "stream",
          "text": [
            "/usr/local/lib/python3.6/dist-packages/nltk/twitter/__init__.py:20: UserWarning: The twython library has not been installed. Some functionality from the twitter package will not be available.\n",
            "  warnings.warn(\"The twython library has not been installed. \"\n"
          ],
          "name": "stderr"
        }
      ]
    },
    {
      "cell_type": "markdown",
      "metadata": {
        "id": "lr9jO5DM2hqd"
      },
      "source": [
        "# **Initial EDA**"
      ]
    },
    {
      "cell_type": "markdown",
      "metadata": {
        "id": "T3GM2pUT3ssi"
      },
      "source": [
        "## 1. Trump"
      ]
    },
    {
      "cell_type": "code",
      "metadata": {
        "colab": {
          "base_uri": "https://localhost:8080/",
          "height": 669
        },
        "id": "mLbka_WX1iNu",
        "outputId": "8fc905e9-d62c-4df6-b0a5-b4868bf52667"
      },
      "source": [
        "df1=pd.read_csv('/content/drive/MyDrive/US_elections/hashtag_donaldtrump.csv', lineterminator='\\n')\r\n",
        "df1.head(2).T"
      ],
      "execution_count": 17,
      "outputs": [
        {
          "output_type": "execute_result",
          "data": {
            "text/html": [
              "<div>\n",
              "<style scoped>\n",
              "    .dataframe tbody tr th:only-of-type {\n",
              "        vertical-align: middle;\n",
              "    }\n",
              "\n",
              "    .dataframe tbody tr th {\n",
              "        vertical-align: top;\n",
              "    }\n",
              "\n",
              "    .dataframe thead th {\n",
              "        text-align: right;\n",
              "    }\n",
              "</style>\n",
              "<table border=\"1\" class=\"dataframe\">\n",
              "  <thead>\n",
              "    <tr style=\"text-align: right;\">\n",
              "      <th></th>\n",
              "      <th>0</th>\n",
              "      <th>1</th>\n",
              "    </tr>\n",
              "  </thead>\n",
              "  <tbody>\n",
              "    <tr>\n",
              "      <th>created_at</th>\n",
              "      <td>2020-10-15 00:00:01</td>\n",
              "      <td>2020-10-15 00:00:01</td>\n",
              "    </tr>\n",
              "    <tr>\n",
              "      <th>tweet_id</th>\n",
              "      <td>1.31653e+18</td>\n",
              "      <td>1.31653e+18</td>\n",
              "    </tr>\n",
              "    <tr>\n",
              "      <th>tweet</th>\n",
              "      <td>#Elecciones2020 | En #Florida: #JoeBiden dice ...</td>\n",
              "      <td>Usa 2020, Trump contro Facebook e Twitter: cop...</td>\n",
              "    </tr>\n",
              "    <tr>\n",
              "      <th>likes</th>\n",
              "      <td>0</td>\n",
              "      <td>26</td>\n",
              "    </tr>\n",
              "    <tr>\n",
              "      <th>retweet_count</th>\n",
              "      <td>0</td>\n",
              "      <td>9</td>\n",
              "    </tr>\n",
              "    <tr>\n",
              "      <th>source</th>\n",
              "      <td>TweetDeck</td>\n",
              "      <td>Social Mediaset</td>\n",
              "    </tr>\n",
              "    <tr>\n",
              "      <th>user_id</th>\n",
              "      <td>3.60667e+08</td>\n",
              "      <td>3.31618e+08</td>\n",
              "    </tr>\n",
              "    <tr>\n",
              "      <th>user_name</th>\n",
              "      <td>El Sol Latino News</td>\n",
              "      <td>Tgcom24</td>\n",
              "    </tr>\n",
              "    <tr>\n",
              "      <th>user_screen_name</th>\n",
              "      <td>elsollatinonews</td>\n",
              "      <td>MediasetTgcom24</td>\n",
              "    </tr>\n",
              "    <tr>\n",
              "      <th>user_description</th>\n",
              "      <td>🌐 Noticias de interés para latinos de la costa...</td>\n",
              "      <td>Profilo ufficiale di Tgcom24: tutte le notizie...</td>\n",
              "    </tr>\n",
              "    <tr>\n",
              "      <th>user_join_date</th>\n",
              "      <td>2011-08-23 15:33:45</td>\n",
              "      <td>2011-07-08 13:12:20</td>\n",
              "    </tr>\n",
              "    <tr>\n",
              "      <th>user_followers_count</th>\n",
              "      <td>1860</td>\n",
              "      <td>1.06766e+06</td>\n",
              "    </tr>\n",
              "    <tr>\n",
              "      <th>user_location</th>\n",
              "      <td>Philadelphia, PA / Miami, FL</td>\n",
              "      <td>NaN</td>\n",
              "    </tr>\n",
              "    <tr>\n",
              "      <th>lat</th>\n",
              "      <td>25.7743</td>\n",
              "      <td>NaN</td>\n",
              "    </tr>\n",
              "    <tr>\n",
              "      <th>long</th>\n",
              "      <td>-80.1937</td>\n",
              "      <td>NaN</td>\n",
              "    </tr>\n",
              "    <tr>\n",
              "      <th>city</th>\n",
              "      <td>NaN</td>\n",
              "      <td>NaN</td>\n",
              "    </tr>\n",
              "    <tr>\n",
              "      <th>country</th>\n",
              "      <td>United States of America</td>\n",
              "      <td>NaN</td>\n",
              "    </tr>\n",
              "    <tr>\n",
              "      <th>continent</th>\n",
              "      <td>North America</td>\n",
              "      <td>NaN</td>\n",
              "    </tr>\n",
              "    <tr>\n",
              "      <th>state</th>\n",
              "      <td>Florida</td>\n",
              "      <td>NaN</td>\n",
              "    </tr>\n",
              "    <tr>\n",
              "      <th>state_code</th>\n",
              "      <td>FL</td>\n",
              "      <td>NaN</td>\n",
              "    </tr>\n",
              "    <tr>\n",
              "      <th>collected_at</th>\n",
              "      <td>2020-10-21 00:00:00</td>\n",
              "      <td>2020-10-21 00:00:00.373216530</td>\n",
              "    </tr>\n",
              "  </tbody>\n",
              "</table>\n",
              "</div>"
            ],
            "text/plain": [
              "                                                                      0                                                  1\n",
              "created_at                                          2020-10-15 00:00:01                                2020-10-15 00:00:01\n",
              "tweet_id                                                    1.31653e+18                                        1.31653e+18\n",
              "tweet                 #Elecciones2020 | En #Florida: #JoeBiden dice ...  Usa 2020, Trump contro Facebook e Twitter: cop...\n",
              "likes                                                                 0                                                 26\n",
              "retweet_count                                                         0                                                  9\n",
              "source                                                        TweetDeck                                   Social Mediaset \n",
              "user_id                                                     3.60667e+08                                        3.31618e+08\n",
              "user_name                                            El Sol Latino News                                            Tgcom24\n",
              "user_screen_name                                        elsollatinonews                                    MediasetTgcom24\n",
              "user_description      🌐 Noticias de interés para latinos de la costa...  Profilo ufficiale di Tgcom24: tutte le notizie...\n",
              "user_join_date                                      2011-08-23 15:33:45                                2011-07-08 13:12:20\n",
              "user_followers_count                                               1860                                        1.06766e+06\n",
              "user_location                              Philadelphia, PA / Miami, FL                                                NaN\n",
              "lat                                                             25.7743                                                NaN\n",
              "long                                                           -80.1937                                                NaN\n",
              "city                                                                NaN                                                NaN\n",
              "country                                        United States of America                                                NaN\n",
              "continent                                                 North America                                                NaN\n",
              "state                                                           Florida                                                NaN\n",
              "state_code                                                           FL                                                NaN\n",
              "collected_at                                        2020-10-21 00:00:00                      2020-10-21 00:00:00.373216530"
            ]
          },
          "metadata": {
            "tags": []
          },
          "execution_count": 17
        }
      ]
    },
    {
      "cell_type": "markdown",
      "metadata": {
        "id": "kaOZnoUK3iN0"
      },
      "source": [
        "stat details"
      ]
    },
    {
      "cell_type": "code",
      "metadata": {
        "colab": {
          "base_uri": "https://localhost:8080/",
          "height": 284
        },
        "id": "pycPCCYc3X-X",
        "outputId": "68ffa6aa-2fa4-4fb3-fcc9-247f689cc571"
      },
      "source": [
        "df1.describe()"
      ],
      "execution_count": 18,
      "outputs": [
        {
          "output_type": "execute_result",
          "data": {
            "text/html": [
              "<div>\n",
              "<style scoped>\n",
              "    .dataframe tbody tr th:only-of-type {\n",
              "        vertical-align: middle;\n",
              "    }\n",
              "\n",
              "    .dataframe tbody tr th {\n",
              "        vertical-align: top;\n",
              "    }\n",
              "\n",
              "    .dataframe thead th {\n",
              "        text-align: right;\n",
              "    }\n",
              "</style>\n",
              "<table border=\"1\" class=\"dataframe\">\n",
              "  <thead>\n",
              "    <tr style=\"text-align: right;\">\n",
              "      <th></th>\n",
              "      <th>tweet_id</th>\n",
              "      <th>likes</th>\n",
              "      <th>retweet_count</th>\n",
              "      <th>user_id</th>\n",
              "      <th>user_followers_count</th>\n",
              "      <th>lat</th>\n",
              "      <th>long</th>\n",
              "    </tr>\n",
              "  </thead>\n",
              "  <tbody>\n",
              "    <tr>\n",
              "      <th>count</th>\n",
              "      <td>9.709190e+05</td>\n",
              "      <td>970919.000000</td>\n",
              "      <td>970919.000000</td>\n",
              "      <td>9.709190e+05</td>\n",
              "      <td>9.709190e+05</td>\n",
              "      <td>445719.000000</td>\n",
              "      <td>445719.000000</td>\n",
              "    </tr>\n",
              "    <tr>\n",
              "      <th>mean</th>\n",
              "      <td>1.322494e+18</td>\n",
              "      <td>7.477011</td>\n",
              "      <td>1.698500</td>\n",
              "      <td>4.468311e+17</td>\n",
              "      <td>2.260357e+04</td>\n",
              "      <td>35.697936</td>\n",
              "      <td>-40.369638</td>\n",
              "    </tr>\n",
              "    <tr>\n",
              "      <th>std</th>\n",
              "      <td>2.555133e+15</td>\n",
              "      <td>158.058117</td>\n",
              "      <td>40.028419</td>\n",
              "      <td>5.544702e+17</td>\n",
              "      <td>3.042152e+05</td>\n",
              "      <td>18.823129</td>\n",
              "      <td>67.531751</td>\n",
              "    </tr>\n",
              "    <tr>\n",
              "      <th>min</th>\n",
              "      <td>1.316529e+18</td>\n",
              "      <td>0.000000</td>\n",
              "      <td>0.000000</td>\n",
              "      <td>5.310000e+02</td>\n",
              "      <td>0.000000e+00</td>\n",
              "      <td>-90.000000</td>\n",
              "      <td>-175.202642</td>\n",
              "    </tr>\n",
              "    <tr>\n",
              "      <th>25%</th>\n",
              "      <td>1.320478e+18</td>\n",
              "      <td>0.000000</td>\n",
              "      <td>0.000000</td>\n",
              "      <td>2.169326e+08</td>\n",
              "      <td>7.700000e+01</td>\n",
              "      <td>32.701939</td>\n",
              "      <td>-96.796856</td>\n",
              "    </tr>\n",
              "    <tr>\n",
              "      <th>50%</th>\n",
              "      <td>1.323612e+18</td>\n",
              "      <td>0.000000</td>\n",
              "      <td>0.000000</td>\n",
              "      <td>2.373392e+09</td>\n",
              "      <td>4.410000e+02</td>\n",
              "      <td>39.783730</td>\n",
              "      <td>-74.006015</td>\n",
              "    </tr>\n",
              "    <tr>\n",
              "      <th>75%</th>\n",
              "      <td>1.324505e+18</td>\n",
              "      <td>1.000000</td>\n",
              "      <td>0.000000</td>\n",
              "      <td>1.078344e+18</td>\n",
              "      <td>2.066000e+03</td>\n",
              "      <td>46.603354</td>\n",
              "      <td>6.776314</td>\n",
              "    </tr>\n",
              "    <tr>\n",
              "      <th>max</th>\n",
              "      <td>1.325589e+18</td>\n",
              "      <td>74084.000000</td>\n",
              "      <td>20491.000000</td>\n",
              "      <td>1.325581e+18</td>\n",
              "      <td>1.911533e+07</td>\n",
              "      <td>90.000000</td>\n",
              "      <td>179.048837</td>\n",
              "    </tr>\n",
              "  </tbody>\n",
              "</table>\n",
              "</div>"
            ],
            "text/plain": [
              "           tweet_id          likes  ...            lat           long\n",
              "count  9.709190e+05  970919.000000  ...  445719.000000  445719.000000\n",
              "mean   1.322494e+18       7.477011  ...      35.697936     -40.369638\n",
              "std    2.555133e+15     158.058117  ...      18.823129      67.531751\n",
              "min    1.316529e+18       0.000000  ...     -90.000000    -175.202642\n",
              "25%    1.320478e+18       0.000000  ...      32.701939     -96.796856\n",
              "50%    1.323612e+18       0.000000  ...      39.783730     -74.006015\n",
              "75%    1.324505e+18       1.000000  ...      46.603354       6.776314\n",
              "max    1.325589e+18   74084.000000  ...      90.000000     179.048837\n",
              "\n",
              "[8 rows x 7 columns]"
            ]
          },
          "metadata": {
            "tags": []
          },
          "execution_count": 18
        }
      ]
    },
    {
      "cell_type": "code",
      "metadata": {
        "colab": {
          "base_uri": "https://localhost:8080/",
          "height": 385
        },
        "id": "SBTI6EAA3c5A",
        "outputId": "50238d24-40a6-4d26-fcf3-9c6931ddf69e"
      },
      "source": [
        "g=sns.pairplot(df1, vars=['tweet_id','likes','retweet_count','user_id','user_followers_count','lat','long'], \r\n",
        "               plot_kws = {'alpha': 0.6, 's': 30, 'edgecolor': 'black'}, height=1.5, dropna=True)\r\n",
        "g.map_upper(sns.scatterplot, color='red')\r\n",
        "g.map_lower(sns.scatterplot, color='red')\r\n",
        "g.map_diag(plt.hist, color='red')"
      ],
      "execution_count": null,
      "outputs": [
        {
          "output_type": "error",
          "ename": "KeyboardInterrupt",
          "evalue": "ignored",
          "traceback": [
            "\u001b[0;31m---------------------------------------------------------------------------\u001b[0m",
            "\u001b[0;31mKeyboardInterrupt\u001b[0m                         Traceback (most recent call last)",
            "\u001b[0;32m<ipython-input-19-9f2337908dba>\u001b[0m in \u001b[0;36m<module>\u001b[0;34m()\u001b[0m\n\u001b[1;32m      1\u001b[0m g=sns.pairplot(df1, vars=['tweet_id','likes','retweet_count','user_id','user_followers_count','lat','long'], \n\u001b[0;32m----> 2\u001b[0;31m                plot_kws = {'alpha': 0.6, 's': 30, 'edgecolor': 'black'}, height=1.5, dropna=True)\n\u001b[0m\u001b[1;32m      3\u001b[0m \u001b[0mg\u001b[0m\u001b[0;34m.\u001b[0m\u001b[0mmap_upper\u001b[0m\u001b[0;34m(\u001b[0m\u001b[0msns\u001b[0m\u001b[0;34m.\u001b[0m\u001b[0mscatterplot\u001b[0m\u001b[0;34m,\u001b[0m \u001b[0mcolor\u001b[0m\u001b[0;34m=\u001b[0m\u001b[0;34m'red'\u001b[0m\u001b[0;34m)\u001b[0m\u001b[0;34m\u001b[0m\u001b[0;34m\u001b[0m\u001b[0m\n\u001b[1;32m      4\u001b[0m \u001b[0mg\u001b[0m\u001b[0;34m.\u001b[0m\u001b[0mmap_lower\u001b[0m\u001b[0;34m(\u001b[0m\u001b[0msns\u001b[0m\u001b[0;34m.\u001b[0m\u001b[0mscatterplot\u001b[0m\u001b[0;34m,\u001b[0m \u001b[0mcolor\u001b[0m\u001b[0;34m=\u001b[0m\u001b[0;34m'red'\u001b[0m\u001b[0;34m)\u001b[0m\u001b[0;34m\u001b[0m\u001b[0;34m\u001b[0m\u001b[0m\n\u001b[1;32m      5\u001b[0m \u001b[0mg\u001b[0m\u001b[0;34m.\u001b[0m\u001b[0mmap_diag\u001b[0m\u001b[0;34m(\u001b[0m\u001b[0mplt\u001b[0m\u001b[0;34m.\u001b[0m\u001b[0mhist\u001b[0m\u001b[0;34m,\u001b[0m \u001b[0mcolor\u001b[0m\u001b[0;34m=\u001b[0m\u001b[0;34m'red'\u001b[0m\u001b[0;34m)\u001b[0m\u001b[0;34m\u001b[0m\u001b[0;34m\u001b[0m\u001b[0m\n",
            "\u001b[0;32m/usr/local/lib/python3.6/dist-packages/seaborn/_decorators.py\u001b[0m in \u001b[0;36minner_f\u001b[0;34m(*args, **kwargs)\u001b[0m\n\u001b[1;32m     44\u001b[0m             )\n\u001b[1;32m     45\u001b[0m         \u001b[0mkwargs\u001b[0m\u001b[0;34m.\u001b[0m\u001b[0mupdate\u001b[0m\u001b[0;34m(\u001b[0m\u001b[0;34m{\u001b[0m\u001b[0mk\u001b[0m\u001b[0;34m:\u001b[0m \u001b[0marg\u001b[0m \u001b[0;32mfor\u001b[0m \u001b[0mk\u001b[0m\u001b[0;34m,\u001b[0m \u001b[0marg\u001b[0m \u001b[0;32min\u001b[0m \u001b[0mzip\u001b[0m\u001b[0;34m(\u001b[0m\u001b[0msig\u001b[0m\u001b[0;34m.\u001b[0m\u001b[0mparameters\u001b[0m\u001b[0;34m,\u001b[0m \u001b[0margs\u001b[0m\u001b[0;34m)\u001b[0m\u001b[0;34m}\u001b[0m\u001b[0;34m)\u001b[0m\u001b[0;34m\u001b[0m\u001b[0;34m\u001b[0m\u001b[0m\n\u001b[0;32m---> 46\u001b[0;31m         \u001b[0;32mreturn\u001b[0m \u001b[0mf\u001b[0m\u001b[0;34m(\u001b[0m\u001b[0;34m**\u001b[0m\u001b[0mkwargs\u001b[0m\u001b[0;34m)\u001b[0m\u001b[0;34m\u001b[0m\u001b[0;34m\u001b[0m\u001b[0m\n\u001b[0m\u001b[1;32m     47\u001b[0m     \u001b[0;32mreturn\u001b[0m \u001b[0minner_f\u001b[0m\u001b[0;34m\u001b[0m\u001b[0;34m\u001b[0m\u001b[0m\n\u001b[1;32m     48\u001b[0m \u001b[0;34m\u001b[0m\u001b[0m\n",
            "\u001b[0;32m/usr/local/lib/python3.6/dist-packages/seaborn/axisgrid.py\u001b[0m in \u001b[0;36mpairplot\u001b[0;34m(data, hue, hue_order, palette, vars, x_vars, y_vars, kind, diag_kind, markers, height, aspect, corner, dropna, plot_kws, diag_kws, grid_kws, size)\u001b[0m\n\u001b[1;32m   1959\u001b[0m     \u001b[0mdiag_kws\u001b[0m\u001b[0;34m.\u001b[0m\u001b[0msetdefault\u001b[0m\u001b[0;34m(\u001b[0m\u001b[0;34m\"legend\"\u001b[0m\u001b[0;34m,\u001b[0m \u001b[0;32mFalse\u001b[0m\u001b[0;34m)\u001b[0m\u001b[0;34m\u001b[0m\u001b[0;34m\u001b[0m\u001b[0m\n\u001b[1;32m   1960\u001b[0m     \u001b[0;32mif\u001b[0m \u001b[0mdiag_kind\u001b[0m \u001b[0;34m==\u001b[0m \u001b[0;34m\"hist\"\u001b[0m\u001b[0;34m:\u001b[0m\u001b[0;34m\u001b[0m\u001b[0;34m\u001b[0m\u001b[0m\n\u001b[0;32m-> 1961\u001b[0;31m         \u001b[0mgrid\u001b[0m\u001b[0;34m.\u001b[0m\u001b[0mmap_diag\u001b[0m\u001b[0;34m(\u001b[0m\u001b[0mhistplot\u001b[0m\u001b[0;34m,\u001b[0m \u001b[0;34m**\u001b[0m\u001b[0mdiag_kws\u001b[0m\u001b[0;34m)\u001b[0m\u001b[0;34m\u001b[0m\u001b[0;34m\u001b[0m\u001b[0m\n\u001b[0m\u001b[1;32m   1962\u001b[0m     \u001b[0;32melif\u001b[0m \u001b[0mdiag_kind\u001b[0m \u001b[0;34m==\u001b[0m \u001b[0;34m\"kde\"\u001b[0m\u001b[0;34m:\u001b[0m\u001b[0;34m\u001b[0m\u001b[0;34m\u001b[0m\u001b[0m\n\u001b[1;32m   1963\u001b[0m         \u001b[0mdiag_kws\u001b[0m\u001b[0;34m.\u001b[0m\u001b[0msetdefault\u001b[0m\u001b[0;34m(\u001b[0m\u001b[0;34m\"fill\"\u001b[0m\u001b[0;34m,\u001b[0m \u001b[0;32mTrue\u001b[0m\u001b[0;34m)\u001b[0m\u001b[0;34m\u001b[0m\u001b[0;34m\u001b[0m\u001b[0m\n",
            "\u001b[0;32m/usr/local/lib/python3.6/dist-packages/seaborn/axisgrid.py\u001b[0m in \u001b[0;36mmap_diag\u001b[0;34m(self, func, **kwargs)\u001b[0m\n\u001b[1;32m   1375\u001b[0m             \u001b[0mplot_kwargs\u001b[0m\u001b[0;34m.\u001b[0m\u001b[0msetdefault\u001b[0m\u001b[0;34m(\u001b[0m\u001b[0;34m\"hue_order\"\u001b[0m\u001b[0;34m,\u001b[0m \u001b[0mself\u001b[0m\u001b[0;34m.\u001b[0m\u001b[0m_hue_order\u001b[0m\u001b[0;34m)\u001b[0m\u001b[0;34m\u001b[0m\u001b[0;34m\u001b[0m\u001b[0m\n\u001b[1;32m   1376\u001b[0m             \u001b[0mplot_kwargs\u001b[0m\u001b[0;34m.\u001b[0m\u001b[0msetdefault\u001b[0m\u001b[0;34m(\u001b[0m\u001b[0;34m\"palette\"\u001b[0m\u001b[0;34m,\u001b[0m \u001b[0mself\u001b[0m\u001b[0;34m.\u001b[0m\u001b[0m_orig_palette\u001b[0m\u001b[0;34m)\u001b[0m\u001b[0;34m\u001b[0m\u001b[0;34m\u001b[0m\u001b[0m\n\u001b[0;32m-> 1377\u001b[0;31m             \u001b[0mfunc\u001b[0m\u001b[0;34m(\u001b[0m\u001b[0mx\u001b[0m\u001b[0;34m=\u001b[0m\u001b[0mvector\u001b[0m\u001b[0;34m,\u001b[0m \u001b[0;34m**\u001b[0m\u001b[0mplot_kwargs\u001b[0m\u001b[0;34m)\u001b[0m\u001b[0;34m\u001b[0m\u001b[0;34m\u001b[0m\u001b[0m\n\u001b[0m\u001b[1;32m   1378\u001b[0m             \u001b[0mself\u001b[0m\u001b[0;34m.\u001b[0m\u001b[0m_clean_axis\u001b[0m\u001b[0;34m(\u001b[0m\u001b[0max\u001b[0m\u001b[0;34m)\u001b[0m\u001b[0;34m\u001b[0m\u001b[0;34m\u001b[0m\u001b[0m\n\u001b[1;32m   1379\u001b[0m \u001b[0;34m\u001b[0m\u001b[0m\n",
            "\u001b[0;32m/usr/local/lib/python3.6/dist-packages/seaborn/distributions.py\u001b[0m in \u001b[0;36mhistplot\u001b[0;34m(data, x, y, hue, weights, stat, bins, binwidth, binrange, discrete, cumulative, common_bins, common_norm, multiple, element, fill, shrink, kde, kde_kws, line_kws, thresh, pthresh, pmax, cbar, cbar_ax, cbar_kws, palette, hue_order, hue_norm, color, log_scale, legend, ax, **kwargs)\u001b[0m\n\u001b[1;32m   1433\u001b[0m             \u001b[0mestimate_kws\u001b[0m\u001b[0;34m=\u001b[0m\u001b[0mestimate_kws\u001b[0m\u001b[0;34m,\u001b[0m\u001b[0;34m\u001b[0m\u001b[0;34m\u001b[0m\u001b[0m\n\u001b[1;32m   1434\u001b[0m             \u001b[0mline_kws\u001b[0m\u001b[0;34m=\u001b[0m\u001b[0mline_kws\u001b[0m\u001b[0;34m,\u001b[0m\u001b[0;34m\u001b[0m\u001b[0;34m\u001b[0m\u001b[0m\n\u001b[0;32m-> 1435\u001b[0;31m             \u001b[0;34m**\u001b[0m\u001b[0mkwargs\u001b[0m\u001b[0;34m,\u001b[0m\u001b[0;34m\u001b[0m\u001b[0;34m\u001b[0m\u001b[0m\n\u001b[0m\u001b[1;32m   1436\u001b[0m         )\n\u001b[1;32m   1437\u001b[0m \u001b[0;34m\u001b[0m\u001b[0m\n",
            "\u001b[0;32m/usr/local/lib/python3.6/dist-packages/seaborn/distributions.py\u001b[0m in \u001b[0;36mplot_univariate_histogram\u001b[0;34m(self, multiple, element, fill, common_norm, common_bins, shrink, kde, kde_kws, color, legend, line_kws, estimate_kws, **plot_kws)\u001b[0m\n\u001b[1;32m    558\u001b[0m                     \u001b[0mbottom\u001b[0m\u001b[0;34m,\u001b[0m\u001b[0;34m\u001b[0m\u001b[0;34m\u001b[0m\u001b[0m\n\u001b[1;32m    559\u001b[0m                     \u001b[0malign\u001b[0m\u001b[0;34m=\u001b[0m\u001b[0;34m\"edge\"\u001b[0m\u001b[0;34m,\u001b[0m\u001b[0;34m\u001b[0m\u001b[0;34m\u001b[0m\u001b[0m\n\u001b[0;32m--> 560\u001b[0;31m                     \u001b[0;34m**\u001b[0m\u001b[0martist_kws\u001b[0m\u001b[0;34m,\u001b[0m\u001b[0;34m\u001b[0m\u001b[0;34m\u001b[0m\u001b[0m\n\u001b[0m\u001b[1;32m    561\u001b[0m                 )\n\u001b[1;32m    562\u001b[0m                 \u001b[0;32mfor\u001b[0m \u001b[0mbar\u001b[0m \u001b[0;32min\u001b[0m \u001b[0martists\u001b[0m\u001b[0;34m:\u001b[0m\u001b[0;34m\u001b[0m\u001b[0;34m\u001b[0m\u001b[0m\n",
            "\u001b[0;32m/usr/local/lib/python3.6/dist-packages/matplotlib/__init__.py\u001b[0m in \u001b[0;36minner\u001b[0;34m(ax, data, *args, **kwargs)\u001b[0m\n\u001b[1;32m   1563\u001b[0m     \u001b[0;32mdef\u001b[0m \u001b[0minner\u001b[0m\u001b[0;34m(\u001b[0m\u001b[0max\u001b[0m\u001b[0;34m,\u001b[0m \u001b[0;34m*\u001b[0m\u001b[0margs\u001b[0m\u001b[0;34m,\u001b[0m \u001b[0mdata\u001b[0m\u001b[0;34m=\u001b[0m\u001b[0;32mNone\u001b[0m\u001b[0;34m,\u001b[0m \u001b[0;34m**\u001b[0m\u001b[0mkwargs\u001b[0m\u001b[0;34m)\u001b[0m\u001b[0;34m:\u001b[0m\u001b[0;34m\u001b[0m\u001b[0;34m\u001b[0m\u001b[0m\n\u001b[1;32m   1564\u001b[0m         \u001b[0;32mif\u001b[0m \u001b[0mdata\u001b[0m \u001b[0;32mis\u001b[0m \u001b[0;32mNone\u001b[0m\u001b[0;34m:\u001b[0m\u001b[0;34m\u001b[0m\u001b[0;34m\u001b[0m\u001b[0m\n\u001b[0;32m-> 1565\u001b[0;31m             \u001b[0;32mreturn\u001b[0m \u001b[0mfunc\u001b[0m\u001b[0;34m(\u001b[0m\u001b[0max\u001b[0m\u001b[0;34m,\u001b[0m \u001b[0;34m*\u001b[0m\u001b[0mmap\u001b[0m\u001b[0;34m(\u001b[0m\u001b[0msanitize_sequence\u001b[0m\u001b[0;34m,\u001b[0m \u001b[0margs\u001b[0m\u001b[0;34m)\u001b[0m\u001b[0;34m,\u001b[0m \u001b[0;34m**\u001b[0m\u001b[0mkwargs\u001b[0m\u001b[0;34m)\u001b[0m\u001b[0;34m\u001b[0m\u001b[0;34m\u001b[0m\u001b[0m\n\u001b[0m\u001b[1;32m   1566\u001b[0m \u001b[0;34m\u001b[0m\u001b[0m\n\u001b[1;32m   1567\u001b[0m         \u001b[0mbound\u001b[0m \u001b[0;34m=\u001b[0m \u001b[0mnew_sig\u001b[0m\u001b[0;34m.\u001b[0m\u001b[0mbind\u001b[0m\u001b[0;34m(\u001b[0m\u001b[0max\u001b[0m\u001b[0;34m,\u001b[0m \u001b[0;34m*\u001b[0m\u001b[0margs\u001b[0m\u001b[0;34m,\u001b[0m \u001b[0;34m**\u001b[0m\u001b[0mkwargs\u001b[0m\u001b[0;34m)\u001b[0m\u001b[0;34m\u001b[0m\u001b[0;34m\u001b[0m\u001b[0m\n",
            "\u001b[0;32m/usr/local/lib/python3.6/dist-packages/matplotlib/axes/_axes.py\u001b[0m in \u001b[0;36mbar\u001b[0;34m(self, x, height, width, bottom, align, **kwargs)\u001b[0m\n\u001b[1;32m   2402\u001b[0m             \u001b[0;32melif\u001b[0m \u001b[0morientation\u001b[0m \u001b[0;34m==\u001b[0m \u001b[0;34m'horizontal'\u001b[0m\u001b[0;34m:\u001b[0m\u001b[0;34m\u001b[0m\u001b[0;34m\u001b[0m\u001b[0m\n\u001b[1;32m   2403\u001b[0m                 \u001b[0mr\u001b[0m\u001b[0;34m.\u001b[0m\u001b[0msticky_edges\u001b[0m\u001b[0;34m.\u001b[0m\u001b[0mx\u001b[0m\u001b[0;34m.\u001b[0m\u001b[0mappend\u001b[0m\u001b[0;34m(\u001b[0m\u001b[0ml\u001b[0m\u001b[0;34m)\u001b[0m\u001b[0;34m\u001b[0m\u001b[0;34m\u001b[0m\u001b[0m\n\u001b[0;32m-> 2404\u001b[0;31m             \u001b[0mself\u001b[0m\u001b[0;34m.\u001b[0m\u001b[0madd_patch\u001b[0m\u001b[0;34m(\u001b[0m\u001b[0mr\u001b[0m\u001b[0;34m)\u001b[0m\u001b[0;34m\u001b[0m\u001b[0;34m\u001b[0m\u001b[0m\n\u001b[0m\u001b[1;32m   2405\u001b[0m             \u001b[0mpatches\u001b[0m\u001b[0;34m.\u001b[0m\u001b[0mappend\u001b[0m\u001b[0;34m(\u001b[0m\u001b[0mr\u001b[0m\u001b[0;34m)\u001b[0m\u001b[0;34m\u001b[0m\u001b[0;34m\u001b[0m\u001b[0m\n\u001b[1;32m   2406\u001b[0m \u001b[0;34m\u001b[0m\u001b[0m\n",
            "\u001b[0;32m/usr/local/lib/python3.6/dist-packages/matplotlib/axes/_base.py\u001b[0m in \u001b[0;36madd_patch\u001b[0;34m(self, p)\u001b[0m\n\u001b[1;32m   1917\u001b[0m         \u001b[0;32mif\u001b[0m \u001b[0mp\u001b[0m\u001b[0;34m.\u001b[0m\u001b[0mget_clip_path\u001b[0m\u001b[0;34m(\u001b[0m\u001b[0;34m)\u001b[0m \u001b[0;32mis\u001b[0m \u001b[0;32mNone\u001b[0m\u001b[0;34m:\u001b[0m\u001b[0;34m\u001b[0m\u001b[0;34m\u001b[0m\u001b[0m\n\u001b[1;32m   1918\u001b[0m             \u001b[0mp\u001b[0m\u001b[0;34m.\u001b[0m\u001b[0mset_clip_path\u001b[0m\u001b[0;34m(\u001b[0m\u001b[0mself\u001b[0m\u001b[0;34m.\u001b[0m\u001b[0mpatch\u001b[0m\u001b[0;34m)\u001b[0m\u001b[0;34m\u001b[0m\u001b[0;34m\u001b[0m\u001b[0m\n\u001b[0;32m-> 1919\u001b[0;31m         \u001b[0mself\u001b[0m\u001b[0;34m.\u001b[0m\u001b[0m_update_patch_limits\u001b[0m\u001b[0;34m(\u001b[0m\u001b[0mp\u001b[0m\u001b[0;34m)\u001b[0m\u001b[0;34m\u001b[0m\u001b[0;34m\u001b[0m\u001b[0m\n\u001b[0m\u001b[1;32m   1920\u001b[0m         \u001b[0mself\u001b[0m\u001b[0;34m.\u001b[0m\u001b[0mpatches\u001b[0m\u001b[0;34m.\u001b[0m\u001b[0mappend\u001b[0m\u001b[0;34m(\u001b[0m\u001b[0mp\u001b[0m\u001b[0;34m)\u001b[0m\u001b[0;34m\u001b[0m\u001b[0;34m\u001b[0m\u001b[0m\n\u001b[1;32m   1921\u001b[0m         \u001b[0mp\u001b[0m\u001b[0;34m.\u001b[0m\u001b[0m_remove_method\u001b[0m \u001b[0;34m=\u001b[0m \u001b[0mself\u001b[0m\u001b[0;34m.\u001b[0m\u001b[0mpatches\u001b[0m\u001b[0;34m.\u001b[0m\u001b[0mremove\u001b[0m\u001b[0;34m\u001b[0m\u001b[0;34m\u001b[0m\u001b[0m\n",
            "\u001b[0;32m/usr/local/lib/python3.6/dist-packages/matplotlib/axes/_base.py\u001b[0m in \u001b[0;36m_update_patch_limits\u001b[0;34m(self, patch)\u001b[0m\n\u001b[1;32m   1944\u001b[0m \u001b[0;34m\u001b[0m\u001b[0m\n\u001b[1;32m   1945\u001b[0m             \u001b[0mupdatex\u001b[0m\u001b[0;34m,\u001b[0m \u001b[0mupdatey\u001b[0m \u001b[0;34m=\u001b[0m \u001b[0mpatch\u001b[0m\u001b[0;34m.\u001b[0m\u001b[0mget_transform\u001b[0m\u001b[0;34m(\u001b[0m\u001b[0;34m)\u001b[0m\u001b[0;34m.\u001b[0m\u001b[0;31m\\\u001b[0m\u001b[0;34m\u001b[0m\u001b[0;34m\u001b[0m\u001b[0m\n\u001b[0;32m-> 1946\u001b[0;31m                 \u001b[0mcontains_branch_seperately\u001b[0m\u001b[0;34m(\u001b[0m\u001b[0mself\u001b[0m\u001b[0;34m.\u001b[0m\u001b[0mtransData\u001b[0m\u001b[0;34m)\u001b[0m\u001b[0;34m\u001b[0m\u001b[0;34m\u001b[0m\u001b[0m\n\u001b[0m\u001b[1;32m   1947\u001b[0m             self.update_datalim(xys, updatex=updatex,\n\u001b[1;32m   1948\u001b[0m                                 updatey=updatey)\n",
            "\u001b[0;32m/usr/local/lib/python3.6/dist-packages/matplotlib/transforms.py\u001b[0m in \u001b[0;36mcontains_branch_seperately\u001b[0;34m(self, other_transform)\u001b[0m\n\u001b[1;32m   1332\u001b[0m         \u001b[0;31m# for a non-blended transform each separate dimension is the same, so\u001b[0m\u001b[0;34m\u001b[0m\u001b[0;34m\u001b[0m\u001b[0;34m\u001b[0m\u001b[0m\n\u001b[1;32m   1333\u001b[0m         \u001b[0;31m# just return the appropriate shape.\u001b[0m\u001b[0;34m\u001b[0m\u001b[0;34m\u001b[0m\u001b[0;34m\u001b[0m\u001b[0m\n\u001b[0;32m-> 1334\u001b[0;31m         \u001b[0;32mreturn\u001b[0m \u001b[0;34m[\u001b[0m\u001b[0mself\u001b[0m\u001b[0;34m.\u001b[0m\u001b[0mcontains_branch\u001b[0m\u001b[0;34m(\u001b[0m\u001b[0mother_transform\u001b[0m\u001b[0;34m)\u001b[0m\u001b[0;34m]\u001b[0m \u001b[0;34m*\u001b[0m \u001b[0;36m2\u001b[0m\u001b[0;34m\u001b[0m\u001b[0;34m\u001b[0m\u001b[0m\n\u001b[0m\u001b[1;32m   1335\u001b[0m \u001b[0;34m\u001b[0m\u001b[0m\n\u001b[1;32m   1336\u001b[0m     \u001b[0;32mdef\u001b[0m \u001b[0m__sub__\u001b[0m\u001b[0;34m(\u001b[0m\u001b[0mself\u001b[0m\u001b[0;34m,\u001b[0m \u001b[0mother\u001b[0m\u001b[0;34m)\u001b[0m\u001b[0;34m:\u001b[0m\u001b[0;34m\u001b[0m\u001b[0;34m\u001b[0m\u001b[0m\n",
            "\u001b[0;32m/usr/local/lib/python3.6/dist-packages/matplotlib/transforms.py\u001b[0m in \u001b[0;36mcontains_branch\u001b[0;34m(self, other)\u001b[0m\n\u001b[1;32m   1307\u001b[0m \u001b[0;34m\u001b[0m\u001b[0m\n\u001b[1;32m   1308\u001b[0m         \"\"\"\n\u001b[0;32m-> 1309\u001b[0;31m         \u001b[0;32mif\u001b[0m \u001b[0mself\u001b[0m\u001b[0;34m.\u001b[0m\u001b[0mdepth\u001b[0m \u001b[0;34m<\u001b[0m \u001b[0mother\u001b[0m\u001b[0;34m.\u001b[0m\u001b[0mdepth\u001b[0m\u001b[0;34m:\u001b[0m\u001b[0;34m\u001b[0m\u001b[0;34m\u001b[0m\u001b[0m\n\u001b[0m\u001b[1;32m   1310\u001b[0m             \u001b[0;32mreturn\u001b[0m \u001b[0;32mFalse\u001b[0m\u001b[0;34m\u001b[0m\u001b[0;34m\u001b[0m\u001b[0m\n\u001b[1;32m   1311\u001b[0m \u001b[0;34m\u001b[0m\u001b[0m\n",
            "\u001b[0;32m/usr/local/lib/python3.6/dist-packages/matplotlib/transforms.py\u001b[0m in \u001b[0;36m<lambda>\u001b[0;34m(self)\u001b[0m\n\u001b[1;32m   2346\u001b[0m             \u001b[0;32myield\u001b[0m \u001b[0mself\u001b[0m\u001b[0;34m.\u001b[0m\u001b[0m_a\u001b[0m \u001b[0;34m+\u001b[0m \u001b[0mleft\u001b[0m\u001b[0;34m,\u001b[0m \u001b[0mright\u001b[0m\u001b[0;34m\u001b[0m\u001b[0;34m\u001b[0m\u001b[0m\n\u001b[1;32m   2347\u001b[0m \u001b[0;34m\u001b[0m\u001b[0m\n\u001b[0;32m-> 2348\u001b[0;31m     \u001b[0mdepth\u001b[0m \u001b[0;34m=\u001b[0m \u001b[0mproperty\u001b[0m\u001b[0;34m(\u001b[0m\u001b[0;32mlambda\u001b[0m \u001b[0mself\u001b[0m\u001b[0;34m:\u001b[0m \u001b[0mself\u001b[0m\u001b[0;34m.\u001b[0m\u001b[0m_a\u001b[0m\u001b[0;34m.\u001b[0m\u001b[0mdepth\u001b[0m \u001b[0;34m+\u001b[0m \u001b[0mself\u001b[0m\u001b[0;34m.\u001b[0m\u001b[0m_b\u001b[0m\u001b[0;34m.\u001b[0m\u001b[0mdepth\u001b[0m\u001b[0;34m)\u001b[0m\u001b[0;34m\u001b[0m\u001b[0;34m\u001b[0m\u001b[0m\n\u001b[0m\u001b[1;32m   2349\u001b[0m     \u001b[0mis_affine\u001b[0m \u001b[0;34m=\u001b[0m \u001b[0mproperty\u001b[0m\u001b[0;34m(\u001b[0m\u001b[0;32mlambda\u001b[0m \u001b[0mself\u001b[0m\u001b[0;34m:\u001b[0m \u001b[0mself\u001b[0m\u001b[0;34m.\u001b[0m\u001b[0m_a\u001b[0m\u001b[0;34m.\u001b[0m\u001b[0mis_affine\u001b[0m \u001b[0;32mand\u001b[0m \u001b[0mself\u001b[0m\u001b[0;34m.\u001b[0m\u001b[0m_b\u001b[0m\u001b[0;34m.\u001b[0m\u001b[0mis_affine\u001b[0m\u001b[0;34m)\u001b[0m\u001b[0;34m\u001b[0m\u001b[0;34m\u001b[0m\u001b[0m\n\u001b[1;32m   2350\u001b[0m     is_separable = property(\n",
            "\u001b[0;31mKeyboardInterrupt\u001b[0m: "
          ]
        }
      ]
    },
    {
      "cell_type": "code",
      "metadata": {
        "id": "vzXkTkbi3moU"
      },
      "source": [
        "df1.isnull().sum()"
      ],
      "execution_count": null,
      "outputs": []
    },
    {
      "cell_type": "markdown",
      "metadata": {
        "id": "WjAoniKL30T6"
      },
      "source": [
        "## Biden"
      ]
    },
    {
      "cell_type": "code",
      "metadata": {
        "id": "vQ7-cEvo3pUb"
      },
      "source": [
        "df2=pd.read_csv('/content/drive/MyDrive/US_elections/hashtag_joebiden.csv', lineterminator='\\n')\r\n",
        "df2.head(2).T"
      ],
      "execution_count": null,
      "outputs": []
    },
    {
      "cell_type": "code",
      "metadata": {
        "id": "Qz1DmE4J368g"
      },
      "source": [
        "df2.describe()"
      ],
      "execution_count": null,
      "outputs": []
    },
    {
      "cell_type": "code",
      "metadata": {
        "id": "p6kOCZU139r2"
      },
      "source": [
        "sns.pairplot(df2, vars=['tweet_id','likes','retweet_count','user_id','user_followers_count','lat','long'], \r\n",
        "             plot_kws = {'alpha': 0.6, 's': 30, 'edgecolor': 'k'}, height=1.5, dropna=True)"
      ],
      "execution_count": null,
      "outputs": []
    },
    {
      "cell_type": "code",
      "metadata": {
        "id": "Xli_voRA4AAF"
      },
      "source": [
        "df2.isnull().sum()"
      ],
      "execution_count": null,
      "outputs": []
    },
    {
      "cell_type": "markdown",
      "metadata": {
        "id": "AiPtGjLk4OZ1"
      },
      "source": [
        "# Further EDA"
      ]
    },
    {
      "cell_type": "code",
      "metadata": {
        "id": "zC5edsWq4Bno"
      },
      "source": [
        "# Reading both the csv files\r\n",
        "tweets_biden = pd.read_csv('/content/drive/MyDrive/US_elections/hashtag_joebiden.csv', lineterminator='\\n', parse_dates=True)\r\n",
        "tweets_trump = pd.read_csv('/content/drive/MyDrive/US_elections/hashtag_donaldtrump.csv', lineterminator='\\n', parse_dates=True)\r\n",
        "\r\n",
        "# Clean data\r\n",
        "tweets_biden['country'].replace({'United States':'United States of America'}, inplace=True)\r\n",
        "tweets_trump['country'].replace({'United States':'United States of America'}, inplace=True)\r\n",
        "\r\n",
        "\r\n",
        "# Add Features\r\n",
        "def normalise(x,y):\r\n",
        "    x = np.array(x)\r\n",
        "    y = np.array(y)\r\n",
        "    return np.where(x == 0, 0, x / y)\r\n",
        "\r\n",
        "def sentiment(data):\r\n",
        "    temp=[]\r\n",
        "    for row in data:\r\n",
        "        tmp=sid.polarity_scores(row)\r\n",
        "        temp.append(tmp)\r\n",
        "    return temp\r\n",
        "\r\n",
        "# convert to datetime object\r\n",
        "tweets_biden['user_join_date']=pd.to_datetime(tweets_biden['user_join_date'])\r\n",
        "tweets_trump['user_join_date']=pd.to_datetime(tweets_trump['user_join_date'])\r\n",
        "tweets_biden['collected_at']=pd.to_datetime(tweets_biden['collected_at'])\r\n",
        "tweets_trump['collected_at']=pd.to_datetime(tweets_trump['collected_at'])\r\n",
        "tweets_biden['created_at']=pd.to_datetime(tweets_biden['created_at'])\r\n",
        "tweets_trump['created_at']=pd.to_datetime(tweets_trump['created_at'])\r\n",
        "\r\n",
        "# create additional date time columns\r\n",
        "tweets_biden['created_at_r']=tweets_biden['created_at'].dt.strftime('%Y-%m-%d %H')\r\n",
        "tweets_trump['created_at_r']=tweets_trump['created_at'].dt.strftime('%Y-%m-%d %H')\r\n",
        "tweets_biden['created_at_r2']=tweets_biden['created_at'].dt.strftime('%m-%d')\r\n",
        "tweets_trump['created_at_r2']=tweets_trump['created_at'].dt.strftime('%m-%d')\r\n",
        "\r\n",
        "# normalise likes and retweets to allow fair analysis\r\n",
        "b_tdiff=(tweets_biden['collected_at'] - tweets_biden['created_at'])\r\n",
        "t_tdiff=(tweets_trump['collected_at'] - tweets_trump['created_at'])\r\n",
        "b_tdiff=(b_tdiff.dt.days * 24 + b_tdiff.dt.seconds / 3600)\r\n",
        "t_tdiff=(t_tdiff.dt.days * 24 + t_tdiff.dt.seconds / 3600)\r\n",
        "\r\n",
        "# Use numpy vectorisation to create new columns for normalised likes and retweets\r\n",
        "tweets_biden['likes_norm'] = normalise(tweets_biden['likes'],b_tdiff)\r\n",
        "tweets_biden['retweet_norm'] = normalise(tweets_biden['retweet_count'],b_tdiff)\r\n",
        "tweets_trump['likes_norm'] = normalise(tweets_trump['likes'],t_tdiff)\r\n",
        "tweets_trump['retweet_norm'] = normalise(tweets_trump['retweet_count'],t_tdiff)"
      ],
      "execution_count": 5,
      "outputs": []
    },
    {
      "cell_type": "code",
      "metadata": {
        "id": "0LSeedA04ffn"
      },
      "source": [
        "# Visualisation args\r\n",
        "cmap = sns.diverging_palette(0, 230, 90, 60, as_cmap=True)\r\n",
        "barcolors = ['#87B88C','#9ED2A1','#E7E8CB','#48A0C9','#2A58A1','#2E8B55','#DF3659','Grey']\r\n",
        "barstyle = {\"edgecolor\":\"black\", \"linewidth\":1}\r\n",
        "heatmap1_args = dict(annot=True, fmt='.0f', square=False, cmap=cm.get_cmap(\"RdGy\", 10), center = 90, vmin=0, vmax=10000, lw=4, cbar=False)\r\n",
        "heatmap2_args = dict(annot=True, fmt='.3f', square=False, cmap=\"Greens\", center = 0.5, lw=4, cbar=False)\r\n",
        "heatmap3_args = dict(annot=True, fmt='.0f', square=False, cmap=cmap, center = 9200, lw=4, cbar=False)\r\n",
        "\r\n",
        "def hide_axes(this_ax):\r\n",
        "    this_ax.set_frame_on(False)\r\n",
        "    this_ax.set_xticks([])\r\n",
        "    this_ax.set_yticks([])\r\n",
        "    return this_ax\r\n",
        "\r\n",
        "def draw_heatmap1(df,this_ax):\r\n",
        "    hm = sns.heatmap(df, ax = this_ax, **heatmap1_args)\r\n",
        "    this_ax.set_yticklabels(this_ax.get_yticklabels(), rotation=0)\r\n",
        "    this_ax.yaxis.tick_right()\r\n",
        "    this_ax.yaxis.set_label_position(\"right\")\r\n",
        "    for axis in ['top','bottom','left','right']:\r\n",
        "        this_ax.spines[axis].set_visible(True)\r\n",
        "        this_ax.spines[axis].set_color('black')\r\n",
        "    return hm \r\n",
        "\r\n",
        "def draw_heatmap2(df,this_ax):\r\n",
        "    hm = sns.heatmap(df, ax = this_ax, **heatmap2_args)\r\n",
        "    this_ax.set_yticklabels(this_ax.get_yticklabels(), rotation=0)\r\n",
        "    this_ax.yaxis.tick_right()\r\n",
        "    this_ax.yaxis.set_label_position(\"right\")\r\n",
        "    for axis in ['top','bottom','left','right']:\r\n",
        "        this_ax.spines[axis].set_visible(True)\r\n",
        "        this_ax.spines[axis].set_color('black')\r\n",
        "    return hm \r\n",
        "\r\n",
        "def draw_heatmap3(df,this_ax):\r\n",
        "    hm = sns.heatmap(df, ax = this_ax, **heatmap3_args)\r\n",
        "    this_ax.set_yticklabels(this_ax.get_yticklabels(), rotation=0)\r\n",
        "    this_ax.yaxis.tick_right()\r\n",
        "    this_ax.yaxis.set_label_position(\"right\")\r\n",
        "    for axis in ['top','bottom','left','right']:\r\n",
        "        this_ax.spines[axis].set_visible(True)\r\n",
        "        this_ax.spines[axis].set_color('black')\r\n",
        "    return hm \r\n",
        "\r\n",
        "def thousands1(x, pos):\r\n",
        "    'The two args are the value and tick position'\r\n",
        "    return '%1.0fK' % (x * 1e-3)\r\n",
        "\r\n",
        "formatterK1 = FuncFormatter(thousands1)\r\n",
        "\r\n",
        "def thousands2(x, pos):\r\n",
        "    'The two args are the value and tick position'\r\n",
        "    return '%1.1fK' % (x * 1e-3)\r\n",
        "\r\n",
        "formatterK2 = FuncFormatter(thousands2)"
      ],
      "execution_count": 6,
      "outputs": []
    },
    {
      "cell_type": "code",
      "metadata": {
        "colab": {
          "base_uri": "https://localhost:8080/",
          "height": 571
        },
        "id": "rY1S06hW4jeU",
        "outputId": "8bcfedee-2438-4396-8a76-37934dc8d123"
      },
      "source": [
        "na_vals_b=pd.DataFrame({'Null Values':tweets_biden.isna().sum()})\r\n",
        "na_vals_b=na_vals_b.loc[na_vals_b['Null Values'] > 0]\r\n",
        "na_vals_t=pd.DataFrame({'Null Values':tweets_trump.isna().sum()})\r\n",
        "na_vals_t=na_vals_t.loc[na_vals_t['Null Values'] > 0]\r\n",
        "\r\n",
        "# Null values visualisation for tweets about Joe Biden and Donald Trump\r\n",
        "fig, ax=plt.subplots(2,1, figsize=(8,8), gridspec_kw={'hspace':0.7})\r\n",
        "\r\n",
        "na_vals_b.plot.bar(color=barcolors[3], **barstyle, ax=ax[0])\r\n",
        "ax[0].set_title('Joe Biden Dataset')\r\n",
        "ax[0].set_xticklabels(ax[0].get_xticklabels(), rotation=90)\r\n",
        "\r\n",
        "na_vals_t.plot.bar(color=barcolors[6], **barstyle, ax=ax[1])\r\n",
        "ax[1].set_title('Donald Trump Dataset')\r\n",
        "ax[1].set_xticklabels(ax[1].get_xticklabels(), rotation=90)\r\n",
        "plt.show()"
      ],
      "execution_count": 7,
      "outputs": [
        {
          "output_type": "display_data",
          "data": {
            "image/png": "[encoded data removed]",
            "text/plain": [
              "<Figure size 576x576 with 2 Axes>"
            ]
          },
          "metadata": {
            "tags": [],
            "needs_background": "light"
          }
        }
      ]
    },
    {
      "cell_type": "code",
      "metadata": {
        "colab": {
          "base_uri": "https://localhost:8080/",
          "height": 638
        },
        "id": "IC_xoHik4l3j",
        "outputId": "ba1512e2-6052-4c20-afc9-1346d05e7ab7"
      },
      "source": [
        "source_df=pd.concat([tweets_biden[['source','tweet','country']].copy(),tweets_trump[['source','tweet','country']].copy()])\r\n",
        "source_df['country'].replace({'United States of America':'United States'}, inplace=True)\r\n",
        "source_df=source_df.fillna('Geo Data NA')\r\n",
        "source_df=source_df.drop_duplicates()\r\n",
        "\r\n",
        "sources=pd.DataFrame(source_df.groupby(['source'])['tweet'].count().sort_values(ascending=False)[:6])\r\n",
        "sources=sources.reset_index()\r\n",
        "sourceslst=sources.source.to_list()\r\n",
        "\r\n",
        "country=pd.DataFrame(source_df.groupby(['country'])['tweet'].count().sort_values(ascending=False)[:6])\r\n",
        "country=country.reset_index()\r\n",
        "countrylst=country.country.to_list()\r\n",
        "\r\n",
        "platXtab=pd.DataFrame(source_df.groupby(['source','country'])['tweet'].count().unstack().fillna(0))\r\n",
        "\r\n",
        "fig, ax=plt.subplots(2,2, figsize=(9,9), \r\n",
        "                     gridspec_kw={'height_ratios':[2,5], 'width_ratios':[2,5], 'wspace':0.1, 'hspace':0.1})\r\n",
        "\r\n",
        "hide_ax = ax[0,0]\r\n",
        "hide_axes(hide_ax)\r\n",
        "\r\n",
        "hm_ax = ax[1,1]\r\n",
        "draw_heatmap1(platXtab.loc[sourceslst,countrylst], hm_ax)\r\n",
        "hm_ax.set_xlabel('tweets country of origin')\r\n",
        "hm_ax.set_ylabel('platform used for tweets')\r\n",
        "hm_ax.set_yticklabels(('Twitter Web','iPhone','Android','iPad','TweetDeck','Hootsuite'), rotation=0) \r\n",
        "\r\n",
        "bar_ax = ax[0,1]\r\n",
        "platXtab.loc[sourceslst,countrylst].sum().plot.bar(ax=bar_ax, color=barcolors[1],**barstyle)\r\n",
        "bar_ax.set_xlabel(bar_ax.get_xlabel())\r\n",
        "bar_ax.xaxis.tick_top()\r\n",
        "bar_ax.xaxis.set_label_position(\"top\")\r\n",
        "bar_ax.yaxis.set_major_formatter(formatterK1)\r\n",
        "bar_ax.set_xticklabels(('NA', 'US', 'UK', 'CAN', 'GE','FRA'), rotation=0) \r\n",
        "bar_ax.set_xlabel('')\r\n",
        "bar_ax.set_ylabel('# tweets')\r\n",
        "\r\n",
        "barh_ax = ax[1,0]\r\n",
        "platXtab.loc[sourceslst,countrylst].sum(axis=1)[::-1].plot.barh(ax=barh_ax, color=barcolors[2],**barstyle)\r\n",
        "barh_ax.yaxis.set_label_position(\"left\")\r\n",
        "barh_ax.xaxis.tick_top()\r\n",
        "barh_ax.xaxis.set_label_position(\"top\")\r\n",
        "barh_ax.xaxis.set_major_formatter(formatterK1)\r\n",
        "barh_ax.set_xlim(barh_ax.get_xlim()[::-1])\r\n",
        "barh_ax.set_yticklabels(('Hootsuite','TweetDeck','iPad','Android','iPhone','Twitter Web'), rotation=0) \r\n",
        "barh_ax.set_xlabel('# tweets')\r\n",
        "barh_ax.set_ylabel('')\r\n",
        "plt.show()"
      ],
      "execution_count": 8,
      "outputs": [
        {
          "output_type": "display_data",
          "data": {
            "image/png": "[encoded data removed]",
            "text/plain": [
              "<Figure size 648x648 with 4 Axes>"
            ]
          },
          "metadata": {
            "tags": [],
            "needs_background": "light"
          }
        }
      ]
    },
    {
      "cell_type": "code",
      "metadata": {
        "colab": {
          "base_uri": "https://localhost:8080/"
        },
        "id": "gU537S2T6XPP",
        "outputId": "b5816e3d-bea6-4f69-9fc2-2b44c92cbb69"
      },
      "source": [
        "world=gpd.read_file(gpd.datasets.get_path('naturalearth_lowres'))\r\n",
        "from shapely.geometry import Point, Polygon\r\n",
        "crs = {'init': 'EPSG:4326'}\r\n",
        "\r\n",
        "tmp=pd.concat([tweets_biden[['lat','long']].copy(),tweets_trump[['lat','long']].copy()])\r\n",
        "tmp=tmp.dropna()\r\n",
        "geometry = [Point(xy) for xy in zip(tmp['long'],tmp['lat'])]\r\n",
        "geo_df=gpd.GeoDataFrame(tmp, crs=crs, geometry = geometry)"
      ],
      "execution_count": 9,
      "outputs": [
        {
          "output_type": "stream",
          "text": [
            "/usr/local/lib/python3.6/dist-packages/pyproj/crs/crs.py:53: FutureWarning: '+init=<authority>:<code>' syntax is deprecated. '<authority>:<code>' is the preferred initialization method. When making the change, be mindful of axis order changes: https://pyproj4.github.io/pyproj/stable/gotchas.html#axis-order-changes-in-proj-6\n",
            "  return _prepare_from_string(\" \".join(pjargs))\n"
          ],
          "name": "stderr"
        }
      ]
    },
    {
      "cell_type": "code",
      "metadata": {
        "colab": {
          "base_uri": "https://localhost:8080/"
        },
        "id": "wazK3cue6dhm",
        "outputId": "b27147a3-9296-49db-9e23-766c001e8953"
      },
      "source": [
        "%%time\r\n",
        "def detect_tweetlang(tweet):\r\n",
        "    try:\r\n",
        "        return detect(tweet)\r\n",
        "    except:\r\n",
        "        return 'unknown'\r\n",
        "\r\n",
        "# Combine two data files and drop duplicates\r\n",
        "lang_df=pd.concat([tweets_biden[['tweet','country']].copy(),tweets_trump[['tweet','country']].copy()])\r\n",
        "lang_df['country'].replace({'United States of America':'United States'}, inplace=True)\r\n",
        "lang_df=lang_df.fillna('Geo Data NA')\r\n",
        "lang_df=lang_df.drop_duplicates()\r\n",
        "\r\n",
        "# Randomly sample data for langauge analysis\r\n",
        "lang_smdf=lang_df.sample(n=4000).copy()\r\n",
        "lang_smdf['lang'] = lang_smdf['tweet'].apply(detect_tweetlang)\r\n",
        "\r\n",
        "# Select top five languages and five countries for heatmap\r\n",
        "langs=pd.DataFrame(lang_smdf.groupby(['lang'])['tweet'].count().sort_values(ascending=False)[:5])\r\n",
        "langs=langs.reset_index()\r\n",
        "langslst=langs.lang.to_list()\r\n",
        "\r\n",
        "country=pd.DataFrame(lang_smdf.groupby(['country'])['tweet'].count().sort_values(ascending=False)[:5])\r\n",
        "country=country.reset_index()\r\n",
        "countrylst=country.country.to_list()\r\n",
        "\r\n",
        "# Create a crosstab to feed data to heatmap\r\n",
        "langXtab=pd.crosstab(lang_smdf.lang, lang_smdf.country, normalize=True)"
      ],
      "execution_count": 10,
      "outputs": [
        {
          "output_type": "stream",
          "text": [
            "CPU times: user 30.8 s, sys: 248 ms, total: 31.1 s\n",
            "Wall time: 31.1 s\n"
          ],
          "name": "stdout"
        }
      ]
    },
    {
      "cell_type": "code",
      "metadata": {
        "id": "tY-Qi0Gq6mJO"
      },
      "source": [
        "# Identify the common UserId's in both datasets and create tables for feed visualisation\r\n",
        "common_ids=np.intersect1d(tweets_biden.user_id, tweets_trump.user_id)\r\n",
        "unique_b=tweets_biden[~tweets_biden.user_id.isin(common_ids)].copy()\r\n",
        "common_b=tweets_biden[tweets_biden.user_id.isin(common_ids)].copy()\r\n",
        "unique_t=tweets_trump[~tweets_trump.user_id.isin(common_ids)].copy()\r\n",
        "common_t=tweets_trump[tweets_trump.user_id.isin(common_ids)].copy()\r\n",
        "\r\n",
        "common_df=pd.concat([common_b,common_t])\r\n",
        "common_df=common_df.drop_duplicates()\r\n",
        "\r\n",
        "# Create columns for visualiation\r\n",
        "unique_b['usertype'] = 'Biden'\r\n",
        "unique_t['usertype'] = 'Trump'\r\n",
        "common_df['usertype'] = 'Both'\r\n",
        "\r\n",
        "# Narrow down data\r\n",
        "cont_df=pd.concat([unique_b[['tweet','continent','usertype']].copy(),\r\n",
        "                   unique_t[['tweet','continent','usertype']].copy(),\r\n",
        "                   common_df[['tweet','continent','usertype']].copy()])\r\n",
        "\r\n",
        "# Label NA Geo Data\r\n",
        "cont_df=cont_df.fillna('Geo Data NA')\r\n",
        "\r\n",
        "# Calculate tweet counts for each usertype and continuent\r\n",
        "usertype=pd.DataFrame(cont_df.groupby(['usertype'])['tweet'].count().sort_values(ascending=False))\r\n",
        "usertype=usertype.reset_index()\r\n",
        "userlst=usertype.usertype.tolist()\r\n",
        "\r\n",
        "continent=pd.DataFrame(cont_df.groupby(['continent'])['tweet'].count().sort_values(ascending=False)[:6])\r\n",
        "continent=continent.reset_index()\r\n",
        "contlst=continent.continent.to_list()\r\n",
        "\r\n",
        "# Create crosstab to feed heatmap\r\n",
        "contXtab=pd.crosstab(cont_df.continent, cont_df.usertype)"
      ],
      "execution_count": 11,
      "outputs": []
    },
    {
      "cell_type": "code",
      "metadata": {
        "colab": {
          "base_uri": "https://localhost:8080/",
          "height": 568
        },
        "id": "y14AMvti6uJN",
        "outputId": "5db0acb3-3dcd-45d2-848a-801e034fd136"
      },
      "source": [
        "fig, ax=plt.subplots(2,2, figsize=(5.5,9), \r\n",
        "                     gridspec_kw={'height_ratios':[2,5], 'width_ratios':[2,3], 'wspace':0.15, 'hspace':0.1})\r\n",
        "\r\n",
        "hide_ax = ax[0,0]\r\n",
        "hide_axes(hide_ax)\r\n",
        "\r\n",
        "hm_ax = ax[1,1]\r\n",
        "draw_heatmap3(contXtab.loc[contlst,userlst], hm_ax)\r\n",
        "hm_ax.set_xlabel('UserId Membership')\r\n",
        "hm_ax.set_ylabel('tweets continent of origin')\r\n",
        "\r\n",
        "bar_ax = ax[0,1]\r\n",
        "contXtab.loc[contlst,userlst].sum().plot.bar(ax=bar_ax, color=barcolors[7],**barstyle)\r\n",
        "bar_ax.set_xlabel(bar_ax.get_xlabel())\r\n",
        "bar_ax.xaxis.tick_top()\r\n",
        "bar_ax.xaxis.set_label_position(\"top\")\r\n",
        "bar_ax.yaxis.set_major_formatter(formatterK1)\r\n",
        "bar_ax.set_ylabel('# tweets')\r\n",
        "bar_ax.set_xlabel('')\r\n",
        "\r\n",
        "barh_ax = ax[1,0]\r\n",
        "contXtab.loc[contlst,userlst].sum(axis=1)[::-1].plot.barh(ax=barh_ax, color=barcolors[4],**barstyle)\r\n",
        "barh_ax.yaxis.set_label_position(\"left\")\r\n",
        "barh_ax.xaxis.tick_top()\r\n",
        "barh_ax.xaxis.set_label_position(\"top\")\r\n",
        "barh_ax.xaxis.set_major_formatter(formatterK1)\r\n",
        "barh_ax.set_xlim(barh_ax.get_xlim()[::-1])\r\n",
        "barh_ax.set_xlabel('# tweets')\r\n",
        "barh_ax.set_ylabel('')\r\n",
        "\r\n",
        "plt.show()"
      ],
      "execution_count": 12,
      "outputs": [
        {
          "output_type": "display_data",
          "data": {
            "image/png": "[encoded data removed]",
            "text/plain": [
              "<Figure size 396x648 with 4 Axes>"
            ]
          },
          "metadata": {
            "tags": [],
            "needs_background": "light"
          }
        }
      ]
    },
    {
      "cell_type": "code",
      "metadata": {
        "id": "KmbTB7aL6wCc"
      },
      "source": [
        ""
      ],
      "execution_count": null,
      "outputs": []
    }
  ]
}