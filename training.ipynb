{
  "nbformat": 4,
  "nbformat_minor": 0,
  "metadata": {
    "colab": {
      "name": "training.ipynb",
      "provenance": [],
      "authorship_tag": "ABX9TyMrV23BrhpmQs6Wp9Cg6fIF",
      "include_colab_link": true
    },
    "kernelspec": {
      "name": "python3",
      "display_name": "Python 3"
    }
  },
  "cells": [
    {
      "cell_type": "markdown",
      "metadata": {
        "id": "view-in-github",
        "colab_type": "text"
      },
      "source": [
        "<a href=\"https://colab.research.google.com/github/sydney-machine-learning/sentimentanalysis-USelections/blob/main/training.ipynb\" target=\"_parent\"><img src=\"https://colab.research.google.com/assets/colab-badge.svg\" alt=\"Open In Colab\"/></a>"
      ]
    },
    {
      "cell_type": "code",
      "metadata": {
        "id": "3_gecKCtA6bL"
      },
      "source": [
        "import numpy as np\r\n",
        "import pandas as pd\r\n",
        "import seaborn as sns\r\n",
        "import matplotlib.pyplot as plt\r\n",
        "from textblob import TextBlob \r\n",
        "%matplotlib inline"
      ],
      "execution_count": 1,
      "outputs": []
    },
    {
      "cell_type": "code",
      "metadata": {
        "colab": {
          "base_uri": "https://localhost:8080/"
        },
        "id": "zViL6DATGMpY",
        "outputId": "c89d3cac-c591-4e19-f5af-c2fe5f359a49"
      },
      "source": [
        "from google.colab import drive\n",
        "drive.mount('/content/drive')"
      ],
      "execution_count": 2,
      "outputs": [
        {
          "output_type": "stream",
          "text": [
            "Mounted at /content/drive\n"
          ],
          "name": "stdout"
        }
      ]
    },
    {
      "cell_type": "code",
      "metadata": {
        "colab": {
          "base_uri": "https://localhost:8080/"
        },
        "id": "itKQhBWxGFJG",
        "outputId": "a7c811e2-aaf3-4041-9dcd-f63096827dbc"
      },
      "source": [
        "# read the tweets\r\n",
        "trump_df = pd.read_csv(\"/content/drive/MyDrive/US_elections/cleaned_sample_100_biden.csv\")\r\n",
        "biden_df = pd.read_csv(\"/content/drive/MyDrive/US_elections/cleaned_sample_100_biden.csv\")"
      ],
      "execution_count": 3,
      "outputs": [
        {
          "output_type": "stream",
          "text": [
            "/usr/local/lib/python3.6/dist-packages/IPython/core/interactiveshell.py:2718: DtypeWarning: Columns (0,2,3) have mixed types.Specify dtype option on import or set low_memory=False.\n",
            "  interactivity=interactivity, compiler=compiler, result=result)\n"
          ],
          "name": "stderr"
        }
      ]
    },
    {
      "cell_type": "code",
      "metadata": {
        "id": "b0nA-L6iT4nM"
      },
      "source": [
        "#Define classes for cleaning our data and analyzing sentiment/subjectivity\r\n",
        "\r\n",
        "#Class to clean tweets and remove text which is not useful for analysis\r\n",
        "def clean_tweet(tweet):\r\n",
        "    return ' '.join(re.sub(\"(@[A-Za-z0-9]+)|([^0-9A-Za-z \\t])|(\\w+:\\/\\/\\S+)\", \" \", tweet).split())\r\n",
        "\r\n",
        "#Class to analyze the sentiment of tweets, either positive, neutral or negative\r\n",
        "def analyze_sentiment(tweet):\r\n",
        "    analysis = TextBlob(tweet)\r\n",
        "    if analysis.sentiment.polarity > 0:\r\n",
        "        return 'Positive'\r\n",
        "    elif analysis.sentiment.polarity ==0:\r\n",
        "        return 'Neutral'\r\n",
        "    else:\r\n",
        "        return 'Negative'\r\n",
        "\r\n",
        "#Class to analyze the subjectivity of tweets, either subjective, neutral or not subjective\r\n",
        "def analyze_subjectivity(tweet):\r\n",
        "    analysis = TextBlob(tweet)\r\n",
        "        \r\n",
        "    if analysis.sentiment.subjectivity > 0:\r\n",
        "        return 1\r\n",
        "    elif analysis.sentiment.subjectivity == 0:\r\n",
        "        return 0\r\n",
        "    else:\r\n",
        "        return -1 \r\n",
        "\r\n",
        "#Class to analyze sentiment on a scale of -1 (negative) to 1 (positive)\r\n",
        "def analyze_sentiment_d(tweet):\r\n",
        "    analysis = TextBlob(clean_tweet(tweet))\r\n",
        "        \r\n",
        "    return analysis.sentiment.polarity\r\n",
        "\r\n",
        "#Class to analyze subjectivity on a scale of -1 (not subjective) to 1 (subjective)\r\n",
        "def analyze_subjectivity_d(tweet):\r\n",
        "    analysis = TextBlob(clean_tweet(tweet))\r\n",
        "        \r\n",
        "    return analysis.sentiment.subjectivity"
      ],
      "execution_count": 37,
      "outputs": []
    },
    {
      "cell_type": "code",
      "metadata": {
        "colab": {
          "base_uri": "https://localhost:8080/",
          "height": 195
        },
        "id": "ql4sjGu_UgkV",
        "outputId": "013aa313-a6ff-49e5-edce-18eaa3021290"
      },
      "source": [
        "trump_df.head()"
      ],
      "execution_count": 41,
      "outputs": [
        {
          "output_type": "execute_result",
          "data": {
            "text/html": [
              "<div>\n",
              "<style scoped>\n",
              "    .dataframe tbody tr th:only-of-type {\n",
              "        vertical-align: middle;\n",
              "    }\n",
              "\n",
              "    .dataframe tbody tr th {\n",
              "        vertical-align: top;\n",
              "    }\n",
              "\n",
              "    .dataframe thead th {\n",
              "        text-align: right;\n",
              "    }\n",
              "</style>\n",
              "<table border=\"1\" class=\"dataframe\">\n",
              "  <thead>\n",
              "    <tr style=\"text-align: right;\">\n",
              "      <th></th>\n",
              "      <th>user_id</th>\n",
              "      <th>tweet</th>\n",
              "      <th>long</th>\n",
              "      <th>lat</th>\n",
              "      <th>state_code</th>\n",
              "      <th>sentiment</th>\n",
              "      <th>text</th>\n",
              "    </tr>\n",
              "  </thead>\n",
              "  <tbody>\n",
              "    <tr>\n",
              "      <th>0</th>\n",
              "      <td>531.0</td>\n",
              "      <td>TwitchSupport I know you are busy trying to st...</td>\n",
              "      <td>-73.992602</td>\n",
              "      <td>40.7422</td>\n",
              "      <td>NY</td>\n",
              "      <td>0.0</td>\n",
              "      <td>TwitchSupport I know you are busy trying to st...</td>\n",
              "    </tr>\n",
              "    <tr>\n",
              "      <th>1</th>\n",
              "      <td>2654.0</td>\n",
              "      <td>RickSantorum  you are soo delusional that Trum...</td>\n",
              "      <td>-72.03236600000002</td>\n",
              "      <td>42.3789</td>\n",
              "      <td>MA</td>\n",
              "      <td>0.0</td>\n",
              "      <td>RickSantorum  you are soo delusional that Trum...</td>\n",
              "    </tr>\n",
              "    <tr>\n",
              "      <th>2</th>\n",
              "      <td>2654.0</td>\n",
              "      <td>Wonderful irony that a major factor in AZ was ...</td>\n",
              "      <td>-72.03236600000002</td>\n",
              "      <td>42.3789</td>\n",
              "      <td>MA</td>\n",
              "      <td>0.0</td>\n",
              "      <td>Wonderful irony that a major factor in AZ was ...</td>\n",
              "    </tr>\n",
              "    <tr>\n",
              "      <th>3</th>\n",
              "      <td>2654.0</td>\n",
              "      <td>OK, Trump Cabinet youve totally wimped out on ...</td>\n",
              "      <td>-72.03236600000002</td>\n",
              "      <td>42.3789</td>\n",
              "      <td>MA</td>\n",
              "      <td>0.0</td>\n",
              "      <td>OK, Trump Cabinet youve totally wimped out on ...</td>\n",
              "    </tr>\n",
              "    <tr>\n",
              "      <th>4</th>\n",
              "      <td>2654.0</td>\n",
              "      <td>Kinda think it would be cool to dust off an ol...</td>\n",
              "      <td>-72.03236600000002</td>\n",
              "      <td>42.3789</td>\n",
              "      <td>MA</td>\n",
              "      <td>0.0</td>\n",
              "      <td>Kinda think it would be cool to dust off an ol...</td>\n",
              "    </tr>\n",
              "  </tbody>\n",
              "</table>\n",
              "</div>"
            ],
            "text/plain": [
              "  user_id  ...                                               text\n",
              "0   531.0  ...  TwitchSupport I know you are busy trying to st...\n",
              "1  2654.0  ...  RickSantorum  you are soo delusional that Trum...\n",
              "2  2654.0  ...  Wonderful irony that a major factor in AZ was ...\n",
              "3  2654.0  ...  OK, Trump Cabinet youve totally wimped out on ...\n",
              "4  2654.0  ...  Kinda think it would be cool to dust off an ol...\n",
              "\n",
              "[5 rows x 7 columns]"
            ]
          },
          "metadata": {
            "tags": []
          },
          "execution_count": 41
        }
      ]
    },
    {
      "cell_type": "code",
      "metadata": {
        "id": "RU17SlTjT46L"
      },
      "source": [
        "#Clean tweets\r\n",
        "import re\r\n",
        "trump_df['tweet'] = trump_df['tweet'].astype(str)\r\n",
        "trump_df['clean_tweet'] = trump_df['tweet'].apply(lambda x: clean_tweet(x))"
      ],
      "execution_count": 43,
      "outputs": []
    },
    {
      "cell_type": "code",
      "metadata": {
        "id": "d0-4d8-3UafM"
      },
      "source": [
        "biden_df['tweet'] = biden_df['tweet'].astype(str)\r\n",
        "biden_df['clean_tweet'] = biden_df['tweet'].apply(lambda x: clean_tweet(x))"
      ],
      "execution_count": 44,
      "outputs": []
    },
    {
      "cell_type": "code",
      "metadata": {
        "colab": {
          "base_uri": "https://localhost:8080/",
          "height": 279
        },
        "id": "vUX4Ji8pVVWS",
        "outputId": "b1e3cbef-e9ff-4a89-832e-e81dcce69e8f"
      },
      "source": [
        "trump_df.head()"
      ],
      "execution_count": 45,
      "outputs": [
        {
          "output_type": "execute_result",
          "data": {
            "text/html": [
              "<div>\n",
              "<style scoped>\n",
              "    .dataframe tbody tr th:only-of-type {\n",
              "        vertical-align: middle;\n",
              "    }\n",
              "\n",
              "    .dataframe tbody tr th {\n",
              "        vertical-align: top;\n",
              "    }\n",
              "\n",
              "    .dataframe thead th {\n",
              "        text-align: right;\n",
              "    }\n",
              "</style>\n",
              "<table border=\"1\" class=\"dataframe\">\n",
              "  <thead>\n",
              "    <tr style=\"text-align: right;\">\n",
              "      <th></th>\n",
              "      <th>user_id</th>\n",
              "      <th>tweet</th>\n",
              "      <th>long</th>\n",
              "      <th>lat</th>\n",
              "      <th>state_code</th>\n",
              "      <th>sentiment</th>\n",
              "      <th>text</th>\n",
              "      <th>clean_tweet</th>\n",
              "    </tr>\n",
              "  </thead>\n",
              "  <tbody>\n",
              "    <tr>\n",
              "      <th>0</th>\n",
              "      <td>531.0</td>\n",
              "      <td>TwitchSupport I know you are busy trying to st...</td>\n",
              "      <td>-73.992602</td>\n",
              "      <td>40.7422</td>\n",
              "      <td>NY</td>\n",
              "      <td>0.0</td>\n",
              "      <td>TwitchSupport I know you are busy trying to st...</td>\n",
              "      <td>TwitchSupport I know you are busy trying to st...</td>\n",
              "    </tr>\n",
              "    <tr>\n",
              "      <th>1</th>\n",
              "      <td>2654.0</td>\n",
              "      <td>RickSantorum  you are soo delusional that Trum...</td>\n",
              "      <td>-72.03236600000002</td>\n",
              "      <td>42.3789</td>\n",
              "      <td>MA</td>\n",
              "      <td>0.0</td>\n",
              "      <td>RickSantorum  you are soo delusional that Trum...</td>\n",
              "      <td>RickSantorum you are soo delusional that Trump...</td>\n",
              "    </tr>\n",
              "    <tr>\n",
              "      <th>2</th>\n",
              "      <td>2654.0</td>\n",
              "      <td>Wonderful irony that a major factor in AZ was ...</td>\n",
              "      <td>-72.03236600000002</td>\n",
              "      <td>42.3789</td>\n",
              "      <td>MA</td>\n",
              "      <td>0.0</td>\n",
              "      <td>Wonderful irony that a major factor in AZ was ...</td>\n",
              "      <td>Wonderful irony that a major factor in AZ was ...</td>\n",
              "    </tr>\n",
              "    <tr>\n",
              "      <th>3</th>\n",
              "      <td>2654.0</td>\n",
              "      <td>OK, Trump Cabinet youve totally wimped out on ...</td>\n",
              "      <td>-72.03236600000002</td>\n",
              "      <td>42.3789</td>\n",
              "      <td>MA</td>\n",
              "      <td>0.0</td>\n",
              "      <td>OK, Trump Cabinet youve totally wimped out on ...</td>\n",
              "      <td>OK Trump Cabinet youve totally wimped out on c...</td>\n",
              "    </tr>\n",
              "    <tr>\n",
              "      <th>4</th>\n",
              "      <td>2654.0</td>\n",
              "      <td>Kinda think it would be cool to dust off an ol...</td>\n",
              "      <td>-72.03236600000002</td>\n",
              "      <td>42.3789</td>\n",
              "      <td>MA</td>\n",
              "      <td>0.0</td>\n",
              "      <td>Kinda think it would be cool to dust off an ol...</td>\n",
              "      <td>Kinda think it would be cool to dust off an ol...</td>\n",
              "    </tr>\n",
              "  </tbody>\n",
              "</table>\n",
              "</div>"
            ],
            "text/plain": [
              "  user_id  ...                                        clean_tweet\n",
              "0   531.0  ...  TwitchSupport I know you are busy trying to st...\n",
              "1  2654.0  ...  RickSantorum you are soo delusional that Trump...\n",
              "2  2654.0  ...  Wonderful irony that a major factor in AZ was ...\n",
              "3  2654.0  ...  OK Trump Cabinet youve totally wimped out on c...\n",
              "4  2654.0  ...  Kinda think it would be cool to dust off an ol...\n",
              "\n",
              "[5 rows x 8 columns]"
            ]
          },
          "metadata": {
            "tags": []
          },
          "execution_count": 45
        }
      ]
    },
    {
      "cell_type": "code",
      "metadata": {
        "id": "NzP-L81jVaTB"
      },
      "source": [
        ""
      ],
      "execution_count": null,
      "outputs": []
    }
  ]
}